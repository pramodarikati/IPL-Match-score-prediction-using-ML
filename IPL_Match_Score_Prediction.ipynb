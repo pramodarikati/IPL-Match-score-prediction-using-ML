{
  "nbformat": 4,
  "nbformat_minor": 0,
  "metadata": {
    "colab": {
      "name": "Indian Premier League Match Score Prediction using Machine Learning ALgorithms",
      "provenance": [],
      "collapsed_sections": [
        "FCckmug5Nh4x",
        "jrxbGfojNh44"
      ]
    },
    "kernelspec": {
      "display_name": "Python 3",
      "name": "python3"
    },
    "language_info": {
      "name": "python"
    }
  },
  "cells": [
    {
      "cell_type": "markdown",
      "metadata": {
        "id": "XXANqVFFNh2q"
      },
      "source": [
        "# Indian Premier League Match Score Prediction using Machine Learning ALgorithms"
      ]
    },
    {
      "cell_type": "code",
      "metadata": {
        "id": "60pogFOZNh27"
      },
      "source": [
        "##importing the required libraries\n",
        "import pandas as pd\n",
        "import matplotlib.pyplot as plt\n",
        "\n",
        "import warnings\n",
        "warnings.filterwarnings('ignore')"
      ],
      "execution_count": 447,
      "outputs": []
    },
    {
      "cell_type": "code",
      "metadata": {
        "colab": {
          "base_uri": "https://localhost:8080/",
          "height": 445
        },
        "id": "uuduxH1JNh2_",
        "outputId": "95927b1f-35f1-49b1-b876-f85e74392fc2"
      },
      "source": [
        "##loading the csv files into dataframes\n",
        "match_df = pd.read_csv(\"data/matches.csv\")\n",
        "dlvr_df = pd.read_csv(\"data/deliveries.csv\")\n",
        "match_df.sample(5)"
      ],
      "execution_count": 448,
      "outputs": [
        {
          "output_type": "execute_result",
          "data": {
            "text/html": [
              "<div>\n",
              "<style scoped>\n",
              "    .dataframe tbody tr th:only-of-type {\n",
              "        vertical-align: middle;\n",
              "    }\n",
              "\n",
              "    .dataframe tbody tr th {\n",
              "        vertical-align: top;\n",
              "    }\n",
              "\n",
              "    .dataframe thead th {\n",
              "        text-align: right;\n",
              "    }\n",
              "</style>\n",
              "<table border=\"1\" class=\"dataframe\">\n",
              "  <thead>\n",
              "    <tr style=\"text-align: right;\">\n",
              "      <th></th>\n",
              "      <th>id</th>\n",
              "      <th>city</th>\n",
              "      <th>date</th>\n",
              "      <th>player_of_match</th>\n",
              "      <th>venue</th>\n",
              "      <th>neutral_venue</th>\n",
              "      <th>team1</th>\n",
              "      <th>team2</th>\n",
              "      <th>toss_winner</th>\n",
              "      <th>toss_decision</th>\n",
              "      <th>winner</th>\n",
              "      <th>result</th>\n",
              "      <th>result_margin</th>\n",
              "      <th>eliminator</th>\n",
              "      <th>method</th>\n",
              "      <th>umpire1</th>\n",
              "      <th>umpire2</th>\n",
              "      <th>Unnamed: 17</th>\n",
              "      <th>win_by_runs</th>\n",
              "      <th>win_by_wickets</th>\n",
              "    </tr>\n",
              "  </thead>\n",
              "  <tbody>\n",
              "    <tr>\n",
              "      <th>610</th>\n",
              "      <td>1082625</td>\n",
              "      <td>Rajkot</td>\n",
              "      <td>29-04-2017</td>\n",
              "      <td>KH Pandya</td>\n",
              "      <td>Saurashtra Cricket Association Stadium</td>\n",
              "      <td>0</td>\n",
              "      <td>Gujarat Lions</td>\n",
              "      <td>Mumbai Indians</td>\n",
              "      <td>Gujarat Lions</td>\n",
              "      <td>bat</td>\n",
              "      <td>Mumbai Indians</td>\n",
              "      <td>tie</td>\n",
              "      <td>NaN</td>\n",
              "      <td>Y</td>\n",
              "      <td>NaN</td>\n",
              "      <td>AK Chaudhary</td>\n",
              "      <td>CB Gaffaney</td>\n",
              "      <td>NaN</td>\n",
              "      <td>0.0</td>\n",
              "      <td>7.0</td>\n",
              "    </tr>\n",
              "    <tr>\n",
              "      <th>609</th>\n",
              "      <td>1082624</td>\n",
              "      <td>Pune</td>\n",
              "      <td>29-04-2017</td>\n",
              "      <td>LH Ferguson</td>\n",
              "      <td>Maharashtra Cricket Association Stadium</td>\n",
              "      <td>0</td>\n",
              "      <td>Rising Pune Supergiant</td>\n",
              "      <td>Royal Challengers Bangalore</td>\n",
              "      <td>Royal Challengers Bangalore</td>\n",
              "      <td>field</td>\n",
              "      <td>Rising Pune Supergiant</td>\n",
              "      <td>runs</td>\n",
              "      <td>61.0</td>\n",
              "      <td>N</td>\n",
              "      <td>NaN</td>\n",
              "      <td>KN Ananthapadmanabhan</td>\n",
              "      <td>M Erasmus</td>\n",
              "      <td>NaN</td>\n",
              "      <td>0.0</td>\n",
              "      <td>5.0</td>\n",
              "    </tr>\n",
              "    <tr>\n",
              "      <th>722</th>\n",
              "      <td>1178402</td>\n",
              "      <td>Mumbai</td>\n",
              "      <td>13-04-2019</td>\n",
              "      <td>JC Buttler</td>\n",
              "      <td>Wankhede Stadium</td>\n",
              "      <td>0</td>\n",
              "      <td>Mumbai Indians</td>\n",
              "      <td>Rajasthan Royals</td>\n",
              "      <td>Rajasthan Royals</td>\n",
              "      <td>field</td>\n",
              "      <td>Rajasthan Royals</td>\n",
              "      <td>wickets</td>\n",
              "      <td>4.0</td>\n",
              "      <td>N</td>\n",
              "      <td>NaN</td>\n",
              "      <td>Nitin Menon</td>\n",
              "      <td>A Nand Kishore</td>\n",
              "      <td>NaN</td>\n",
              "      <td>0.0</td>\n",
              "      <td>4.0</td>\n",
              "    </tr>\n",
              "    <tr>\n",
              "      <th>128</th>\n",
              "      <td>419119</td>\n",
              "      <td>Mumbai</td>\n",
              "      <td>20-03-2010</td>\n",
              "      <td>JH Kallis</td>\n",
              "      <td>Brabourne Stadium</td>\n",
              "      <td>0</td>\n",
              "      <td>Mumbai Indians</td>\n",
              "      <td>Royal Challengers Bangalore</td>\n",
              "      <td>Mumbai Indians</td>\n",
              "      <td>bat</td>\n",
              "      <td>Royal Challengers Bangalore</td>\n",
              "      <td>wickets</td>\n",
              "      <td>7.0</td>\n",
              "      <td>N</td>\n",
              "      <td>NaN</td>\n",
              "      <td>HDPK Dharmasena</td>\n",
              "      <td>SS Hazare</td>\n",
              "      <td>NaN</td>\n",
              "      <td>0.0</td>\n",
              "      <td>6.0</td>\n",
              "    </tr>\n",
              "    <tr>\n",
              "      <th>234</th>\n",
              "      <td>501258</td>\n",
              "      <td>Indore</td>\n",
              "      <td>15-05-2011</td>\n",
              "      <td>BJ Hodge</td>\n",
              "      <td>Holkar Cricket Stadium</td>\n",
              "      <td>0</td>\n",
              "      <td>Kochi Tuskers Kerala</td>\n",
              "      <td>Rajasthan Royals</td>\n",
              "      <td>Kochi Tuskers Kerala</td>\n",
              "      <td>field</td>\n",
              "      <td>Kochi Tuskers Kerala</td>\n",
              "      <td>wickets</td>\n",
              "      <td>8.0</td>\n",
              "      <td>N</td>\n",
              "      <td>NaN</td>\n",
              "      <td>PR Reiffel</td>\n",
              "      <td>RJ Tucker</td>\n",
              "      <td>NaN</td>\n",
              "      <td>2.0</td>\n",
              "      <td>0.0</td>\n",
              "    </tr>\n",
              "  </tbody>\n",
              "</table>\n",
              "</div>"
            ],
            "text/plain": [
              "          id    city        date  ... Unnamed: 17 win_by_runs  win_by_wickets\n",
              "610  1082625  Rajkot  29-04-2017  ...         NaN         0.0             7.0\n",
              "609  1082624    Pune  29-04-2017  ...         NaN         0.0             5.0\n",
              "722  1178402  Mumbai  13-04-2019  ...         NaN         0.0             4.0\n",
              "128   419119  Mumbai  20-03-2010  ...         NaN         0.0             6.0\n",
              "234   501258  Indore  15-05-2011  ...         NaN         2.0             0.0\n",
              "\n",
              "[5 rows x 20 columns]"
            ]
          },
          "metadata": {
            "tags": []
          },
          "execution_count": 448
        }
      ]
    },
    {
      "cell_type": "code",
      "metadata": {
        "colab": {
          "base_uri": "https://localhost:8080/"
        },
        "id": "2pRfCVF7Nh3F",
        "outputId": "fad15e95-f612-4aef-e701-ebe6c4560070"
      },
      "source": [
        "match_df.info()"
      ],
      "execution_count": 449,
      "outputs": [
        {
          "output_type": "stream",
          "text": [
            "<class 'pandas.core.frame.DataFrame'>\n",
            "RangeIndex: 816 entries, 0 to 815\n",
            "Data columns (total 20 columns):\n",
            " #   Column           Non-Null Count  Dtype  \n",
            "---  ------           --------------  -----  \n",
            " 0   id               816 non-null    int64  \n",
            " 1   city             803 non-null    object \n",
            " 2   date             816 non-null    object \n",
            " 3   player_of_match  812 non-null    object \n",
            " 4   venue            816 non-null    object \n",
            " 5   neutral_venue    816 non-null    int64  \n",
            " 6   team1            816 non-null    object \n",
            " 7   team2            816 non-null    object \n",
            " 8   toss_winner      816 non-null    object \n",
            " 9   toss_decision    816 non-null    object \n",
            " 10  winner           812 non-null    object \n",
            " 11  result           812 non-null    object \n",
            " 12  result_margin    799 non-null    float64\n",
            " 13  eliminator       812 non-null    object \n",
            " 14  method           19 non-null     object \n",
            " 15  umpire1          816 non-null    object \n",
            " 16  umpire2          816 non-null    object \n",
            " 17  Unnamed: 17      0 non-null      float64\n",
            " 18  win_by_runs      756 non-null    float64\n",
            " 19  win_by_wickets   756 non-null    float64\n",
            "dtypes: float64(4), int64(2), object(14)\n",
            "memory usage: 127.6+ KB\n"
          ],
          "name": "stdout"
        }
      ]
    },
    {
      "cell_type": "code",
      "metadata": {
        "colab": {
          "base_uri": "https://localhost:8080/",
          "height": 411
        },
        "id": "76u-tomoNh3I",
        "outputId": "af326dfd-b224-4771-8c34-01c8995955f5"
      },
      "source": [
        "dlvr_df.head()"
      ],
      "execution_count": 450,
      "outputs": [
        {
          "output_type": "execute_result",
          "data": {
            "text/html": [
              "<div>\n",
              "<style scoped>\n",
              "    .dataframe tbody tr th:only-of-type {\n",
              "        vertical-align: middle;\n",
              "    }\n",
              "\n",
              "    .dataframe tbody tr th {\n",
              "        vertical-align: top;\n",
              "    }\n",
              "\n",
              "    .dataframe thead th {\n",
              "        text-align: right;\n",
              "    }\n",
              "</style>\n",
              "<table border=\"1\" class=\"dataframe\">\n",
              "  <thead>\n",
              "    <tr style=\"text-align: right;\">\n",
              "      <th></th>\n",
              "      <th>match_id</th>\n",
              "      <th>inning</th>\n",
              "      <th>over</th>\n",
              "      <th>ball</th>\n",
              "      <th>batsman</th>\n",
              "      <th>non_striker</th>\n",
              "      <th>bowler</th>\n",
              "      <th>batsman_runs</th>\n",
              "      <th>extra_runs</th>\n",
              "      <th>total_runs</th>\n",
              "      <th>non_boundary</th>\n",
              "      <th>is_wicket</th>\n",
              "      <th>dismissal_kind</th>\n",
              "      <th>player_dismissed</th>\n",
              "      <th>fielder</th>\n",
              "      <th>extras_type</th>\n",
              "      <th>batting_team</th>\n",
              "      <th>bowling_team</th>\n",
              "      <th>Unnamed: 18</th>\n",
              "      <th>runs</th>\n",
              "      <th>wickets</th>\n",
              "      <th>overs</th>\n",
              "      <th>runs_last_5</th>\n",
              "      <th>wickets_last_5</th>\n",
              "    </tr>\n",
              "  </thead>\n",
              "  <tbody>\n",
              "    <tr>\n",
              "      <th>0</th>\n",
              "      <td>335982.0</td>\n",
              "      <td>1.0</td>\n",
              "      <td>6.0</td>\n",
              "      <td>5.0</td>\n",
              "      <td>RT Ponting</td>\n",
              "      <td>BB McCullum</td>\n",
              "      <td>AA Noffke</td>\n",
              "      <td>1.0</td>\n",
              "      <td>0.0</td>\n",
              "      <td>1.0</td>\n",
              "      <td>0.0</td>\n",
              "      <td>0.0</td>\n",
              "      <td>NaN</td>\n",
              "      <td>NaN</td>\n",
              "      <td>NaN</td>\n",
              "      <td>NaN</td>\n",
              "      <td>Kolkata Knight Riders</td>\n",
              "      <td>Royal Challengers Bangalore</td>\n",
              "      <td>NaN</td>\n",
              "      <td>1.0</td>\n",
              "      <td>0.0</td>\n",
              "      <td>0.1</td>\n",
              "      <td>1.0</td>\n",
              "      <td>0.0</td>\n",
              "    </tr>\n",
              "    <tr>\n",
              "      <th>1</th>\n",
              "      <td>335982.0</td>\n",
              "      <td>1.0</td>\n",
              "      <td>6.0</td>\n",
              "      <td>6.0</td>\n",
              "      <td>BB McCullum</td>\n",
              "      <td>RT Ponting</td>\n",
              "      <td>AA Noffke</td>\n",
              "      <td>1.0</td>\n",
              "      <td>0.0</td>\n",
              "      <td>1.0</td>\n",
              "      <td>0.0</td>\n",
              "      <td>0.0</td>\n",
              "      <td>NaN</td>\n",
              "      <td>NaN</td>\n",
              "      <td>NaN</td>\n",
              "      <td>NaN</td>\n",
              "      <td>Kolkata Knight Riders</td>\n",
              "      <td>Royal Challengers Bangalore</td>\n",
              "      <td>NaN</td>\n",
              "      <td>1.0</td>\n",
              "      <td>0.0</td>\n",
              "      <td>0.2</td>\n",
              "      <td>1.0</td>\n",
              "      <td>0.0</td>\n",
              "    </tr>\n",
              "    <tr>\n",
              "      <th>2</th>\n",
              "      <td>335982.0</td>\n",
              "      <td>1.0</td>\n",
              "      <td>7.0</td>\n",
              "      <td>1.0</td>\n",
              "      <td>BB McCullum</td>\n",
              "      <td>RT Ponting</td>\n",
              "      <td>Z Khan</td>\n",
              "      <td>0.0</td>\n",
              "      <td>0.0</td>\n",
              "      <td>0.0</td>\n",
              "      <td>0.0</td>\n",
              "      <td>0.0</td>\n",
              "      <td>NaN</td>\n",
              "      <td>NaN</td>\n",
              "      <td>NaN</td>\n",
              "      <td>NaN</td>\n",
              "      <td>Kolkata Knight Riders</td>\n",
              "      <td>Royal Challengers Bangalore</td>\n",
              "      <td>NaN</td>\n",
              "      <td>2.0</td>\n",
              "      <td>0.0</td>\n",
              "      <td>0.2</td>\n",
              "      <td>2.0</td>\n",
              "      <td>0.0</td>\n",
              "    </tr>\n",
              "    <tr>\n",
              "      <th>3</th>\n",
              "      <td>335982.0</td>\n",
              "      <td>1.0</td>\n",
              "      <td>7.0</td>\n",
              "      <td>2.0</td>\n",
              "      <td>BB McCullum</td>\n",
              "      <td>RT Ponting</td>\n",
              "      <td>Z Khan</td>\n",
              "      <td>1.0</td>\n",
              "      <td>0.0</td>\n",
              "      <td>1.0</td>\n",
              "      <td>0.0</td>\n",
              "      <td>0.0</td>\n",
              "      <td>NaN</td>\n",
              "      <td>NaN</td>\n",
              "      <td>NaN</td>\n",
              "      <td>NaN</td>\n",
              "      <td>Kolkata Knight Riders</td>\n",
              "      <td>Royal Challengers Bangalore</td>\n",
              "      <td>NaN</td>\n",
              "      <td>2.0</td>\n",
              "      <td>0.0</td>\n",
              "      <td>0.3</td>\n",
              "      <td>2.0</td>\n",
              "      <td>0.0</td>\n",
              "    </tr>\n",
              "    <tr>\n",
              "      <th>4</th>\n",
              "      <td>335982.0</td>\n",
              "      <td>1.0</td>\n",
              "      <td>7.0</td>\n",
              "      <td>3.0</td>\n",
              "      <td>RT Ponting</td>\n",
              "      <td>BB McCullum</td>\n",
              "      <td>Z Khan</td>\n",
              "      <td>1.0</td>\n",
              "      <td>0.0</td>\n",
              "      <td>1.0</td>\n",
              "      <td>0.0</td>\n",
              "      <td>0.0</td>\n",
              "      <td>NaN</td>\n",
              "      <td>NaN</td>\n",
              "      <td>NaN</td>\n",
              "      <td>NaN</td>\n",
              "      <td>Kolkata Knight Riders</td>\n",
              "      <td>Royal Challengers Bangalore</td>\n",
              "      <td>NaN</td>\n",
              "      <td>2.0</td>\n",
              "      <td>0.0</td>\n",
              "      <td>0.4</td>\n",
              "      <td>2.0</td>\n",
              "      <td>0.0</td>\n",
              "    </tr>\n",
              "  </tbody>\n",
              "</table>\n",
              "</div>"
            ],
            "text/plain": [
              "   match_id  inning  over  ball  ... wickets overs runs_last_5  wickets_last_5\n",
              "0  335982.0     1.0   6.0   5.0  ...     0.0   0.1         1.0             0.0\n",
              "1  335982.0     1.0   6.0   6.0  ...     0.0   0.2         1.0             0.0\n",
              "2  335982.0     1.0   7.0   1.0  ...     0.0   0.2         2.0             0.0\n",
              "3  335982.0     1.0   7.0   2.0  ...     0.0   0.3         2.0             0.0\n",
              "4  335982.0     1.0   7.0   3.0  ...     0.0   0.4         2.0             0.0\n",
              "\n",
              "[5 rows x 24 columns]"
            ]
          },
          "metadata": {
            "tags": []
          },
          "execution_count": 450
        }
      ]
    },
    {
      "cell_type": "code",
      "metadata": {
        "colab": {
          "base_uri": "https://localhost:8080/"
        },
        "id": "NdXA-fBsNh3K",
        "outputId": "746dd534-e74c-42d2-ab2f-6ae46535b541"
      },
      "source": [
        "dlvr_df.info()"
      ],
      "execution_count": 451,
      "outputs": [
        {
          "output_type": "stream",
          "text": [
            "<class 'pandas.core.frame.DataFrame'>\n",
            "RangeIndex: 256421 entries, 0 to 256420\n",
            "Data columns (total 24 columns):\n",
            " #   Column            Non-Null Count   Dtype  \n",
            "---  ------            --------------   -----  \n",
            " 0   match_id          193468 non-null  float64\n",
            " 1   inning            193468 non-null  float64\n",
            " 2   over              193468 non-null  float64\n",
            " 3   ball              193468 non-null  float64\n",
            " 4   batsman           193468 non-null  object \n",
            " 5   non_striker       193468 non-null  object \n",
            " 6   bowler            193468 non-null  object \n",
            " 7   batsman_runs      193468 non-null  float64\n",
            " 8   extra_runs        193468 non-null  float64\n",
            " 9   total_runs        193468 non-null  float64\n",
            " 10  non_boundary      193468 non-null  float64\n",
            " 11  is_wicket         193468 non-null  float64\n",
            " 12  dismissal_kind    9495 non-null    object \n",
            " 13  player_dismissed  9495 non-null    object \n",
            " 14  fielder           6784 non-null    object \n",
            " 15  extras_type       10233 non-null   object \n",
            " 16  batting_team      193468 non-null  object \n",
            " 17  bowling_team      193277 non-null  object \n",
            " 18  Unnamed: 18       0 non-null       float64\n",
            " 19  runs              251925 non-null  float64\n",
            " 20  wickets           251925 non-null  float64\n",
            " 21  overs             251925 non-null  float64\n",
            " 22  runs_last_5       251925 non-null  float64\n",
            " 23  wickets_last_5    251925 non-null  float64\n",
            "dtypes: float64(15), object(9)\n",
            "memory usage: 47.0+ MB\n"
          ],
          "name": "stdout"
        }
      ]
    },
    {
      "cell_type": "markdown",
      "metadata": {
        "id": "ZMHopekVNh3U"
      },
      "source": [
        "## Exploratory Data Analysis\n",
        "\n",
        "* Looking at all the teams in the teams and winners' column\n",
        "* Checking for missing values for the no result matches\n",
        "* Encoding Team Names\n",
        "* Visualizing the toss wins and match wins by each team\n"
      ]
    },
    {
      "cell_type": "markdown",
      "metadata": {
        "id": "bzidST36Nh3W"
      },
      "source": [
        "### Looking at all the teams in the teams and winners' column"
      ]
    },
    {
      "cell_type": "code",
      "metadata": {
        "colab": {
          "base_uri": "https://localhost:8080/"
        },
        "id": "hoP1IqvyNh3X",
        "outputId": "2d9eb35a-85d5-4a40-f05e-d9469c3004dd"
      },
      "source": [
        "match_df['winner'].value_counts()\n"
      ],
      "execution_count": 452,
      "outputs": [
        {
          "output_type": "execute_result",
          "data": {
            "text/plain": [
              "Mumbai Indians                 120\n",
              "Chennai Super Kings            106\n",
              "Kolkata Knight Riders           99\n",
              "Royal Challengers Bangalore     91\n",
              "Kings XI Punjab                 88\n",
              "Rajasthan Royals                81\n",
              "Delhi Daredevils                67\n",
              "Sunrisers Hyderabad             66\n",
              "Deccan Chargers                 29\n",
              "Delhi Capitals                  19\n",
              "Gujarat Lions                   13\n",
              "Pune Warriors                   12\n",
              "Rising Pune Supergiant          10\n",
              "Kochi Tuskers Kerala             6\n",
              "Rising Pune Supergiants          5\n",
              "Name: winner, dtype: int64"
            ]
          },
          "metadata": {
            "tags": []
          },
          "execution_count": 452
        }
      ]
    },
    {
      "cell_type": "code",
      "metadata": {
        "colab": {
          "base_uri": "https://localhost:8080/"
        },
        "id": "N-to5SwLNh3Z",
        "outputId": "6b08db0b-ca36-42f6-e09e-549536892f89"
      },
      "source": [
        "match_df['team1'].value_counts()"
      ],
      "execution_count": 453,
      "outputs": [
        {
          "output_type": "execute_result",
          "data": {
            "text/plain": [
              "Royal Challengers Bangalore    108\n",
              "Mumbai Indians                  97\n",
              "Kolkata Knight Riders           95\n",
              "Chennai Super Kings             94\n",
              "Kings XI Punjab                 92\n",
              "Delhi Daredevils                83\n",
              "Rajasthan Royals                70\n",
              "Sunrisers Hyderabad             59\n",
              "Deccan Chargers                 39\n",
              "Pune Warriors                   23\n",
              "Delhi Capitals                  19\n",
              "Gujarat Lions                   16\n",
              "Rising Pune Supergiants          7\n",
              "Rising Pune Supergiant           7\n",
              "Kochi Tuskers Kerala             7\n",
              "Name: team1, dtype: int64"
            ]
          },
          "metadata": {
            "tags": []
          },
          "execution_count": 453
        }
      ]
    },
    {
      "cell_type": "code",
      "metadata": {
        "colab": {
          "base_uri": "https://localhost:8080/",
          "height": 346
        },
        "id": "HW4H2nEuNh3f",
        "outputId": "dd882153-2adf-47ed-e3aa-12de3d783ff8"
      },
      "source": [
        "match_df[match_df['winner'].isnull() == True]\n"
      ],
      "execution_count": 454,
      "outputs": [
        {
          "output_type": "execute_result",
          "data": {
            "text/html": [
              "<div>\n",
              "<style scoped>\n",
              "    .dataframe tbody tr th:only-of-type {\n",
              "        vertical-align: middle;\n",
              "    }\n",
              "\n",
              "    .dataframe tbody tr th {\n",
              "        vertical-align: top;\n",
              "    }\n",
              "\n",
              "    .dataframe thead th {\n",
              "        text-align: right;\n",
              "    }\n",
              "</style>\n",
              "<table border=\"1\" class=\"dataframe\">\n",
              "  <thead>\n",
              "    <tr style=\"text-align: right;\">\n",
              "      <th></th>\n",
              "      <th>id</th>\n",
              "      <th>city</th>\n",
              "      <th>date</th>\n",
              "      <th>player_of_match</th>\n",
              "      <th>venue</th>\n",
              "      <th>neutral_venue</th>\n",
              "      <th>team1</th>\n",
              "      <th>team2</th>\n",
              "      <th>toss_winner</th>\n",
              "      <th>toss_decision</th>\n",
              "      <th>winner</th>\n",
              "      <th>result</th>\n",
              "      <th>result_margin</th>\n",
              "      <th>eliminator</th>\n",
              "      <th>method</th>\n",
              "      <th>umpire1</th>\n",
              "      <th>umpire2</th>\n",
              "      <th>Unnamed: 17</th>\n",
              "      <th>win_by_runs</th>\n",
              "      <th>win_by_wickets</th>\n",
              "    </tr>\n",
              "  </thead>\n",
              "  <tbody>\n",
              "    <tr>\n",
              "      <th>241</th>\n",
              "      <td>501265</td>\n",
              "      <td>Delhi</td>\n",
              "      <td>21-05-2011</td>\n",
              "      <td>NaN</td>\n",
              "      <td>Feroz Shah Kotla</td>\n",
              "      <td>0</td>\n",
              "      <td>Delhi Daredevils</td>\n",
              "      <td>Pune Warriors</td>\n",
              "      <td>Delhi Daredevils</td>\n",
              "      <td>bat</td>\n",
              "      <td>NaN</td>\n",
              "      <td>NaN</td>\n",
              "      <td>NaN</td>\n",
              "      <td>NaN</td>\n",
              "      <td>NaN</td>\n",
              "      <td>SS Hazare</td>\n",
              "      <td>RJ Tucker</td>\n",
              "      <td>NaN</td>\n",
              "      <td>0.0</td>\n",
              "      <td>9.0</td>\n",
              "    </tr>\n",
              "    <tr>\n",
              "      <th>486</th>\n",
              "      <td>829763</td>\n",
              "      <td>Bangalore</td>\n",
              "      <td>29-04-2015</td>\n",
              "      <td>NaN</td>\n",
              "      <td>M Chinnaswamy Stadium</td>\n",
              "      <td>0</td>\n",
              "      <td>Royal Challengers Bangalore</td>\n",
              "      <td>Rajasthan Royals</td>\n",
              "      <td>Rajasthan Royals</td>\n",
              "      <td>field</td>\n",
              "      <td>NaN</td>\n",
              "      <td>NaN</td>\n",
              "      <td>NaN</td>\n",
              "      <td>NaN</td>\n",
              "      <td>NaN</td>\n",
              "      <td>JD Cloete</td>\n",
              "      <td>PG Pathak</td>\n",
              "      <td>NaN</td>\n",
              "      <td>32.0</td>\n",
              "      <td>0.0</td>\n",
              "    </tr>\n",
              "    <tr>\n",
              "      <th>511</th>\n",
              "      <td>829813</td>\n",
              "      <td>Bangalore</td>\n",
              "      <td>17-05-2015</td>\n",
              "      <td>NaN</td>\n",
              "      <td>M Chinnaswamy Stadium</td>\n",
              "      <td>0</td>\n",
              "      <td>Royal Challengers Bangalore</td>\n",
              "      <td>Delhi Daredevils</td>\n",
              "      <td>Royal Challengers Bangalore</td>\n",
              "      <td>field</td>\n",
              "      <td>NaN</td>\n",
              "      <td>NaN</td>\n",
              "      <td>NaN</td>\n",
              "      <td>NaN</td>\n",
              "      <td>NaN</td>\n",
              "      <td>HDPK Dharmasena</td>\n",
              "      <td>K Srinivasan</td>\n",
              "      <td>NaN</td>\n",
              "      <td>0.0</td>\n",
              "      <td>7.0</td>\n",
              "    </tr>\n",
              "    <tr>\n",
              "      <th>744</th>\n",
              "      <td>1178424</td>\n",
              "      <td>Bengaluru</td>\n",
              "      <td>30-04-2019</td>\n",
              "      <td>NaN</td>\n",
              "      <td>M.Chinnaswamy Stadium</td>\n",
              "      <td>0</td>\n",
              "      <td>Royal Challengers Bangalore</td>\n",
              "      <td>Rajasthan Royals</td>\n",
              "      <td>Rajasthan Royals</td>\n",
              "      <td>field</td>\n",
              "      <td>NaN</td>\n",
              "      <td>NaN</td>\n",
              "      <td>NaN</td>\n",
              "      <td>NaN</td>\n",
              "      <td>NaN</td>\n",
              "      <td>UV Gandhe</td>\n",
              "      <td>NJ Llong</td>\n",
              "      <td>NaN</td>\n",
              "      <td>0.0</td>\n",
              "      <td>0.0</td>\n",
              "    </tr>\n",
              "  </tbody>\n",
              "</table>\n",
              "</div>"
            ],
            "text/plain": [
              "          id       city        date  ... Unnamed: 17 win_by_runs  win_by_wickets\n",
              "241   501265      Delhi  21-05-2011  ...         NaN         0.0             9.0\n",
              "486   829763  Bangalore  29-04-2015  ...         NaN        32.0             0.0\n",
              "511   829813  Bangalore  17-05-2015  ...         NaN         0.0             7.0\n",
              "744  1178424  Bengaluru  30-04-2019  ...         NaN         0.0             0.0\n",
              "\n",
              "[4 rows x 20 columns]"
            ]
          },
          "metadata": {
            "tags": []
          },
          "execution_count": 454
        }
      ]
    },
    {
      "cell_type": "code",
      "metadata": {
        "id": "_hkYn7EoNh3i"
      },
      "source": [
        "##replacing null results with draw\n",
        "match_df['winner'].fillna('Draw', inplace=True)"
      ],
      "execution_count": 455,
      "outputs": []
    },
    {
      "cell_type": "code",
      "metadata": {
        "colab": {
          "base_uri": "https://localhost:8080/",
          "height": 86
        },
        "id": "jSPMr-KNNh3j",
        "outputId": "b490d8db-a5a4-4606-af98-c76429db099b"
      },
      "source": [
        "match_df[match_df['winner'].isnull() == True]"
      ],
      "execution_count": 456,
      "outputs": [
        {
          "output_type": "execute_result",
          "data": {
            "text/html": [
              "<div>\n",
              "<style scoped>\n",
              "    .dataframe tbody tr th:only-of-type {\n",
              "        vertical-align: middle;\n",
              "    }\n",
              "\n",
              "    .dataframe tbody tr th {\n",
              "        vertical-align: top;\n",
              "    }\n",
              "\n",
              "    .dataframe thead th {\n",
              "        text-align: right;\n",
              "    }\n",
              "</style>\n",
              "<table border=\"1\" class=\"dataframe\">\n",
              "  <thead>\n",
              "    <tr style=\"text-align: right;\">\n",
              "      <th></th>\n",
              "      <th>id</th>\n",
              "      <th>city</th>\n",
              "      <th>date</th>\n",
              "      <th>player_of_match</th>\n",
              "      <th>venue</th>\n",
              "      <th>neutral_venue</th>\n",
              "      <th>team1</th>\n",
              "      <th>team2</th>\n",
              "      <th>toss_winner</th>\n",
              "      <th>toss_decision</th>\n",
              "      <th>winner</th>\n",
              "      <th>result</th>\n",
              "      <th>result_margin</th>\n",
              "      <th>eliminator</th>\n",
              "      <th>method</th>\n",
              "      <th>umpire1</th>\n",
              "      <th>umpire2</th>\n",
              "      <th>Unnamed: 17</th>\n",
              "      <th>win_by_runs</th>\n",
              "      <th>win_by_wickets</th>\n",
              "    </tr>\n",
              "  </thead>\n",
              "  <tbody>\n",
              "  </tbody>\n",
              "</table>\n",
              "</div>"
            ],
            "text/plain": [
              "Empty DataFrame\n",
              "Columns: [id, city, date, player_of_match, venue, neutral_venue, team1, team2, toss_winner, toss_decision, winner, result, result_margin, eliminator, method, umpire1, umpire2, Unnamed: 17, win_by_runs, win_by_wickets]\n",
              "Index: []"
            ]
          },
          "metadata": {
            "tags": []
          },
          "execution_count": 456
        }
      ]
    },
    {
      "cell_type": "markdown",
      "metadata": {
        "id": "i2OOe4BQNh3l"
      },
      "source": [
        "### Encoding Team Names "
      ]
    },
    {
      "cell_type": "code",
      "metadata": {
        "colab": {
          "base_uri": "https://localhost:8080/",
          "height": 445
        },
        "id": "uS2CG7BgNh3m",
        "outputId": "f1d20a47-fef3-41c5-c456-4fc532019c56"
      },
      "source": [
        "\n",
        "team_encodings = {\n",
        "    'Mumbai Indians': 1,\n",
        "    'Kolkata Knight Riders': 2,\n",
        "    'Royal Challengers Bangalore': 3,\n",
        "    'Deccan Chargers': 4,\n",
        "    'Chennai Super Kings': 5,    \n",
        "    'Rajasthan Royals': 6,\n",
        "    'Delhi Daredevils': 7,\n",
        "    'Gujarat Lions': 8,\n",
        "    'Kings XI Punjab': 9,\n",
        "    'Sunrisers Hyderabad': 10,\n",
        "    'Rising Pune Supergiants': 11,\n",
        "    'Rising Pune Supergiant': 11,\n",
        "    'Kochi Tuskers Kerala':12,\n",
        "    'Pune Warriors': 13,\n",
        "    'Delhi Capitals': 14,\n",
        "    'Draw': 15\n",
        "}\n",
        "\n",
        "team_encode_dict = {'team1': team_encodings,\n",
        "                    'team2': team_encodings,\n",
        "                    'toss_winner': team_encodings,\n",
        "                    'winner': team_encodings\n",
        "                   }\n",
        "\n",
        "match_df.replace(team_encode_dict, inplace=True)\n",
        "match_df.head()"
      ],
      "execution_count": 457,
      "outputs": [
        {
          "output_type": "execute_result",
          "data": {
            "text/html": [
              "<div>\n",
              "<style scoped>\n",
              "    .dataframe tbody tr th:only-of-type {\n",
              "        vertical-align: middle;\n",
              "    }\n",
              "\n",
              "    .dataframe tbody tr th {\n",
              "        vertical-align: top;\n",
              "    }\n",
              "\n",
              "    .dataframe thead th {\n",
              "        text-align: right;\n",
              "    }\n",
              "</style>\n",
              "<table border=\"1\" class=\"dataframe\">\n",
              "  <thead>\n",
              "    <tr style=\"text-align: right;\">\n",
              "      <th></th>\n",
              "      <th>id</th>\n",
              "      <th>city</th>\n",
              "      <th>date</th>\n",
              "      <th>player_of_match</th>\n",
              "      <th>venue</th>\n",
              "      <th>neutral_venue</th>\n",
              "      <th>team1</th>\n",
              "      <th>team2</th>\n",
              "      <th>toss_winner</th>\n",
              "      <th>toss_decision</th>\n",
              "      <th>winner</th>\n",
              "      <th>result</th>\n",
              "      <th>result_margin</th>\n",
              "      <th>eliminator</th>\n",
              "      <th>method</th>\n",
              "      <th>umpire1</th>\n",
              "      <th>umpire2</th>\n",
              "      <th>Unnamed: 17</th>\n",
              "      <th>win_by_runs</th>\n",
              "      <th>win_by_wickets</th>\n",
              "    </tr>\n",
              "  </thead>\n",
              "  <tbody>\n",
              "    <tr>\n",
              "      <th>0</th>\n",
              "      <td>335982</td>\n",
              "      <td>Bangalore</td>\n",
              "      <td>18-04-2008</td>\n",
              "      <td>BB McCullum</td>\n",
              "      <td>M Chinnaswamy Stadium</td>\n",
              "      <td>0</td>\n",
              "      <td>3</td>\n",
              "      <td>2</td>\n",
              "      <td>3</td>\n",
              "      <td>field</td>\n",
              "      <td>2</td>\n",
              "      <td>runs</td>\n",
              "      <td>140.0</td>\n",
              "      <td>N</td>\n",
              "      <td>NaN</td>\n",
              "      <td>Asad Rauf</td>\n",
              "      <td>RE Koertzen</td>\n",
              "      <td>NaN</td>\n",
              "      <td>35.0</td>\n",
              "      <td>0.0</td>\n",
              "    </tr>\n",
              "    <tr>\n",
              "      <th>1</th>\n",
              "      <td>335983</td>\n",
              "      <td>Chandigarh</td>\n",
              "      <td>19-04-2008</td>\n",
              "      <td>MEK Hussey</td>\n",
              "      <td>Punjab Cricket Association Stadium, Mohali</td>\n",
              "      <td>0</td>\n",
              "      <td>9</td>\n",
              "      <td>5</td>\n",
              "      <td>5</td>\n",
              "      <td>bat</td>\n",
              "      <td>5</td>\n",
              "      <td>runs</td>\n",
              "      <td>33.0</td>\n",
              "      <td>N</td>\n",
              "      <td>NaN</td>\n",
              "      <td>MR Benson</td>\n",
              "      <td>SL Shastri</td>\n",
              "      <td>NaN</td>\n",
              "      <td>0.0</td>\n",
              "      <td>7.0</td>\n",
              "    </tr>\n",
              "    <tr>\n",
              "      <th>2</th>\n",
              "      <td>335984</td>\n",
              "      <td>Delhi</td>\n",
              "      <td>19-04-2008</td>\n",
              "      <td>MF Maharoof</td>\n",
              "      <td>Feroz Shah Kotla</td>\n",
              "      <td>0</td>\n",
              "      <td>7</td>\n",
              "      <td>6</td>\n",
              "      <td>6</td>\n",
              "      <td>bat</td>\n",
              "      <td>7</td>\n",
              "      <td>wickets</td>\n",
              "      <td>9.0</td>\n",
              "      <td>N</td>\n",
              "      <td>NaN</td>\n",
              "      <td>Aleem Dar</td>\n",
              "      <td>GA Pratapkumar</td>\n",
              "      <td>NaN</td>\n",
              "      <td>0.0</td>\n",
              "      <td>10.0</td>\n",
              "    </tr>\n",
              "    <tr>\n",
              "      <th>3</th>\n",
              "      <td>335985</td>\n",
              "      <td>Mumbai</td>\n",
              "      <td>20-04-2008</td>\n",
              "      <td>MV Boucher</td>\n",
              "      <td>Wankhede Stadium</td>\n",
              "      <td>0</td>\n",
              "      <td>1</td>\n",
              "      <td>3</td>\n",
              "      <td>1</td>\n",
              "      <td>bat</td>\n",
              "      <td>3</td>\n",
              "      <td>wickets</td>\n",
              "      <td>5.0</td>\n",
              "      <td>N</td>\n",
              "      <td>NaN</td>\n",
              "      <td>SJ Davis</td>\n",
              "      <td>DJ Harper</td>\n",
              "      <td>NaN</td>\n",
              "      <td>0.0</td>\n",
              "      <td>6.0</td>\n",
              "    </tr>\n",
              "    <tr>\n",
              "      <th>4</th>\n",
              "      <td>335986</td>\n",
              "      <td>Kolkata</td>\n",
              "      <td>20-04-2008</td>\n",
              "      <td>DJ Hussey</td>\n",
              "      <td>Eden Gardens</td>\n",
              "      <td>0</td>\n",
              "      <td>2</td>\n",
              "      <td>4</td>\n",
              "      <td>4</td>\n",
              "      <td>bat</td>\n",
              "      <td>2</td>\n",
              "      <td>wickets</td>\n",
              "      <td>5.0</td>\n",
              "      <td>N</td>\n",
              "      <td>NaN</td>\n",
              "      <td>BF Bowden</td>\n",
              "      <td>K Hariharan</td>\n",
              "      <td>NaN</td>\n",
              "      <td>15.0</td>\n",
              "      <td>0.0</td>\n",
              "    </tr>\n",
              "  </tbody>\n",
              "</table>\n",
              "</div>"
            ],
            "text/plain": [
              "       id        city        date  ... Unnamed: 17 win_by_runs  win_by_wickets\n",
              "0  335982   Bangalore  18-04-2008  ...         NaN        35.0             0.0\n",
              "1  335983  Chandigarh  19-04-2008  ...         NaN         0.0             7.0\n",
              "2  335984       Delhi  19-04-2008  ...         NaN         0.0            10.0\n",
              "3  335985      Mumbai  20-04-2008  ...         NaN         0.0             6.0\n",
              "4  335986     Kolkata  20-04-2008  ...         NaN        15.0             0.0\n",
              "\n",
              "[5 rows x 20 columns]"
            ]
          },
          "metadata": {
            "tags": []
          },
          "execution_count": 457
        }
      ]
    },
    {
      "cell_type": "code",
      "metadata": {
        "colab": {
          "base_uri": "https://localhost:8080/"
        },
        "id": "D_16HTXpNh3o",
        "outputId": "a7ae3555-8026-4798-c214-3588fc26ed5e"
      },
      "source": [
        "match_df.info()"
      ],
      "execution_count": 458,
      "outputs": [
        {
          "output_type": "stream",
          "text": [
            "<class 'pandas.core.frame.DataFrame'>\n",
            "RangeIndex: 816 entries, 0 to 815\n",
            "Data columns (total 20 columns):\n",
            " #   Column           Non-Null Count  Dtype  \n",
            "---  ------           --------------  -----  \n",
            " 0   id               816 non-null    int64  \n",
            " 1   city             803 non-null    object \n",
            " 2   date             816 non-null    object \n",
            " 3   player_of_match  812 non-null    object \n",
            " 4   venue            816 non-null    object \n",
            " 5   neutral_venue    816 non-null    int64  \n",
            " 6   team1            816 non-null    int64  \n",
            " 7   team2            816 non-null    int64  \n",
            " 8   toss_winner      816 non-null    int64  \n",
            " 9   toss_decision    816 non-null    object \n",
            " 10  winner           816 non-null    int64  \n",
            " 11  result           812 non-null    object \n",
            " 12  result_margin    799 non-null    float64\n",
            " 13  eliminator       812 non-null    object \n",
            " 14  method           19 non-null     object \n",
            " 15  umpire1          816 non-null    object \n",
            " 16  umpire2          816 non-null    object \n",
            " 17  Unnamed: 17      0 non-null      float64\n",
            " 18  win_by_runs      756 non-null    float64\n",
            " 19  win_by_wickets   756 non-null    float64\n",
            "dtypes: float64(4), int64(6), object(10)\n",
            "memory usage: 127.6+ KB\n"
          ],
          "name": "stdout"
        }
      ]
    },
    {
      "cell_type": "markdown",
      "metadata": {
        "id": "r6EMCO-bNh3p"
      },
      "source": [
        "### Exploring City Column"
      ]
    },
    {
      "cell_type": "code",
      "metadata": {
        "colab": {
          "base_uri": "https://localhost:8080/"
        },
        "id": "mw_nztXiNh3p",
        "outputId": "68461836-e4a9-4515-f5f4-deedebd13dae"
      },
      "source": [
        "match_df['city'].value_counts()"
      ],
      "execution_count": 459,
      "outputs": [
        {
          "output_type": "execute_result",
          "data": {
            "text/plain": [
              "Mumbai            101\n",
              "Kolkata            77\n",
              "Delhi              74\n",
              "Bangalore          65\n",
              "Hyderabad          64\n",
              "Chennai            57\n",
              "Chandigarh         56\n",
              "Jaipur             47\n",
              "Pune               38\n",
              "Abu Dhabi          29\n",
              "Dubai              26\n",
              "Durban             15\n",
              "Bengaluru          15\n",
              "Visakhapatnam      13\n",
              "Centurion          12\n",
              "Sharjah            12\n",
              "Ahmedabad          12\n",
              "Rajkot             10\n",
              "Dharamsala          9\n",
              "Indore              9\n",
              "Johannesburg        8\n",
              "Cuttack             7\n",
              "Port Elizabeth      7\n",
              "Ranchi              7\n",
              "Cape Town           7\n",
              "Raipur              6\n",
              "Kochi               5\n",
              "Kanpur              4\n",
              "Nagpur              3\n",
              "Kimberley           3\n",
              "East London         3\n",
              "Bloemfontein        2\n",
              "Name: city, dtype: int64"
            ]
          },
          "metadata": {
            "tags": []
          },
          "execution_count": 459
        }
      ]
    },
    {
      "cell_type": "code",
      "metadata": {
        "colab": {
          "base_uri": "https://localhost:8080/",
          "height": 1000
        },
        "id": "Zx2wLjQRNh3x",
        "outputId": "6976c39f-d46a-4728-88f4-60ec92f4c169"
      },
      "source": [
        "## checking for missing values\n",
        "match_df[match_df['city'].isnull() == True ]"
      ],
      "execution_count": 460,
      "outputs": [
        {
          "output_type": "execute_result",
          "data": {
            "text/html": [
              "<div>\n",
              "<style scoped>\n",
              "    .dataframe tbody tr th:only-of-type {\n",
              "        vertical-align: middle;\n",
              "    }\n",
              "\n",
              "    .dataframe tbody tr th {\n",
              "        vertical-align: top;\n",
              "    }\n",
              "\n",
              "    .dataframe thead th {\n",
              "        text-align: right;\n",
              "    }\n",
              "</style>\n",
              "<table border=\"1\" class=\"dataframe\">\n",
              "  <thead>\n",
              "    <tr style=\"text-align: right;\">\n",
              "      <th></th>\n",
              "      <th>id</th>\n",
              "      <th>city</th>\n",
              "      <th>date</th>\n",
              "      <th>player_of_match</th>\n",
              "      <th>venue</th>\n",
              "      <th>neutral_venue</th>\n",
              "      <th>team1</th>\n",
              "      <th>team2</th>\n",
              "      <th>toss_winner</th>\n",
              "      <th>toss_decision</th>\n",
              "      <th>winner</th>\n",
              "      <th>result</th>\n",
              "      <th>result_margin</th>\n",
              "      <th>eliminator</th>\n",
              "      <th>method</th>\n",
              "      <th>umpire1</th>\n",
              "      <th>umpire2</th>\n",
              "      <th>Unnamed: 17</th>\n",
              "      <th>win_by_runs</th>\n",
              "      <th>win_by_wickets</th>\n",
              "    </tr>\n",
              "  </thead>\n",
              "  <tbody>\n",
              "    <tr>\n",
              "      <th>399</th>\n",
              "      <td>729281</td>\n",
              "      <td>NaN</td>\n",
              "      <td>17-04-2014</td>\n",
              "      <td>YS Chahal</td>\n",
              "      <td>Sharjah Cricket Stadium</td>\n",
              "      <td>1</td>\n",
              "      <td>7</td>\n",
              "      <td>3</td>\n",
              "      <td>3</td>\n",
              "      <td>field</td>\n",
              "      <td>3</td>\n",
              "      <td>wickets</td>\n",
              "      <td>8.0</td>\n",
              "      <td>N</td>\n",
              "      <td>NaN</td>\n",
              "      <td>Aleem Dar</td>\n",
              "      <td>S Ravi</td>\n",
              "      <td>NaN</td>\n",
              "      <td>4.0</td>\n",
              "      <td>0.0</td>\n",
              "    </tr>\n",
              "    <tr>\n",
              "      <th>402</th>\n",
              "      <td>729287</td>\n",
              "      <td>NaN</td>\n",
              "      <td>19-04-2014</td>\n",
              "      <td>PA Patel</td>\n",
              "      <td>Dubai International Cricket Stadium</td>\n",
              "      <td>1</td>\n",
              "      <td>3</td>\n",
              "      <td>1</td>\n",
              "      <td>3</td>\n",
              "      <td>field</td>\n",
              "      <td>3</td>\n",
              "      <td>wickets</td>\n",
              "      <td>7.0</td>\n",
              "      <td>N</td>\n",
              "      <td>NaN</td>\n",
              "      <td>Aleem Dar</td>\n",
              "      <td>AK Chaudhary</td>\n",
              "      <td>NaN</td>\n",
              "      <td>87.0</td>\n",
              "      <td>0.0</td>\n",
              "    </tr>\n",
              "    <tr>\n",
              "      <th>403</th>\n",
              "      <td>729289</td>\n",
              "      <td>NaN</td>\n",
              "      <td>19-04-2014</td>\n",
              "      <td>JP Duminy</td>\n",
              "      <td>Dubai International Cricket Stadium</td>\n",
              "      <td>1</td>\n",
              "      <td>2</td>\n",
              "      <td>7</td>\n",
              "      <td>2</td>\n",
              "      <td>bat</td>\n",
              "      <td>7</td>\n",
              "      <td>wickets</td>\n",
              "      <td>4.0</td>\n",
              "      <td>N</td>\n",
              "      <td>NaN</td>\n",
              "      <td>Aleem Dar</td>\n",
              "      <td>VA Kulkarni</td>\n",
              "      <td>NaN</td>\n",
              "      <td>86.0</td>\n",
              "      <td>0.0</td>\n",
              "    </tr>\n",
              "    <tr>\n",
              "      <th>404</th>\n",
              "      <td>729291</td>\n",
              "      <td>NaN</td>\n",
              "      <td>20-04-2014</td>\n",
              "      <td>GJ Maxwell</td>\n",
              "      <td>Sharjah Cricket Stadium</td>\n",
              "      <td>1</td>\n",
              "      <td>6</td>\n",
              "      <td>9</td>\n",
              "      <td>9</td>\n",
              "      <td>field</td>\n",
              "      <td>9</td>\n",
              "      <td>wickets</td>\n",
              "      <td>7.0</td>\n",
              "      <td>N</td>\n",
              "      <td>NaN</td>\n",
              "      <td>BF Bowden</td>\n",
              "      <td>M Erasmus</td>\n",
              "      <td>NaN</td>\n",
              "      <td>0.0</td>\n",
              "      <td>5.0</td>\n",
              "    </tr>\n",
              "    <tr>\n",
              "      <th>406</th>\n",
              "      <td>729295</td>\n",
              "      <td>NaN</td>\n",
              "      <td>22-04-2014</td>\n",
              "      <td>GJ Maxwell</td>\n",
              "      <td>Sharjah Cricket Stadium</td>\n",
              "      <td>1</td>\n",
              "      <td>9</td>\n",
              "      <td>10</td>\n",
              "      <td>10</td>\n",
              "      <td>field</td>\n",
              "      <td>9</td>\n",
              "      <td>runs</td>\n",
              "      <td>72.0</td>\n",
              "      <td>N</td>\n",
              "      <td>NaN</td>\n",
              "      <td>M Erasmus</td>\n",
              "      <td>S Ravi</td>\n",
              "      <td>NaN</td>\n",
              "      <td>0.0</td>\n",
              "      <td>7.0</td>\n",
              "    </tr>\n",
              "    <tr>\n",
              "      <th>407</th>\n",
              "      <td>729297</td>\n",
              "      <td>NaN</td>\n",
              "      <td>23-04-2014</td>\n",
              "      <td>RA Jadeja</td>\n",
              "      <td>Dubai International Cricket Stadium</td>\n",
              "      <td>1</td>\n",
              "      <td>6</td>\n",
              "      <td>5</td>\n",
              "      <td>6</td>\n",
              "      <td>field</td>\n",
              "      <td>5</td>\n",
              "      <td>runs</td>\n",
              "      <td>7.0</td>\n",
              "      <td>N</td>\n",
              "      <td>NaN</td>\n",
              "      <td>HDPK Dharmasena</td>\n",
              "      <td>RK Illingworth</td>\n",
              "      <td>NaN</td>\n",
              "      <td>0.0</td>\n",
              "      <td>9.0</td>\n",
              "    </tr>\n",
              "    <tr>\n",
              "      <th>408</th>\n",
              "      <td>729299</td>\n",
              "      <td>NaN</td>\n",
              "      <td>24-04-2014</td>\n",
              "      <td>CA Lynn</td>\n",
              "      <td>Sharjah Cricket Stadium</td>\n",
              "      <td>1</td>\n",
              "      <td>3</td>\n",
              "      <td>2</td>\n",
              "      <td>3</td>\n",
              "      <td>field</td>\n",
              "      <td>2</td>\n",
              "      <td>runs</td>\n",
              "      <td>2.0</td>\n",
              "      <td>N</td>\n",
              "      <td>NaN</td>\n",
              "      <td>Aleem Dar</td>\n",
              "      <td>VA Kulkarni</td>\n",
              "      <td>NaN</td>\n",
              "      <td>0.0</td>\n",
              "      <td>7.0</td>\n",
              "    </tr>\n",
              "    <tr>\n",
              "      <th>409</th>\n",
              "      <td>729301</td>\n",
              "      <td>NaN</td>\n",
              "      <td>25-04-2014</td>\n",
              "      <td>AJ Finch</td>\n",
              "      <td>Dubai International Cricket Stadium</td>\n",
              "      <td>1</td>\n",
              "      <td>10</td>\n",
              "      <td>7</td>\n",
              "      <td>10</td>\n",
              "      <td>bat</td>\n",
              "      <td>10</td>\n",
              "      <td>runs</td>\n",
              "      <td>4.0</td>\n",
              "      <td>N</td>\n",
              "      <td>NaN</td>\n",
              "      <td>M Erasmus</td>\n",
              "      <td>S Ravi</td>\n",
              "      <td>NaN</td>\n",
              "      <td>0.0</td>\n",
              "      <td>5.0</td>\n",
              "    </tr>\n",
              "    <tr>\n",
              "      <th>410</th>\n",
              "      <td>729303</td>\n",
              "      <td>NaN</td>\n",
              "      <td>25-04-2014</td>\n",
              "      <td>MM Sharma</td>\n",
              "      <td>Dubai International Cricket Stadium</td>\n",
              "      <td>1</td>\n",
              "      <td>5</td>\n",
              "      <td>1</td>\n",
              "      <td>1</td>\n",
              "      <td>bat</td>\n",
              "      <td>5</td>\n",
              "      <td>wickets</td>\n",
              "      <td>7.0</td>\n",
              "      <td>N</td>\n",
              "      <td>NaN</td>\n",
              "      <td>BF Bowden</td>\n",
              "      <td>M Erasmus</td>\n",
              "      <td>NaN</td>\n",
              "      <td>130.0</td>\n",
              "      <td>0.0</td>\n",
              "    </tr>\n",
              "    <tr>\n",
              "      <th>413</th>\n",
              "      <td>729309</td>\n",
              "      <td>NaN</td>\n",
              "      <td>27-04-2014</td>\n",
              "      <td>M Vijay</td>\n",
              "      <td>Sharjah Cricket Stadium</td>\n",
              "      <td>1</td>\n",
              "      <td>7</td>\n",
              "      <td>1</td>\n",
              "      <td>1</td>\n",
              "      <td>bat</td>\n",
              "      <td>7</td>\n",
              "      <td>wickets</td>\n",
              "      <td>6.0</td>\n",
              "      <td>N</td>\n",
              "      <td>NaN</td>\n",
              "      <td>Aleem Dar</td>\n",
              "      <td>VA Kulkarni</td>\n",
              "      <td>NaN</td>\n",
              "      <td>0.0</td>\n",
              "      <td>5.0</td>\n",
              "    </tr>\n",
              "    <tr>\n",
              "      <th>414</th>\n",
              "      <td>729311</td>\n",
              "      <td>NaN</td>\n",
              "      <td>27-04-2014</td>\n",
              "      <td>DR Smith</td>\n",
              "      <td>Sharjah Cricket Stadium</td>\n",
              "      <td>1</td>\n",
              "      <td>10</td>\n",
              "      <td>5</td>\n",
              "      <td>10</td>\n",
              "      <td>bat</td>\n",
              "      <td>5</td>\n",
              "      <td>wickets</td>\n",
              "      <td>5.0</td>\n",
              "      <td>N</td>\n",
              "      <td>NaN</td>\n",
              "      <td>AK Chaudhary</td>\n",
              "      <td>VA Kulkarni</td>\n",
              "      <td>NaN</td>\n",
              "      <td>0.0</td>\n",
              "      <td>6.0</td>\n",
              "    </tr>\n",
              "    <tr>\n",
              "      <th>415</th>\n",
              "      <td>729313</td>\n",
              "      <td>NaN</td>\n",
              "      <td>28-04-2014</td>\n",
              "      <td>Sandeep Sharma</td>\n",
              "      <td>Dubai International Cricket Stadium</td>\n",
              "      <td>1</td>\n",
              "      <td>9</td>\n",
              "      <td>3</td>\n",
              "      <td>9</td>\n",
              "      <td>field</td>\n",
              "      <td>9</td>\n",
              "      <td>wickets</td>\n",
              "      <td>5.0</td>\n",
              "      <td>N</td>\n",
              "      <td>NaN</td>\n",
              "      <td>BF Bowden</td>\n",
              "      <td>S Ravi</td>\n",
              "      <td>NaN</td>\n",
              "      <td>0.0</td>\n",
              "      <td>8.0</td>\n",
              "    </tr>\n",
              "    <tr>\n",
              "      <th>417</th>\n",
              "      <td>729317</td>\n",
              "      <td>NaN</td>\n",
              "      <td>30-04-2014</td>\n",
              "      <td>B Kumar</td>\n",
              "      <td>Dubai International Cricket Stadium</td>\n",
              "      <td>1</td>\n",
              "      <td>1</td>\n",
              "      <td>10</td>\n",
              "      <td>1</td>\n",
              "      <td>field</td>\n",
              "      <td>10</td>\n",
              "      <td>runs</td>\n",
              "      <td>15.0</td>\n",
              "      <td>N</td>\n",
              "      <td>NaN</td>\n",
              "      <td>HDPK Dharmasena</td>\n",
              "      <td>M Erasmus</td>\n",
              "      <td>NaN</td>\n",
              "      <td>14.0</td>\n",
              "      <td>0.0</td>\n",
              "    </tr>\n",
              "  </tbody>\n",
              "</table>\n",
              "</div>"
            ],
            "text/plain": [
              "         id city        date  ... Unnamed: 17 win_by_runs  win_by_wickets\n",
              "399  729281  NaN  17-04-2014  ...         NaN         4.0             0.0\n",
              "402  729287  NaN  19-04-2014  ...         NaN        87.0             0.0\n",
              "403  729289  NaN  19-04-2014  ...         NaN        86.0             0.0\n",
              "404  729291  NaN  20-04-2014  ...         NaN         0.0             5.0\n",
              "406  729295  NaN  22-04-2014  ...         NaN         0.0             7.0\n",
              "407  729297  NaN  23-04-2014  ...         NaN         0.0             9.0\n",
              "408  729299  NaN  24-04-2014  ...         NaN         0.0             7.0\n",
              "409  729301  NaN  25-04-2014  ...         NaN         0.0             5.0\n",
              "410  729303  NaN  25-04-2014  ...         NaN       130.0             0.0\n",
              "413  729309  NaN  27-04-2014  ...         NaN         0.0             5.0\n",
              "414  729311  NaN  27-04-2014  ...         NaN         0.0             6.0\n",
              "415  729313  NaN  28-04-2014  ...         NaN         0.0             8.0\n",
              "417  729317  NaN  30-04-2014  ...         NaN        14.0             0.0\n",
              "\n",
              "[13 rows x 20 columns]"
            ]
          },
          "metadata": {
            "tags": []
          },
          "execution_count": 460
        }
      ]
    },
    {
      "cell_type": "code",
      "metadata": {
        "colab": {
          "base_uri": "https://localhost:8080/"
        },
        "id": "324KGt_eg8GL",
        "outputId": "167baf54-c759-4e17-89f9-3ae38e68b9bc"
      },
      "source": [
        "#Lookin at the number of rows and columns in the dataset\n",
        "match_df.shape"
      ],
      "execution_count": 461,
      "outputs": [
        {
          "output_type": "execute_result",
          "data": {
            "text/plain": [
              "(816, 20)"
            ]
          },
          "metadata": {
            "tags": []
          },
          "execution_count": 461
        }
      ]
    },
    {
      "cell_type": "code",
      "metadata": {
        "colab": {
          "base_uri": "https://localhost:8080/"
        },
        "id": "KttRw7i3g-r5",
        "outputId": "d9325d7b-da06-4e1f-804c-c300f2116ad8"
      },
      "source": [
        "#Getting the frequency of most man of the match awards\n",
        "match_df['player_of_match'].value_counts()"
      ],
      "execution_count": 462,
      "outputs": [
        {
          "output_type": "execute_result",
          "data": {
            "text/plain": [
              "AB de Villiers    23\n",
              "CH Gayle          22\n",
              "RG Sharma         18\n",
              "DA Warner         17\n",
              "MS Dhoni          17\n",
              "                  ..\n",
              "DP Nannes          1\n",
              "CR Brathwaite      1\n",
              "Imran Tahir        1\n",
              "SP Goswami         1\n",
              "RE Levi            1\n",
              "Name: player_of_match, Length: 233, dtype: int64"
            ]
          },
          "metadata": {
            "tags": []
          },
          "execution_count": 462
        }
      ]
    },
    {
      "cell_type": "code",
      "metadata": {
        "colab": {
          "base_uri": "https://localhost:8080/"
        },
        "id": "60TCR5YWjj6c",
        "outputId": "ba057900-24d5-46d3-f700-cc25e24daf9d"
      },
      "source": [
        "#Getting the top 10 players with most man of the match awards\n",
        "match_df['player_of_match'].value_counts()[0:10]"
      ],
      "execution_count": 463,
      "outputs": [
        {
          "output_type": "execute_result",
          "data": {
            "text/plain": [
              "AB de Villiers    23\n",
              "CH Gayle          22\n",
              "RG Sharma         18\n",
              "DA Warner         17\n",
              "MS Dhoni          17\n",
              "YK Pathan         16\n",
              "SR Watson         16\n",
              "SK Raina          14\n",
              "G Gambhir         13\n",
              "V Kohli           13\n",
              "Name: player_of_match, dtype: int64"
            ]
          },
          "metadata": {
            "tags": []
          },
          "execution_count": 463
        }
      ]
    },
    {
      "cell_type": "code",
      "metadata": {
        "colab": {
          "base_uri": "https://localhost:8080/",
          "height": 342
        },
        "id": "Dm0qr6xWjymY",
        "outputId": "d4d302c3-3761-4992-8d56-55a85fcfb190"
      },
      "source": [
        "#making a bar-plot for the top 5 players with most man of the match awards\n",
        "plt.figure(figsize=(8,5))\n",
        "plt.bar(list(match_df['player_of_match'].value_counts()[0:5].keys()),list(match_df['player_of_match'].value_counts()[0:5]),color=\"g\")\n",
        "plt.show()"
      ],
      "execution_count": 464,
      "outputs": [
        {
          "output_type": "display_data",
          "data": {
            "image/png": "[encoded data removed]",
            "text/plain": [
              "<Figure size 576x360 with 1 Axes>"
            ]
          },
          "metadata": {
            "tags": []
          }
        }
      ]
    },
    {
      "cell_type": "code",
      "metadata": {
        "id": "4tR2-b5ekSXi"
      },
      "source": [
        "#Extracting the records where a team won batting first\n",
        "batting_first=match_df[match_df['win_by_runs']!=0]"
      ],
      "execution_count": 465,
      "outputs": []
    },
    {
      "cell_type": "markdown",
      "metadata": {
        "id": "Q640oq7nNh30"
      },
      "source": [
        "**All the missing values in the city column are for the matches that were played at Dubai International Stadium.**"
      ]
    },
    {
      "cell_type": "code",
      "metadata": {
        "colab": {
          "base_uri": "https://localhost:8080/",
          "height": 334
        },
        "id": "Asrjqm5UNh32",
        "outputId": "6af23b8c-170d-45a8-cd93-2b74f67d10db"
      },
      "source": [
        "match_df['city'].fillna('Dubai',inplace=True)\n",
        "match_df.describe()"
      ],
      "execution_count": 466,
      "outputs": [
        {
          "output_type": "execute_result",
          "data": {
            "text/html": [
              "<div>\n",
              "<style scoped>\n",
              "    .dataframe tbody tr th:only-of-type {\n",
              "        vertical-align: middle;\n",
              "    }\n",
              "\n",
              "    .dataframe tbody tr th {\n",
              "        vertical-align: top;\n",
              "    }\n",
              "\n",
              "    .dataframe thead th {\n",
              "        text-align: right;\n",
              "    }\n",
              "</style>\n",
              "<table border=\"1\" class=\"dataframe\">\n",
              "  <thead>\n",
              "    <tr style=\"text-align: right;\">\n",
              "      <th></th>\n",
              "      <th>id</th>\n",
              "      <th>neutral_venue</th>\n",
              "      <th>team1</th>\n",
              "      <th>team2</th>\n",
              "      <th>toss_winner</th>\n",
              "      <th>winner</th>\n",
              "      <th>result_margin</th>\n",
              "      <th>Unnamed: 17</th>\n",
              "      <th>win_by_runs</th>\n",
              "      <th>win_by_wickets</th>\n",
              "    </tr>\n",
              "  </thead>\n",
              "  <tbody>\n",
              "    <tr>\n",
              "      <th>count</th>\n",
              "      <td>8.160000e+02</td>\n",
              "      <td>816.000000</td>\n",
              "      <td>816.000000</td>\n",
              "      <td>816.000000</td>\n",
              "      <td>816.000000</td>\n",
              "      <td>816.000000</td>\n",
              "      <td>799.000000</td>\n",
              "      <td>0.0</td>\n",
              "      <td>756.000000</td>\n",
              "      <td>756.000000</td>\n",
              "    </tr>\n",
              "    <tr>\n",
              "      <th>mean</th>\n",
              "      <td>7.563496e+05</td>\n",
              "      <td>0.094363</td>\n",
              "      <td>5.621324</td>\n",
              "      <td>5.656863</td>\n",
              "      <td>5.558824</td>\n",
              "      <td>5.474265</td>\n",
              "      <td>17.321652</td>\n",
              "      <td>NaN</td>\n",
              "      <td>13.283069</td>\n",
              "      <td>3.350529</td>\n",
              "    </tr>\n",
              "    <tr>\n",
              "      <th>std</th>\n",
              "      <td>3.058943e+05</td>\n",
              "      <td>0.292512</td>\n",
              "      <td>3.487751</td>\n",
              "      <td>3.476110</td>\n",
              "      <td>3.467850</td>\n",
              "      <td>3.517783</td>\n",
              "      <td>22.068427</td>\n",
              "      <td>NaN</td>\n",
              "      <td>23.471144</td>\n",
              "      <td>3.387963</td>\n",
              "    </tr>\n",
              "    <tr>\n",
              "      <th>min</th>\n",
              "      <td>3.359820e+05</td>\n",
              "      <td>0.000000</td>\n",
              "      <td>1.000000</td>\n",
              "      <td>1.000000</td>\n",
              "      <td>1.000000</td>\n",
              "      <td>1.000000</td>\n",
              "      <td>1.000000</td>\n",
              "      <td>NaN</td>\n",
              "      <td>0.000000</td>\n",
              "      <td>0.000000</td>\n",
              "    </tr>\n",
              "    <tr>\n",
              "      <th>25%</th>\n",
              "      <td>5.012278e+05</td>\n",
              "      <td>0.000000</td>\n",
              "      <td>3.000000</td>\n",
              "      <td>3.000000</td>\n",
              "      <td>2.750000</td>\n",
              "      <td>2.000000</td>\n",
              "      <td>6.000000</td>\n",
              "      <td>NaN</td>\n",
              "      <td>0.000000</td>\n",
              "      <td>0.000000</td>\n",
              "    </tr>\n",
              "    <tr>\n",
              "      <th>50%</th>\n",
              "      <td>7.292980e+05</td>\n",
              "      <td>0.000000</td>\n",
              "      <td>5.000000</td>\n",
              "      <td>5.000000</td>\n",
              "      <td>5.000000</td>\n",
              "      <td>5.000000</td>\n",
              "      <td>8.000000</td>\n",
              "      <td>NaN</td>\n",
              "      <td>0.000000</td>\n",
              "      <td>4.000000</td>\n",
              "    </tr>\n",
              "    <tr>\n",
              "      <th>75%</th>\n",
              "      <td>1.082626e+06</td>\n",
              "      <td>0.000000</td>\n",
              "      <td>9.000000</td>\n",
              "      <td>9.000000</td>\n",
              "      <td>8.000000</td>\n",
              "      <td>9.000000</td>\n",
              "      <td>19.500000</td>\n",
              "      <td>NaN</td>\n",
              "      <td>19.000000</td>\n",
              "      <td>6.000000</td>\n",
              "    </tr>\n",
              "    <tr>\n",
              "      <th>max</th>\n",
              "      <td>1.237181e+06</td>\n",
              "      <td>1.000000</td>\n",
              "      <td>14.000000</td>\n",
              "      <td>14.000000</td>\n",
              "      <td>14.000000</td>\n",
              "      <td>15.000000</td>\n",
              "      <td>146.000000</td>\n",
              "      <td>NaN</td>\n",
              "      <td>146.000000</td>\n",
              "      <td>10.000000</td>\n",
              "    </tr>\n",
              "  </tbody>\n",
              "</table>\n",
              "</div>"
            ],
            "text/plain": [
              "                 id  neutral_venue  ...  win_by_runs  win_by_wickets\n",
              "count  8.160000e+02     816.000000  ...   756.000000      756.000000\n",
              "mean   7.563496e+05       0.094363  ...    13.283069        3.350529\n",
              "std    3.058943e+05       0.292512  ...    23.471144        3.387963\n",
              "min    3.359820e+05       0.000000  ...     0.000000        0.000000\n",
              "25%    5.012278e+05       0.000000  ...     0.000000        0.000000\n",
              "50%    7.292980e+05       0.000000  ...     0.000000        4.000000\n",
              "75%    1.082626e+06       0.000000  ...    19.000000        6.000000\n",
              "max    1.237181e+06       1.000000  ...   146.000000       10.000000\n",
              "\n",
              "[8 rows x 10 columns]"
            ]
          },
          "metadata": {
            "tags": []
          },
          "execution_count": 466
        }
      ]
    },
    {
      "cell_type": "code",
      "metadata": {
        "colab": {
          "base_uri": "https://localhost:8080/",
          "height": 492
        },
        "id": "bycej6SslE5o",
        "outputId": "e0fdb3e2-546b-4acd-c821-cb9177309a2b"
      },
      "source": [
        "#Making a histogram \n",
        "plt.figure(figsize=(7,7))\n",
        "plt.hist(batting_first['win_by_runs'])\n",
        "plt.title(\"Distribution of Runs\")\n",
        "plt.xlabel(\"Runs\")\n",
        "plt.show()"
      ],
      "execution_count": 467,
      "outputs": [
        {
          "output_type": "display_data",
          "data": {
            "image/png": "[encoded data removed]",
            "text/plain": [
              "<Figure size 504x504 with 1 Axes>"
            ]
          },
          "metadata": {
            "tags": []
          }
        }
      ]
    },
    {
      "cell_type": "code",
      "metadata": {
        "colab": {
          "base_uri": "https://localhost:8080/"
        },
        "id": "NTZMU4ScVimA",
        "outputId": "c6aa0acf-963b-4a1d-e9cc-ae8901f0862f"
      },
      "source": [
        "#Finding out the number of wins w.r.t each team after batting first\n",
        "batting_first['winner'].value_counts().keys()"
      ],
      "execution_count": 468,
      "outputs": [
        {
          "output_type": "execute_result",
          "data": {
            "text/plain": [
              "Int64Index([1, 2, 5, 3, 9, 6, 7, 10, 14, 4, 11, 12, 8, 13, 15], dtype='int64')"
            ]
          },
          "metadata": {
            "tags": []
          },
          "execution_count": 468
        }
      ]
    },
    {
      "cell_type": "code",
      "metadata": {
        "colab": {
          "base_uri": "https://localhost:8080/",
          "height": 459
        },
        "id": "rwgiIte-XgU5",
        "outputId": "5aaee762-0289-4524-b7e6-58cd9fe4e44d"
      },
      "source": [
        "#Making a bar-plot for top 3 teams with most wins after batting first\n",
        "plt.figure(figsize=(7,7))\n",
        "plt.bar(list(batting_first['winner'].value_counts()[0:3].keys()),list(batting_first['winner'].value_counts()[0:3]),color=[\"blue\",\"yellow\",\"orange\"])\n",
        "plt.show()"
      ],
      "execution_count": 469,
      "outputs": [
        {
          "output_type": "display_data",
          "data": {
            "image/png": "[encoded data removed]",
            "text/plain": [
              "<Figure size 504x504 with 1 Axes>"
            ]
          },
          "metadata": {
            "tags": []
          }
        }
      ]
    },
    {
      "cell_type": "code",
      "metadata": {
        "colab": {
          "base_uri": "https://localhost:8080/",
          "height": 439
        },
        "id": "dAnQLXotlPLP",
        "outputId": "cdc428dd-85fe-437a-a169-8b79f91df158"
      },
      "source": [
        "#Making a pie chart\n",
        "plt.figure(figsize=(7,7))\n",
        "plt.pie(list(batting_first['winner'].value_counts()),labels=list(batting_first['winner'].value_counts().keys()),autopct='%0.1f%%')\n",
        "plt.show()"
      ],
      "execution_count": 470,
      "outputs": [
        {
          "output_type": "display_data",
          "data": {
            "image/png": "[encoded data removed]",
            "text/plain": [
              "<Figure size 504x504 with 1 Axes>"
            ]
          },
          "metadata": {
            "tags": []
          }
        }
      ]
    },
    {
      "cell_type": "code",
      "metadata": {
        "id": "QW3n89JoXxtz"
      },
      "source": [
        "#extracting those records where a team has won after batting second\n",
        "batting_second=match_df[match_df['win_by_wickets']!=0]"
      ],
      "execution_count": 471,
      "outputs": []
    },
    {
      "cell_type": "code",
      "metadata": {
        "colab": {
          "base_uri": "https://localhost:8080/",
          "height": 479
        },
        "id": "RlpE-dfkX0d9",
        "outputId": "047d8844-7e59-4e7a-870c-40c9a3a64f1c"
      },
      "source": [
        "#looking at the head\n",
        "batting_second.head()"
      ],
      "execution_count": 472,
      "outputs": [
        {
          "output_type": "execute_result",
          "data": {
            "text/html": [
              "<div>\n",
              "<style scoped>\n",
              "    .dataframe tbody tr th:only-of-type {\n",
              "        vertical-align: middle;\n",
              "    }\n",
              "\n",
              "    .dataframe tbody tr th {\n",
              "        vertical-align: top;\n",
              "    }\n",
              "\n",
              "    .dataframe thead th {\n",
              "        text-align: right;\n",
              "    }\n",
              "</style>\n",
              "<table border=\"1\" class=\"dataframe\">\n",
              "  <thead>\n",
              "    <tr style=\"text-align: right;\">\n",
              "      <th></th>\n",
              "      <th>id</th>\n",
              "      <th>city</th>\n",
              "      <th>date</th>\n",
              "      <th>player_of_match</th>\n",
              "      <th>venue</th>\n",
              "      <th>neutral_venue</th>\n",
              "      <th>team1</th>\n",
              "      <th>team2</th>\n",
              "      <th>toss_winner</th>\n",
              "      <th>toss_decision</th>\n",
              "      <th>winner</th>\n",
              "      <th>result</th>\n",
              "      <th>result_margin</th>\n",
              "      <th>eliminator</th>\n",
              "      <th>method</th>\n",
              "      <th>umpire1</th>\n",
              "      <th>umpire2</th>\n",
              "      <th>Unnamed: 17</th>\n",
              "      <th>win_by_runs</th>\n",
              "      <th>win_by_wickets</th>\n",
              "    </tr>\n",
              "  </thead>\n",
              "  <tbody>\n",
              "    <tr>\n",
              "      <th>1</th>\n",
              "      <td>335983</td>\n",
              "      <td>Chandigarh</td>\n",
              "      <td>19-04-2008</td>\n",
              "      <td>MEK Hussey</td>\n",
              "      <td>Punjab Cricket Association Stadium, Mohali</td>\n",
              "      <td>0</td>\n",
              "      <td>9</td>\n",
              "      <td>5</td>\n",
              "      <td>5</td>\n",
              "      <td>bat</td>\n",
              "      <td>5</td>\n",
              "      <td>runs</td>\n",
              "      <td>33.0</td>\n",
              "      <td>N</td>\n",
              "      <td>NaN</td>\n",
              "      <td>MR Benson</td>\n",
              "      <td>SL Shastri</td>\n",
              "      <td>NaN</td>\n",
              "      <td>0.0</td>\n",
              "      <td>7.0</td>\n",
              "    </tr>\n",
              "    <tr>\n",
              "      <th>2</th>\n",
              "      <td>335984</td>\n",
              "      <td>Delhi</td>\n",
              "      <td>19-04-2008</td>\n",
              "      <td>MF Maharoof</td>\n",
              "      <td>Feroz Shah Kotla</td>\n",
              "      <td>0</td>\n",
              "      <td>7</td>\n",
              "      <td>6</td>\n",
              "      <td>6</td>\n",
              "      <td>bat</td>\n",
              "      <td>7</td>\n",
              "      <td>wickets</td>\n",
              "      <td>9.0</td>\n",
              "      <td>N</td>\n",
              "      <td>NaN</td>\n",
              "      <td>Aleem Dar</td>\n",
              "      <td>GA Pratapkumar</td>\n",
              "      <td>NaN</td>\n",
              "      <td>0.0</td>\n",
              "      <td>10.0</td>\n",
              "    </tr>\n",
              "    <tr>\n",
              "      <th>3</th>\n",
              "      <td>335985</td>\n",
              "      <td>Mumbai</td>\n",
              "      <td>20-04-2008</td>\n",
              "      <td>MV Boucher</td>\n",
              "      <td>Wankhede Stadium</td>\n",
              "      <td>0</td>\n",
              "      <td>1</td>\n",
              "      <td>3</td>\n",
              "      <td>1</td>\n",
              "      <td>bat</td>\n",
              "      <td>3</td>\n",
              "      <td>wickets</td>\n",
              "      <td>5.0</td>\n",
              "      <td>N</td>\n",
              "      <td>NaN</td>\n",
              "      <td>SJ Davis</td>\n",
              "      <td>DJ Harper</td>\n",
              "      <td>NaN</td>\n",
              "      <td>0.0</td>\n",
              "      <td>6.0</td>\n",
              "    </tr>\n",
              "    <tr>\n",
              "      <th>5</th>\n",
              "      <td>335987</td>\n",
              "      <td>Jaipur</td>\n",
              "      <td>21-04-2008</td>\n",
              "      <td>SR Watson</td>\n",
              "      <td>Sawai Mansingh Stadium</td>\n",
              "      <td>0</td>\n",
              "      <td>6</td>\n",
              "      <td>9</td>\n",
              "      <td>9</td>\n",
              "      <td>bat</td>\n",
              "      <td>6</td>\n",
              "      <td>wickets</td>\n",
              "      <td>6.0</td>\n",
              "      <td>N</td>\n",
              "      <td>NaN</td>\n",
              "      <td>Aleem Dar</td>\n",
              "      <td>RB Tiffin</td>\n",
              "      <td>NaN</td>\n",
              "      <td>0.0</td>\n",
              "      <td>9.0</td>\n",
              "    </tr>\n",
              "    <tr>\n",
              "      <th>6</th>\n",
              "      <td>335988</td>\n",
              "      <td>Hyderabad</td>\n",
              "      <td>22-04-2008</td>\n",
              "      <td>V Sehwag</td>\n",
              "      <td>Rajiv Gandhi International Stadium, Uppal</td>\n",
              "      <td>0</td>\n",
              "      <td>4</td>\n",
              "      <td>7</td>\n",
              "      <td>4</td>\n",
              "      <td>bat</td>\n",
              "      <td>7</td>\n",
              "      <td>wickets</td>\n",
              "      <td>9.0</td>\n",
              "      <td>N</td>\n",
              "      <td>NaN</td>\n",
              "      <td>IL Howell</td>\n",
              "      <td>AM Saheba</td>\n",
              "      <td>NaN</td>\n",
              "      <td>0.0</td>\n",
              "      <td>4.0</td>\n",
              "    </tr>\n",
              "  </tbody>\n",
              "</table>\n",
              "</div>"
            ],
            "text/plain": [
              "       id        city        date  ... Unnamed: 17 win_by_runs  win_by_wickets\n",
              "1  335983  Chandigarh  19-04-2008  ...         NaN         0.0             7.0\n",
              "2  335984       Delhi  19-04-2008  ...         NaN         0.0            10.0\n",
              "3  335985      Mumbai  20-04-2008  ...         NaN         0.0             6.0\n",
              "5  335987      Jaipur  21-04-2008  ...         NaN         0.0             9.0\n",
              "6  335988   Hyderabad  22-04-2008  ...         NaN         0.0             4.0\n",
              "\n",
              "[5 rows x 20 columns]"
            ]
          },
          "metadata": {
            "tags": []
          },
          "execution_count": 472
        }
      ]
    },
    {
      "cell_type": "code",
      "metadata": {
        "colab": {
          "base_uri": "https://localhost:8080/",
          "height": 459
        },
        "id": "eNE0oNAsX4ev",
        "outputId": "328b6aa1-aaf0-4f0d-9177-af165db78f6b"
      },
      "source": [
        "#Making a histogram for frequency of wins w.r.t number of wickets\n",
        "plt.figure(figsize=(7,7))\n",
        "plt.hist(batting_second['win_by_wickets'],bins=3)\n",
        "plt.show()"
      ],
      "execution_count": 473,
      "outputs": [
        {
          "output_type": "display_data",
          "data": {
            "image/png": "[encoded data removed]",
            "text/plain": [
              "<Figure size 504x504 with 1 Axes>"
            ]
          },
          "metadata": {
            "tags": []
          }
        }
      ]
    },
    {
      "cell_type": "code",
      "metadata": {
        "colab": {
          "base_uri": "https://localhost:8080/"
        },
        "id": "6hmit0ynYTOu",
        "outputId": "31a2326e-d914-437a-df49-ebdcce7fd470"
      },
      "source": [
        "#Finding out the frequency of number of wins w.r.t each time after batting second\n",
        "batting_second['winner'].value_counts()"
      ],
      "execution_count": 474,
      "outputs": [
        {
          "output_type": "execute_result",
          "data": {
            "text/plain": [
              "1     68\n",
              "5     62\n",
              "2     54\n",
              "9     51\n",
              "6     49\n",
              "3     48\n",
              "10    43\n",
              "7     31\n",
              "4     17\n",
              "14    15\n",
              "13     9\n",
              "11     8\n",
              "8      7\n",
              "15     2\n",
              "12     2\n",
              "Name: winner, dtype: int64"
            ]
          },
          "metadata": {
            "tags": []
          },
          "execution_count": 474
        }
      ]
    },
    {
      "cell_type": "code",
      "metadata": {
        "colab": {
          "base_uri": "https://localhost:8080/",
          "height": 459
        },
        "id": "BcXx29oDYVKH",
        "outputId": "0ccf803f-dad2-4c62-f1b9-1ae823435f23"
      },
      "source": [
        "#Making a bar plot for top-3 teams with most wins after batting second\n",
        "plt.figure(figsize=(7,7))\n",
        "plt.bar(list(batting_second['winner'].value_counts()[0:3].keys()),list(batting_second['winner'].value_counts()[0:3]),color=[\"purple\",\"blue\",\"red\"])\n",
        "plt.show()"
      ],
      "execution_count": 475,
      "outputs": [
        {
          "output_type": "display_data",
          "data": {
            "image/png": "[encoded data removed]",
            "text/plain": [
              "<Figure size 504x504 with 1 Axes>"
            ]
          },
          "metadata": {
            "tags": []
          }
        }
      ]
    },
    {
      "cell_type": "code",
      "metadata": {
        "colab": {
          "base_uri": "https://localhost:8080/",
          "height": 439
        },
        "id": "467Cy8K4YacR",
        "outputId": "344a1687-cca0-4b78-9fb1-cc429b1e9552"
      },
      "source": [
        "#Making a pie chart for distribution of most wins after batting second\n",
        "plt.figure(figsize=(7,7))\n",
        "plt.pie(list(batting_second['winner'].value_counts()),labels=list(batting_second['winner'].value_counts().keys()),autopct='%0.1f%%')\n",
        "plt.show()"
      ],
      "execution_count": 476,
      "outputs": [
        {
          "output_type": "display_data",
          "data": {
            "image/png": "[encoded data removed]",
            "text/plain": [
              "<Figure size 504x504 with 1 Axes>"
            ]
          },
          "metadata": {
            "tags": []
          }
        }
      ]
    },
    {
      "cell_type": "code",
      "metadata": {
        "colab": {
          "base_uri": "https://localhost:8080/",
          "height": 334
        },
        "id": "ej-Gt4pOsOeu",
        "outputId": "18debb29-5cc4-4e5b-d74b-7d7747ede49d"
      },
      "source": [
        "df = pd.DataFrame(match_df)\n",
        "df.describe()"
      ],
      "execution_count": 477,
      "outputs": [
        {
          "output_type": "execute_result",
          "data": {
            "text/html": [
              "<div>\n",
              "<style scoped>\n",
              "    .dataframe tbody tr th:only-of-type {\n",
              "        vertical-align: middle;\n",
              "    }\n",
              "\n",
              "    .dataframe tbody tr th {\n",
              "        vertical-align: top;\n",
              "    }\n",
              "\n",
              "    .dataframe thead th {\n",
              "        text-align: right;\n",
              "    }\n",
              "</style>\n",
              "<table border=\"1\" class=\"dataframe\">\n",
              "  <thead>\n",
              "    <tr style=\"text-align: right;\">\n",
              "      <th></th>\n",
              "      <th>id</th>\n",
              "      <th>neutral_venue</th>\n",
              "      <th>team1</th>\n",
              "      <th>team2</th>\n",
              "      <th>toss_winner</th>\n",
              "      <th>winner</th>\n",
              "      <th>result_margin</th>\n",
              "      <th>Unnamed: 17</th>\n",
              "      <th>win_by_runs</th>\n",
              "      <th>win_by_wickets</th>\n",
              "    </tr>\n",
              "  </thead>\n",
              "  <tbody>\n",
              "    <tr>\n",
              "      <th>count</th>\n",
              "      <td>8.160000e+02</td>\n",
              "      <td>816.000000</td>\n",
              "      <td>816.000000</td>\n",
              "      <td>816.000000</td>\n",
              "      <td>816.000000</td>\n",
              "      <td>816.000000</td>\n",
              "      <td>799.000000</td>\n",
              "      <td>0.0</td>\n",
              "      <td>756.000000</td>\n",
              "      <td>756.000000</td>\n",
              "    </tr>\n",
              "    <tr>\n",
              "      <th>mean</th>\n",
              "      <td>7.563496e+05</td>\n",
              "      <td>0.094363</td>\n",
              "      <td>5.621324</td>\n",
              "      <td>5.656863</td>\n",
              "      <td>5.558824</td>\n",
              "      <td>5.474265</td>\n",
              "      <td>17.321652</td>\n",
              "      <td>NaN</td>\n",
              "      <td>13.283069</td>\n",
              "      <td>3.350529</td>\n",
              "    </tr>\n",
              "    <tr>\n",
              "      <th>std</th>\n",
              "      <td>3.058943e+05</td>\n",
              "      <td>0.292512</td>\n",
              "      <td>3.487751</td>\n",
              "      <td>3.476110</td>\n",
              "      <td>3.467850</td>\n",
              "      <td>3.517783</td>\n",
              "      <td>22.068427</td>\n",
              "      <td>NaN</td>\n",
              "      <td>23.471144</td>\n",
              "      <td>3.387963</td>\n",
              "    </tr>\n",
              "    <tr>\n",
              "      <th>min</th>\n",
              "      <td>3.359820e+05</td>\n",
              "      <td>0.000000</td>\n",
              "      <td>1.000000</td>\n",
              "      <td>1.000000</td>\n",
              "      <td>1.000000</td>\n",
              "      <td>1.000000</td>\n",
              "      <td>1.000000</td>\n",
              "      <td>NaN</td>\n",
              "      <td>0.000000</td>\n",
              "      <td>0.000000</td>\n",
              "    </tr>\n",
              "    <tr>\n",
              "      <th>25%</th>\n",
              "      <td>5.012278e+05</td>\n",
              "      <td>0.000000</td>\n",
              "      <td>3.000000</td>\n",
              "      <td>3.000000</td>\n",
              "      <td>2.750000</td>\n",
              "      <td>2.000000</td>\n",
              "      <td>6.000000</td>\n",
              "      <td>NaN</td>\n",
              "      <td>0.000000</td>\n",
              "      <td>0.000000</td>\n",
              "    </tr>\n",
              "    <tr>\n",
              "      <th>50%</th>\n",
              "      <td>7.292980e+05</td>\n",
              "      <td>0.000000</td>\n",
              "      <td>5.000000</td>\n",
              "      <td>5.000000</td>\n",
              "      <td>5.000000</td>\n",
              "      <td>5.000000</td>\n",
              "      <td>8.000000</td>\n",
              "      <td>NaN</td>\n",
              "      <td>0.000000</td>\n",
              "      <td>4.000000</td>\n",
              "    </tr>\n",
              "    <tr>\n",
              "      <th>75%</th>\n",
              "      <td>1.082626e+06</td>\n",
              "      <td>0.000000</td>\n",
              "      <td>9.000000</td>\n",
              "      <td>9.000000</td>\n",
              "      <td>8.000000</td>\n",
              "      <td>9.000000</td>\n",
              "      <td>19.500000</td>\n",
              "      <td>NaN</td>\n",
              "      <td>19.000000</td>\n",
              "      <td>6.000000</td>\n",
              "    </tr>\n",
              "    <tr>\n",
              "      <th>max</th>\n",
              "      <td>1.237181e+06</td>\n",
              "      <td>1.000000</td>\n",
              "      <td>14.000000</td>\n",
              "      <td>14.000000</td>\n",
              "      <td>14.000000</td>\n",
              "      <td>15.000000</td>\n",
              "      <td>146.000000</td>\n",
              "      <td>NaN</td>\n",
              "      <td>146.000000</td>\n",
              "      <td>10.000000</td>\n",
              "    </tr>\n",
              "  </tbody>\n",
              "</table>\n",
              "</div>"
            ],
            "text/plain": [
              "                 id  neutral_venue  ...  win_by_runs  win_by_wickets\n",
              "count  8.160000e+02     816.000000  ...   756.000000      756.000000\n",
              "mean   7.563496e+05       0.094363  ...    13.283069        3.350529\n",
              "std    3.058943e+05       0.292512  ...    23.471144        3.387963\n",
              "min    3.359820e+05       0.000000  ...     0.000000        0.000000\n",
              "25%    5.012278e+05       0.000000  ...     0.000000        0.000000\n",
              "50%    7.292980e+05       0.000000  ...     0.000000        4.000000\n",
              "75%    1.082626e+06       0.000000  ...    19.000000        6.000000\n",
              "max    1.237181e+06       1.000000  ...   146.000000       10.000000\n",
              "\n",
              "[8 rows x 10 columns]"
            ]
          },
          "metadata": {
            "tags": []
          },
          "execution_count": 477
        }
      ]
    },
    {
      "cell_type": "code",
      "metadata": {
        "id": "IrJuXI3fZROF"
      },
      "source": [
        "deliveries=pd.read_csv('data/deliveries.csv')"
      ],
      "execution_count": 478,
      "outputs": []
    },
    {
      "cell_type": "code",
      "metadata": {
        "colab": {
          "base_uri": "https://localhost:8080/",
          "height": 411
        },
        "id": "ugmYyr3mZTLU",
        "outputId": "e3eb99f3-eb3f-4d22-e80f-96a8eb70aec9"
      },
      "source": [
        "deliveries.head()"
      ],
      "execution_count": 479,
      "outputs": [
        {
          "output_type": "execute_result",
          "data": {
            "text/html": [
              "<div>\n",
              "<style scoped>\n",
              "    .dataframe tbody tr th:only-of-type {\n",
              "        vertical-align: middle;\n",
              "    }\n",
              "\n",
              "    .dataframe tbody tr th {\n",
              "        vertical-align: top;\n",
              "    }\n",
              "\n",
              "    .dataframe thead th {\n",
              "        text-align: right;\n",
              "    }\n",
              "</style>\n",
              "<table border=\"1\" class=\"dataframe\">\n",
              "  <thead>\n",
              "    <tr style=\"text-align: right;\">\n",
              "      <th></th>\n",
              "      <th>match_id</th>\n",
              "      <th>inning</th>\n",
              "      <th>over</th>\n",
              "      <th>ball</th>\n",
              "      <th>batsman</th>\n",
              "      <th>non_striker</th>\n",
              "      <th>bowler</th>\n",
              "      <th>batsman_runs</th>\n",
              "      <th>extra_runs</th>\n",
              "      <th>total_runs</th>\n",
              "      <th>non_boundary</th>\n",
              "      <th>is_wicket</th>\n",
              "      <th>dismissal_kind</th>\n",
              "      <th>player_dismissed</th>\n",
              "      <th>fielder</th>\n",
              "      <th>extras_type</th>\n",
              "      <th>batting_team</th>\n",
              "      <th>bowling_team</th>\n",
              "      <th>Unnamed: 18</th>\n",
              "      <th>runs</th>\n",
              "      <th>wickets</th>\n",
              "      <th>overs</th>\n",
              "      <th>runs_last_5</th>\n",
              "      <th>wickets_last_5</th>\n",
              "    </tr>\n",
              "  </thead>\n",
              "  <tbody>\n",
              "    <tr>\n",
              "      <th>0</th>\n",
              "      <td>335982.0</td>\n",
              "      <td>1.0</td>\n",
              "      <td>6.0</td>\n",
              "      <td>5.0</td>\n",
              "      <td>RT Ponting</td>\n",
              "      <td>BB McCullum</td>\n",
              "      <td>AA Noffke</td>\n",
              "      <td>1.0</td>\n",
              "      <td>0.0</td>\n",
              "      <td>1.0</td>\n",
              "      <td>0.0</td>\n",
              "      <td>0.0</td>\n",
              "      <td>NaN</td>\n",
              "      <td>NaN</td>\n",
              "      <td>NaN</td>\n",
              "      <td>NaN</td>\n",
              "      <td>Kolkata Knight Riders</td>\n",
              "      <td>Royal Challengers Bangalore</td>\n",
              "      <td>NaN</td>\n",
              "      <td>1.0</td>\n",
              "      <td>0.0</td>\n",
              "      <td>0.1</td>\n",
              "      <td>1.0</td>\n",
              "      <td>0.0</td>\n",
              "    </tr>\n",
              "    <tr>\n",
              "      <th>1</th>\n",
              "      <td>335982.0</td>\n",
              "      <td>1.0</td>\n",
              "      <td>6.0</td>\n",
              "      <td>6.0</td>\n",
              "      <td>BB McCullum</td>\n",
              "      <td>RT Ponting</td>\n",
              "      <td>AA Noffke</td>\n",
              "      <td>1.0</td>\n",
              "      <td>0.0</td>\n",
              "      <td>1.0</td>\n",
              "      <td>0.0</td>\n",
              "      <td>0.0</td>\n",
              "      <td>NaN</td>\n",
              "      <td>NaN</td>\n",
              "      <td>NaN</td>\n",
              "      <td>NaN</td>\n",
              "      <td>Kolkata Knight Riders</td>\n",
              "      <td>Royal Challengers Bangalore</td>\n",
              "      <td>NaN</td>\n",
              "      <td>1.0</td>\n",
              "      <td>0.0</td>\n",
              "      <td>0.2</td>\n",
              "      <td>1.0</td>\n",
              "      <td>0.0</td>\n",
              "    </tr>\n",
              "    <tr>\n",
              "      <th>2</th>\n",
              "      <td>335982.0</td>\n",
              "      <td>1.0</td>\n",
              "      <td>7.0</td>\n",
              "      <td>1.0</td>\n",
              "      <td>BB McCullum</td>\n",
              "      <td>RT Ponting</td>\n",
              "      <td>Z Khan</td>\n",
              "      <td>0.0</td>\n",
              "      <td>0.0</td>\n",
              "      <td>0.0</td>\n",
              "      <td>0.0</td>\n",
              "      <td>0.0</td>\n",
              "      <td>NaN</td>\n",
              "      <td>NaN</td>\n",
              "      <td>NaN</td>\n",
              "      <td>NaN</td>\n",
              "      <td>Kolkata Knight Riders</td>\n",
              "      <td>Royal Challengers Bangalore</td>\n",
              "      <td>NaN</td>\n",
              "      <td>2.0</td>\n",
              "      <td>0.0</td>\n",
              "      <td>0.2</td>\n",
              "      <td>2.0</td>\n",
              "      <td>0.0</td>\n",
              "    </tr>\n",
              "    <tr>\n",
              "      <th>3</th>\n",
              "      <td>335982.0</td>\n",
              "      <td>1.0</td>\n",
              "      <td>7.0</td>\n",
              "      <td>2.0</td>\n",
              "      <td>BB McCullum</td>\n",
              "      <td>RT Ponting</td>\n",
              "      <td>Z Khan</td>\n",
              "      <td>1.0</td>\n",
              "      <td>0.0</td>\n",
              "      <td>1.0</td>\n",
              "      <td>0.0</td>\n",
              "      <td>0.0</td>\n",
              "      <td>NaN</td>\n",
              "      <td>NaN</td>\n",
              "      <td>NaN</td>\n",
              "      <td>NaN</td>\n",
              "      <td>Kolkata Knight Riders</td>\n",
              "      <td>Royal Challengers Bangalore</td>\n",
              "      <td>NaN</td>\n",
              "      <td>2.0</td>\n",
              "      <td>0.0</td>\n",
              "      <td>0.3</td>\n",
              "      <td>2.0</td>\n",
              "      <td>0.0</td>\n",
              "    </tr>\n",
              "    <tr>\n",
              "      <th>4</th>\n",
              "      <td>335982.0</td>\n",
              "      <td>1.0</td>\n",
              "      <td>7.0</td>\n",
              "      <td>3.0</td>\n",
              "      <td>RT Ponting</td>\n",
              "      <td>BB McCullum</td>\n",
              "      <td>Z Khan</td>\n",
              "      <td>1.0</td>\n",
              "      <td>0.0</td>\n",
              "      <td>1.0</td>\n",
              "      <td>0.0</td>\n",
              "      <td>0.0</td>\n",
              "      <td>NaN</td>\n",
              "      <td>NaN</td>\n",
              "      <td>NaN</td>\n",
              "      <td>NaN</td>\n",
              "      <td>Kolkata Knight Riders</td>\n",
              "      <td>Royal Challengers Bangalore</td>\n",
              "      <td>NaN</td>\n",
              "      <td>2.0</td>\n",
              "      <td>0.0</td>\n",
              "      <td>0.4</td>\n",
              "      <td>2.0</td>\n",
              "      <td>0.0</td>\n",
              "    </tr>\n",
              "  </tbody>\n",
              "</table>\n",
              "</div>"
            ],
            "text/plain": [
              "   match_id  inning  over  ball  ... wickets overs runs_last_5  wickets_last_5\n",
              "0  335982.0     1.0   6.0   5.0  ...     0.0   0.1         1.0             0.0\n",
              "1  335982.0     1.0   6.0   6.0  ...     0.0   0.2         1.0             0.0\n",
              "2  335982.0     1.0   7.0   1.0  ...     0.0   0.2         2.0             0.0\n",
              "3  335982.0     1.0   7.0   2.0  ...     0.0   0.3         2.0             0.0\n",
              "4  335982.0     1.0   7.0   3.0  ...     0.0   0.4         2.0             0.0\n",
              "\n",
              "[5 rows x 24 columns]"
            ]
          },
          "metadata": {
            "tags": []
          },
          "execution_count": 479
        }
      ]
    },
    {
      "cell_type": "code",
      "metadata": {
        "colab": {
          "base_uri": "https://localhost:8080/"
        },
        "id": "fk4JJaTTZVtW",
        "outputId": "d799f5c9-93df-448a-9d5e-5688ea716795"
      },
      "source": [
        "deliveries['match_id'].unique()"
      ],
      "execution_count": 480,
      "outputs": [
        {
          "output_type": "execute_result",
          "data": {
            "text/plain": [
              "array([ 335982.,  335983.,  335984.,  335985.,  335986.,  335987.,\n",
              "        335988.,  335989.,  335990.,  335991.,  335992.,  335993.,\n",
              "        335994.,  335995.,  335996.,  335997.,  335998.,  335999.,\n",
              "        336000.,  336001.,  336002.,  336003.,  336004.,  336005.,\n",
              "        336006.,  336007.,  336008.,  336009.,  336010.,  336011.,\n",
              "        336012.,  336013.,  336014.,  336015.,  336016.,  336017.,\n",
              "        336018.,  336019.,  336020.,  336021.,  336022.,  336023.,\n",
              "        336024.,  336025.,  336026.,  336027.,  336028.,  336029.,\n",
              "        336031.,  336032.,  336033.,  336034.,  336035.,  336036.,\n",
              "        336037.,  336038.,  336039.,  336040.,  392181.,  392182.,\n",
              "        392183.,  392184.,  392185.,  392186.,  392188.,  392189.,\n",
              "        392190.,  392191.,  392192.,  392194.,  392195.,  392196.,\n",
              "        392197.,  392198.,  392199.,  392200.,  392201.,  392202.,\n",
              "        392203.,  392204.,  392205.,  392206.,  392207.,  392208.,\n",
              "        392209.,  392210.,  392211.,  392212.,  392213.,  392214.,\n",
              "        392215.,  392216.,  392217.,  392218.,  392219.,  392220.,\n",
              "        392221.,  392222.,  392223.,  392224.,  392225.,  392226.,\n",
              "        392227.,  392228.,  392229.,  392230.,  392231.,  392232.,\n",
              "        392233.,  392234.,  392235.,  392236.,  392237.,  392238.,\n",
              "        392239.,  419106.,  419107.,  419108.,  419109.,  419110.,\n",
              "        419111.,  419112.,  419113.,  419114.,  419115.,  419116.,\n",
              "        419117.,  419118.,  419119.,  419120.,  419121.,  419122.,\n",
              "        419123.,  419124.,  419125.,  419126.,  419127.,  419128.,\n",
              "        419129.,  419130.,  419131.,  419132.,  419133.,  419134.,\n",
              "        419135.,  419136.,  419137.,  419138.,  419139.,  419140.,\n",
              "        419141.,  419142.,  419143.,  419144.,  419145.,  419146.,\n",
              "        419147.,  419148.,  419149.,  419150.,  419151.,  419152.,\n",
              "        419153.,  419154.,  419155.,  419156.,  419157.,  419158.,\n",
              "        419159.,  419160.,  419161.,  419162.,  419163.,  419164.,\n",
              "        419165.,  501198.,  501199.,  501200.,  501201.,  501202.,\n",
              "        501203.,  501204.,  501205.,  501206.,  501207.,  501208.,\n",
              "        501209.,  501210.,  501211.,  501212.,  501213.,  501214.,\n",
              "        501215.,  501216.,  501218.,  501219.,  501220.,  501221.,\n",
              "        501222.,  501223.,  501224.,  501225.,  501226.,  501227.,\n",
              "        501228.,  501229.,  501230.,  501231.,  501232.,  501233.,\n",
              "        501234.,  501235.,  501236.,  501237.,  501238.,  501239.,\n",
              "        501240.,  501241.,  501242.,  501243.,  501244.,  501245.,\n",
              "        501246.,  501247.,  501248.,  501249.,  501250.,  501251.,\n",
              "        501252.,  501253.,  501254.,  501255.,  501256.,  501257.,\n",
              "        501258.,  501259.,  501260.,  501261.,  501262.,  501263.,\n",
              "        501264.,  501265.,  501266.,  501267.,  501268.,  501269.,\n",
              "        501270.,  501271.,  548306.,  548307.,  548308.,  548309.,\n",
              "        548310.,  548311.,  548312.,  548313.,  548314.,  548315.,\n",
              "        548316.,  548317.,  548318.,  548319.,  548320.,  548321.,\n",
              "        548322.,  548323.,  548324.,  548325.,  548326.,  548327.,\n",
              "        548328.,  548329.,  548330.,  548331.,  548332.,  548333.,\n",
              "        548334.,  548335.,  548336.,  548337.,  548339.,  548341.,\n",
              "        548342.,  548343.,  548344.,  548345.,  548346.,  548347.,\n",
              "        548348.,  548349.,  548350.,  548351.,  548352.,  548353.,\n",
              "        548354.,  548355.,  548356.,  548357.,  548358.,  548359.,\n",
              "        548360.,  548361.,  548362.,  548363.,  548364.,  548365.,\n",
              "        548366.,  548367.,  548368.,  548369.,  548370.,  548371.,\n",
              "        548372.,  548373.,  548374.,  548375.,  548376.,  548377.,\n",
              "        548378.,  548379.,  548380.,  548381.,  597998.,  597999.,\n",
              "        598000.,  598001.,  598002.,  598003.,  598004.,  598005.,\n",
              "        598006.,  598007.,  598008.,  598009.,  598010.,  598011.,\n",
              "        598012.,  598013.,  598014.,  598015.,  598016.,  598017.,\n",
              "        598018.,  598019.,  598020.,  598021.,  598022.,  598023.,\n",
              "        598024.,  598025.,  598026.,  598027.,  598028.,  598029.,\n",
              "        598030.,  598031.,  598032.,  598033.,  598034.,  598035.,\n",
              "        598036.,  598037.,  598038.,  598039.,  598040.,  598041.,\n",
              "        598042.,  598043.,  598044.,  598045.,  598046.,  598047.,\n",
              "        598048.,  598049.,  598050.,  598051.,  598052.,  598053.,\n",
              "        598054.,  598055.,  598056.,  598057.,  598058.,  598059.,\n",
              "        598060.,  598061.,  598062.,  598063.,  598064.,  598065.,\n",
              "        598066.,  598067.,  598068.,  598069.,  598070.,  598071.,\n",
              "        598072.,  598073.,  729279.,  729281.,  729283.,  729285.,\n",
              "        729287.,  729289.,  729291.,  729293.,  729295.,  729297.,\n",
              "        729299.,  729301.,  729303.,  729305.,  729307.,  729309.,\n",
              "        729311.,  729313.,  729315.,  729317.,  733971.,  733973.,\n",
              "        733975.,  733977.,  733979.,  733981.,  733983.,  733985.,\n",
              "        733987.,  733989.,  733991.,  733993.,  733995.,  733997.,\n",
              "        733999.,  734001.,  734003.,  734005.,  734007.,  734009.,\n",
              "        734011.,  734013.,  734015.,  734017.,  734019.,  734021.,\n",
              "        734023.,  734025.,  734027.,  734029.,  734031.,  734033.,\n",
              "        734035.,  734037.,  734039.,  734041.,  734043.,  734045.,\n",
              "        734047.,  734049.,  829705.,  829707.,  829709.,  829711.,\n",
              "        829713.,  829715.,  829717.,  829719.,  829721.,  829723.,\n",
              "        829725.,  829727.,  829729.,  829731.,  829733.,  829735.,\n",
              "        829737.,  829739.,  829741.,  829743.,  829745.,  829747.,\n",
              "        829749.,  829751.,  829753.,  829757.,  829759.,  829761.,\n",
              "        829763.,  829765.,  829767.,  829769.,  829771.,  829773.,\n",
              "        829775.,  829777.,  829779.,  829781.,  829783.,  829785.,\n",
              "        829787.,  829789.,  829791.,  829793.,  829795.,  829797.,\n",
              "        829799.,  829801.,  829803.,  829805.,  829807.,  829809.,\n",
              "        829811.,  829813.,  829815.,  829817.,  829819.,  829821.,\n",
              "        829823.,  980901.,  980903.,  980905.,  980907.,  980909.,\n",
              "        980911.,  980913.,  980915.,  980917.,  980919.,  980921.,\n",
              "        980923.,  980925.,  980927.,  980929.,  980931.,  980933.,\n",
              "        980935.,  980937.,  980939.,  980941.,  980943.,  980945.,\n",
              "        980947.,  980949.,  980951.,  980953.,  980955.,  980957.,\n",
              "        980959.,  980961.,  980963.,  980965.,  980967.,  980969.,\n",
              "        980971.,  980973.,  980975.,  980977.,  980979.,  980981.,\n",
              "        980983.,  980985.,  980987.,  980989.,  980991.,  980993.,\n",
              "        980995.,  980997.,  980999.,  981001.,  981003.,  981005.,\n",
              "        981007.,  981009.,  981011.,  981013.,  981015.,  981017.,\n",
              "        981019., 1082591., 1082592., 1082593., 1082594., 1082595.,\n",
              "       1082596., 1082597., 1082598., 1082599., 1082600., 1082601.,\n",
              "       1082602., 1082603., 1082604., 1082605., 1082606., 1082607.,\n",
              "       1082608., 1082609., 1082610., 1082611., 1082612., 1082613.,\n",
              "       1082614., 1082615., 1082616., 1082617., 1082618., 1082620.,\n",
              "       1082621., 1082622., 1082623., 1082624., 1082625., 1082626.,\n",
              "       1082627., 1082628., 1082629., 1082630., 1082631., 1082632.,\n",
              "       1082633., 1082634., 1082635., 1082636., 1082637., 1082638.,\n",
              "       1082639., 1082640., 1082641., 1082642., 1082643., 1082644.,\n",
              "       1082645., 1082646., 1082647., 1082648., 1082649., 1082650.,\n",
              "       1136561., 1136562., 1136563., 1136564., 1136565., 1136566.,\n",
              "       1136567., 1136568., 1136569., 1136570., 1136571., 1136572.,\n",
              "       1136573., 1136574., 1136575., 1136576., 1136577., 1136578.,\n",
              "       1136579., 1136580., 1136581., 1136582., 1136583., 1136584.,\n",
              "       1136585., 1136586., 1136587., 1136588., 1136589., 1136590.,\n",
              "       1136591., 1136592., 1136593., 1136594., 1136595., 1136596.,\n",
              "       1136597., 1136598., 1136599., 1136600., 1136601., 1136602.,\n",
              "       1136603., 1136604., 1136605., 1136606., 1136607., 1136608.,\n",
              "       1136609., 1136610., 1136611., 1136612., 1136613., 1136614.,\n",
              "       1136615., 1136616., 1136617., 1136618., 1136619., 1136620.,\n",
              "       1175356., 1175357., 1175358., 1175359., 1175360., 1175361.,\n",
              "       1175362., 1175363., 1175364., 1175365., 1175366., 1175367.,\n",
              "       1175368., 1175369., 1175370., 1175371., 1175372., 1178393.,\n",
              "       1178394., 1178395., 1178396., 1178397., 1178398., 1178399.,\n",
              "       1178400., 1178401., 1178402., 1178403., 1178404., 1178405.,\n",
              "       1178406., 1178407., 1178408., 1178409., 1178410., 1178411.,\n",
              "       1178412., 1178413., 1178414., 1178415., 1178416., 1178417.,\n",
              "       1178418., 1178419., 1178420., 1178421., 1178422., 1178423.,\n",
              "       1178424., 1178425., 1178426., 1178427., 1178428., 1178429.,\n",
              "       1178430., 1178431., 1181764., 1181766., 1181767., 1181768.,\n",
              "       1216492., 1216493., 1216494., 1216495., 1216496., 1216497.,\n",
              "       1216498., 1216499., 1216500., 1216501., 1216502., 1216503.,\n",
              "       1216504., 1216505., 1216506., 1216507., 1216508., 1216509.,\n",
              "       1216510., 1216511., 1216512., 1216513., 1216514., 1216515.,\n",
              "       1216516., 1216517., 1216518., 1216519., 1216520., 1216521.,\n",
              "       1216522., 1216523., 1216524., 1216525., 1216526., 1216527.,\n",
              "       1216528., 1216529., 1216530., 1216531., 1216532., 1216533.,\n",
              "       1216534., 1216535., 1216536., 1216537., 1216538., 1216539.,\n",
              "       1216540., 1216541., 1216542., 1216543., 1216544., 1216545.,\n",
              "       1216546., 1216547., 1237177., 1237178., 1237180., 1237181.,\n",
              "            nan])"
            ]
          },
          "metadata": {
            "tags": []
          },
          "execution_count": 480
        }
      ]
    },
    {
      "cell_type": "code",
      "metadata": {
        "colab": {
          "base_uri": "https://localhost:8080/",
          "height": 445
        },
        "id": "zGvnm7P-bn6R",
        "outputId": "3ec3ff86-dc3a-4025-d444-6c0c1ed12183"
      },
      "source": [
        "print(f'Before Removing Overs : {data.shape}')\n",
        "data = deliveries[deliveries['overs'] >= 5.0]\n",
        "print(f'After Removing Overs : {deliveries.shape}')\n",
        "data.head()"
      ],
      "execution_count": 481,
      "outputs": [
        {
          "output_type": "stream",
          "text": [
            "Before Removing Overs : (15,)\n",
            "After Removing Overs : (256421, 24)\n"
          ],
          "name": "stdout"
        },
        {
          "output_type": "execute_result",
          "data": {
            "text/html": [
              "<div>\n",
              "<style scoped>\n",
              "    .dataframe tbody tr th:only-of-type {\n",
              "        vertical-align: middle;\n",
              "    }\n",
              "\n",
              "    .dataframe tbody tr th {\n",
              "        vertical-align: top;\n",
              "    }\n",
              "\n",
              "    .dataframe thead th {\n",
              "        text-align: right;\n",
              "    }\n",
              "</style>\n",
              "<table border=\"1\" class=\"dataframe\">\n",
              "  <thead>\n",
              "    <tr style=\"text-align: right;\">\n",
              "      <th></th>\n",
              "      <th>match_id</th>\n",
              "      <th>inning</th>\n",
              "      <th>over</th>\n",
              "      <th>ball</th>\n",
              "      <th>batsman</th>\n",
              "      <th>non_striker</th>\n",
              "      <th>bowler</th>\n",
              "      <th>batsman_runs</th>\n",
              "      <th>extra_runs</th>\n",
              "      <th>total_runs</th>\n",
              "      <th>non_boundary</th>\n",
              "      <th>is_wicket</th>\n",
              "      <th>dismissal_kind</th>\n",
              "      <th>player_dismissed</th>\n",
              "      <th>fielder</th>\n",
              "      <th>extras_type</th>\n",
              "      <th>batting_team</th>\n",
              "      <th>bowling_team</th>\n",
              "      <th>Unnamed: 18</th>\n",
              "      <th>runs</th>\n",
              "      <th>wickets</th>\n",
              "      <th>overs</th>\n",
              "      <th>runs_last_5</th>\n",
              "      <th>wickets_last_5</th>\n",
              "    </tr>\n",
              "  </thead>\n",
              "  <tbody>\n",
              "    <tr>\n",
              "      <th>32</th>\n",
              "      <td>335982.0</td>\n",
              "      <td>1.0</td>\n",
              "      <td>12.0</td>\n",
              "      <td>1.0</td>\n",
              "      <td>RT Ponting</td>\n",
              "      <td>BB McCullum</td>\n",
              "      <td>JH Kallis</td>\n",
              "      <td>0.0</td>\n",
              "      <td>0.0</td>\n",
              "      <td>0.0</td>\n",
              "      <td>0.0</td>\n",
              "      <td>1.0</td>\n",
              "      <td>caught</td>\n",
              "      <td>RT Ponting</td>\n",
              "      <td>P Kumar</td>\n",
              "      <td>NaN</td>\n",
              "      <td>Kolkata Knight Riders</td>\n",
              "      <td>Royal Challengers Bangalore</td>\n",
              "      <td>NaN</td>\n",
              "      <td>61.0</td>\n",
              "      <td>0.0</td>\n",
              "      <td>5.1</td>\n",
              "      <td>59.0</td>\n",
              "      <td>0.0</td>\n",
              "    </tr>\n",
              "    <tr>\n",
              "      <th>33</th>\n",
              "      <td>335982.0</td>\n",
              "      <td>1.0</td>\n",
              "      <td>12.0</td>\n",
              "      <td>2.0</td>\n",
              "      <td>BB McCullum</td>\n",
              "      <td>DJ Hussey</td>\n",
              "      <td>JH Kallis</td>\n",
              "      <td>4.0</td>\n",
              "      <td>0.0</td>\n",
              "      <td>4.0</td>\n",
              "      <td>0.0</td>\n",
              "      <td>0.0</td>\n",
              "      <td>NaN</td>\n",
              "      <td>NaN</td>\n",
              "      <td>NaN</td>\n",
              "      <td>NaN</td>\n",
              "      <td>Kolkata Knight Riders</td>\n",
              "      <td>Royal Challengers Bangalore</td>\n",
              "      <td>NaN</td>\n",
              "      <td>61.0</td>\n",
              "      <td>1.0</td>\n",
              "      <td>5.2</td>\n",
              "      <td>59.0</td>\n",
              "      <td>1.0</td>\n",
              "    </tr>\n",
              "    <tr>\n",
              "      <th>34</th>\n",
              "      <td>335982.0</td>\n",
              "      <td>1.0</td>\n",
              "      <td>12.0</td>\n",
              "      <td>3.0</td>\n",
              "      <td>BB McCullum</td>\n",
              "      <td>DJ Hussey</td>\n",
              "      <td>JH Kallis</td>\n",
              "      <td>0.0</td>\n",
              "      <td>0.0</td>\n",
              "      <td>0.0</td>\n",
              "      <td>0.0</td>\n",
              "      <td>0.0</td>\n",
              "      <td>NaN</td>\n",
              "      <td>NaN</td>\n",
              "      <td>NaN</td>\n",
              "      <td>NaN</td>\n",
              "      <td>Kolkata Knight Riders</td>\n",
              "      <td>Royal Challengers Bangalore</td>\n",
              "      <td>NaN</td>\n",
              "      <td>61.0</td>\n",
              "      <td>1.0</td>\n",
              "      <td>5.3</td>\n",
              "      <td>59.0</td>\n",
              "      <td>1.0</td>\n",
              "    </tr>\n",
              "    <tr>\n",
              "      <th>35</th>\n",
              "      <td>335982.0</td>\n",
              "      <td>1.0</td>\n",
              "      <td>12.0</td>\n",
              "      <td>4.0</td>\n",
              "      <td>BB McCullum</td>\n",
              "      <td>DJ Hussey</td>\n",
              "      <td>JH Kallis</td>\n",
              "      <td>2.0</td>\n",
              "      <td>0.0</td>\n",
              "      <td>2.0</td>\n",
              "      <td>0.0</td>\n",
              "      <td>0.0</td>\n",
              "      <td>NaN</td>\n",
              "      <td>NaN</td>\n",
              "      <td>NaN</td>\n",
              "      <td>NaN</td>\n",
              "      <td>Kolkata Knight Riders</td>\n",
              "      <td>Royal Challengers Bangalore</td>\n",
              "      <td>NaN</td>\n",
              "      <td>61.0</td>\n",
              "      <td>1.0</td>\n",
              "      <td>5.4</td>\n",
              "      <td>59.0</td>\n",
              "      <td>1.0</td>\n",
              "    </tr>\n",
              "    <tr>\n",
              "      <th>36</th>\n",
              "      <td>335982.0</td>\n",
              "      <td>1.0</td>\n",
              "      <td>12.0</td>\n",
              "      <td>5.0</td>\n",
              "      <td>BB McCullum</td>\n",
              "      <td>DJ Hussey</td>\n",
              "      <td>JH Kallis</td>\n",
              "      <td>0.0</td>\n",
              "      <td>1.0</td>\n",
              "      <td>1.0</td>\n",
              "      <td>0.0</td>\n",
              "      <td>0.0</td>\n",
              "      <td>NaN</td>\n",
              "      <td>NaN</td>\n",
              "      <td>NaN</td>\n",
              "      <td>wides</td>\n",
              "      <td>Kolkata Knight Riders</td>\n",
              "      <td>Royal Challengers Bangalore</td>\n",
              "      <td>NaN</td>\n",
              "      <td>61.0</td>\n",
              "      <td>1.0</td>\n",
              "      <td>5.5</td>\n",
              "      <td>58.0</td>\n",
              "      <td>1.0</td>\n",
              "    </tr>\n",
              "  </tbody>\n",
              "</table>\n",
              "</div>"
            ],
            "text/plain": [
              "    match_id  inning  over  ball  ... wickets overs runs_last_5  wickets_last_5\n",
              "32  335982.0     1.0  12.0   1.0  ...     0.0   5.1        59.0             0.0\n",
              "33  335982.0     1.0  12.0   2.0  ...     1.0   5.2        59.0             1.0\n",
              "34  335982.0     1.0  12.0   3.0  ...     1.0   5.3        59.0             1.0\n",
              "35  335982.0     1.0  12.0   4.0  ...     1.0   5.4        59.0             1.0\n",
              "36  335982.0     1.0  12.0   5.0  ...     1.0   5.5        58.0             1.0\n",
              "\n",
              "[5 rows x 24 columns]"
            ]
          },
          "metadata": {
            "tags": []
          },
          "execution_count": 481
        }
      ]
    },
    {
      "cell_type": "code",
      "metadata": {
        "colab": {
          "base_uri": "https://localhost:8080/",
          "height": 381
        },
        "id": "n---o-Mbrcy2",
        "outputId": "a9a6d425-316b-4b3c-aa63-b4f198e26844"
      },
      "source": [
        "#probability of match winning by winning toss for MI\n",
        "#df['toss_winner'].value_counts()\n",
        "count =0\n",
        "for i in range(577): \n",
        "    if df[\"toss_winner\"][i]==df[\"winner\"][i]==1 :\n",
        "        count=count+1\n",
        "#okay from the above prediction on features, we notice toss winner has least chances of winning matches\n",
        "#but does the current stats shows the same result\n",
        "#df.count --> 577 rows\n",
        "import matplotlib.pyplot as mlt\n",
        "mlt.style.use('fivethirtyeight')\n",
        "#df_fil=df[df['toss_winner']==df['winner']]\n",
        "df_fil=df[df['toss_winner']==1]\n",
        "#slices=[len(df_fil),(577-len(df_fil))]\n",
        "slices=[count,(len(df_fil)-count)]\n",
        "mlt.pie(slices,labels=['Toss & win','Toss & lose'],startangle=90,shadow=True,explode=(0,0),autopct='%1.1f%%',colors=['g','b'])\n",
        "fig = mlt.gcf()\n",
        "fig.set_size_inches(6,6)\n",
        "mlt.show()\n",
        "\n",
        "# Toss winning does not gaurantee a match win from analysis of current stats and thus \n",
        "#prediction feature gives less weightage to that "
      ],
      "execution_count": 482,
      "outputs": [
        {
          "output_type": "display_data",
          "data": {
            "image/png": "[encoded data removed]",
            "text/plain": [
              "<Figure size 432x432 with 1 Axes>"
            ]
          },
          "metadata": {
            "tags": []
          }
        }
      ]
    },
    {
      "cell_type": "code",
      "metadata": {
        "colab": {
          "base_uri": "https://localhost:8080/",
          "height": 381
        },
        "id": "aFv8scNjTHJQ",
        "outputId": "b4d5bc0a-e4ce-4ef1-c764-ab77bf624748"
      },
      "source": [
        "#probability of match winning by winning toss for Chennai Super Kings CSK\n",
        "#df['toss_winner'].value_counts()\n",
        "count =0\n",
        "for i in range(577): \n",
        "    if df[\"toss_winner\"][i]==df[\"winner\"][i]==5 :\n",
        "        count=count+1\n",
        "#okay from the above prediction on features, we notice toss winner has least chances of winning matches\n",
        "#but does the current stats shows the same result\n",
        "#df.count --> 577 rows\n",
        "import matplotlib.pyplot as mlt\n",
        "mlt.style.use('fivethirtyeight')\n",
        "#df_fil=df[df['toss_winner']==df['winner']]\n",
        "df_fil=df[df['toss_winner']==1]\n",
        "#slices=[len(df_fil),(577-len(df_fil))]\n",
        "slices=[count,(len(df_fil)-count)]\n",
        "mlt.pie(slices,labels=['Toss & win','Toss & lose'],startangle=90,shadow=True,explode=(0,0),autopct='%1.1f%%',colors=['g','b'])\n",
        "fig = mlt.gcf()\n",
        "fig.set_size_inches(6,6)\n",
        "mlt.show()\n",
        "# Toss winning does not gaurantee a match win from analysis of current stats and thus \n",
        "#prediction feature gives less weightage to that "
      ],
      "execution_count": 483,
      "outputs": [
        {
          "output_type": "display_data",
          "data": {
            "image/png": "[encoded data removed]",
            "text/plain": [
              "<Figure size 432x432 with 1 Axes>"
            ]
          },
          "metadata": {
            "tags": []
          }
        }
      ]
    },
    {
      "cell_type": "code",
      "metadata": {
        "colab": {
          "base_uri": "https://localhost:8080/",
          "height": 381
        },
        "id": "uSr2U0xBTKSQ",
        "outputId": "2ef146d0-4cf5-49bc-f647-d56eee47d302"
      },
      "source": [
        "#probability of match winning by winning toss for KXIP\n",
        "#df['toss_winner'].value_counts()\n",
        "count =0\n",
        "for i in range(577): \n",
        "    if df[\"toss_winner\"][i]==df[\"winner\"][i]==9 :\n",
        "        count=count+1\n",
        "#okay from the above prediction on features, we notice toss winner has least chances of winning matches\n",
        "#but does the current stats shows the same result\n",
        "#df.count --> 577 rows\n",
        "import matplotlib.pyplot as mlt\n",
        "mlt.style.use('fivethirtyeight')\n",
        "#df_fil=df[df['toss_winner']==df['winner']]\n",
        "df_fil=df[df['toss_winner']==1]\n",
        "#slices=[len(df_fil),(577-len(df_fil))]\n",
        "slices=[count,(len(df_fil)-count)]\n",
        "mlt.pie(slices,labels=['Toss & win','Toss & lose'],startangle=90,shadow=True,explode=(0,0),autopct='%1.1f%%',colors=['g','b'])\n",
        "fig = mlt.gcf()\n",
        "fig.set_size_inches(6,6)\n",
        "mlt.show()\n",
        "# Toss winning does not gaurantee a match win from analysis of current stats and thus \n",
        "#prediction feature gives less weightage to that "
      ],
      "execution_count": 484,
      "outputs": [
        {
          "output_type": "display_data",
          "data": {
            "image/png": "[encoded data removed]",
            "text/plain": [
              "<Figure size 432x432 with 1 Axes>"
            ]
          },
          "metadata": {
            "tags": []
          }
        }
      ]
    },
    {
      "cell_type": "code",
      "metadata": {
        "colab": {
          "base_uri": "https://localhost:8080/",
          "height": 381
        },
        "id": "VVY7UaoLTM_N",
        "outputId": "a64477e0-bc15-48ee-93c2-7869228790d3"
      },
      "source": [
        "#genralised probbaility for winning match by winning toss\n",
        "\n",
        "\n",
        "import matplotlib.pyplot as mlt\n",
        "mlt.style.use('fivethirtyeight')\n",
        "df_fil=df[df['toss_winner']==df['winner']]\n",
        "\n",
        "slices=[len(df_fil),(577-len(df_fil))]\n",
        "\n",
        "mlt.pie(slices,labels=['Toss & win','Toss & lose'],startangle=90,shadow=True,explode=(0,0),autopct='%1.1f%%',colors=['r','g'])\n",
        "fig = mlt.gcf()\n",
        "fig.set_size_inches(6,6)\n",
        "mlt.show()"
      ],
      "execution_count": 485,
      "outputs": [
        {
          "output_type": "display_data",
          "data": {
            "image/png": "[encoded data removed]",
            "text/plain": [
              "<Figure size 432x432 with 1 Axes>"
            ]
          },
          "metadata": {
            "tags": []
          }
        }
      ]
    },
    {
      "cell_type": "code",
      "metadata": {
        "colab": {
          "base_uri": "https://localhost:8080/",
          "height": 796
        },
        "id": "Xtlt50ygUe_e",
        "outputId": "9d22478d-42ac-42d5-c5bc-0e57cc4dfc5d"
      },
      "source": [
        "#building predictive model , convert categorical to numerical data\n",
        "from sklearn.preprocessing import LabelEncoder\n",
        "var_mod = ['city','toss_decision','venue']\n",
        "le = LabelEncoder()\n",
        "for i in var_mod:\n",
        "    df[i] = le.fit_transform(df[i])\n",
        "df "
      ],
      "execution_count": 486,
      "outputs": [
        {
          "output_type": "execute_result",
          "data": {
            "text/html": [
              "<div>\n",
              "<style scoped>\n",
              "    .dataframe tbody tr th:only-of-type {\n",
              "        vertical-align: middle;\n",
              "    }\n",
              "\n",
              "    .dataframe tbody tr th {\n",
              "        vertical-align: top;\n",
              "    }\n",
              "\n",
              "    .dataframe thead th {\n",
              "        text-align: right;\n",
              "    }\n",
              "</style>\n",
              "<table border=\"1\" class=\"dataframe\">\n",
              "  <thead>\n",
              "    <tr style=\"text-align: right;\">\n",
              "      <th></th>\n",
              "      <th>id</th>\n",
              "      <th>city</th>\n",
              "      <th>date</th>\n",
              "      <th>player_of_match</th>\n",
              "      <th>venue</th>\n",
              "      <th>neutral_venue</th>\n",
              "      <th>team1</th>\n",
              "      <th>team2</th>\n",
              "      <th>toss_winner</th>\n",
              "      <th>toss_decision</th>\n",
              "      <th>winner</th>\n",
              "      <th>result</th>\n",
              "      <th>result_margin</th>\n",
              "      <th>eliminator</th>\n",
              "      <th>method</th>\n",
              "      <th>umpire1</th>\n",
              "      <th>umpire2</th>\n",
              "      <th>Unnamed: 17</th>\n",
              "      <th>win_by_runs</th>\n",
              "      <th>win_by_wickets</th>\n",
              "    </tr>\n",
              "  </thead>\n",
              "  <tbody>\n",
              "    <tr>\n",
              "      <th>0</th>\n",
              "      <td>335982</td>\n",
              "      <td>2</td>\n",
              "      <td>18-04-2008</td>\n",
              "      <td>BB McCullum</td>\n",
              "      <td>14</td>\n",
              "      <td>0</td>\n",
              "      <td>3</td>\n",
              "      <td>2</td>\n",
              "      <td>3</td>\n",
              "      <td>1</td>\n",
              "      <td>2</td>\n",
              "      <td>runs</td>\n",
              "      <td>140.0</td>\n",
              "      <td>N</td>\n",
              "      <td>NaN</td>\n",
              "      <td>Asad Rauf</td>\n",
              "      <td>RE Koertzen</td>\n",
              "      <td>NaN</td>\n",
              "      <td>35.0</td>\n",
              "      <td>0.0</td>\n",
              "    </tr>\n",
              "    <tr>\n",
              "      <th>1</th>\n",
              "      <td>335983</td>\n",
              "      <td>7</td>\n",
              "      <td>19-04-2008</td>\n",
              "      <td>MEK Hussey</td>\n",
              "      <td>23</td>\n",
              "      <td>0</td>\n",
              "      <td>9</td>\n",
              "      <td>5</td>\n",
              "      <td>5</td>\n",
              "      <td>0</td>\n",
              "      <td>5</td>\n",
              "      <td>runs</td>\n",
              "      <td>33.0</td>\n",
              "      <td>N</td>\n",
              "      <td>NaN</td>\n",
              "      <td>MR Benson</td>\n",
              "      <td>SL Shastri</td>\n",
              "      <td>NaN</td>\n",
              "      <td>0.0</td>\n",
              "      <td>7.0</td>\n",
              "    </tr>\n",
              "    <tr>\n",
              "      <th>2</th>\n",
              "      <td>335984</td>\n",
              "      <td>10</td>\n",
              "      <td>19-04-2008</td>\n",
              "      <td>MF Maharoof</td>\n",
              "      <td>8</td>\n",
              "      <td>0</td>\n",
              "      <td>7</td>\n",
              "      <td>6</td>\n",
              "      <td>6</td>\n",
              "      <td>0</td>\n",
              "      <td>7</td>\n",
              "      <td>wickets</td>\n",
              "      <td>9.0</td>\n",
              "      <td>N</td>\n",
              "      <td>NaN</td>\n",
              "      <td>Aleem Dar</td>\n",
              "      <td>GA Pratapkumar</td>\n",
              "      <td>NaN</td>\n",
              "      <td>0.0</td>\n",
              "      <td>10.0</td>\n",
              "    </tr>\n",
              "    <tr>\n",
              "      <th>3</th>\n",
              "      <td>335985</td>\n",
              "      <td>23</td>\n",
              "      <td>20-04-2008</td>\n",
              "      <td>MV Boucher</td>\n",
              "      <td>35</td>\n",
              "      <td>0</td>\n",
              "      <td>1</td>\n",
              "      <td>3</td>\n",
              "      <td>1</td>\n",
              "      <td>0</td>\n",
              "      <td>3</td>\n",
              "      <td>wickets</td>\n",
              "      <td>5.0</td>\n",
              "      <td>N</td>\n",
              "      <td>NaN</td>\n",
              "      <td>SJ Davis</td>\n",
              "      <td>DJ Harper</td>\n",
              "      <td>NaN</td>\n",
              "      <td>0.0</td>\n",
              "      <td>6.0</td>\n",
              "    </tr>\n",
              "    <tr>\n",
              "      <th>4</th>\n",
              "      <td>335986</td>\n",
              "      <td>22</td>\n",
              "      <td>20-04-2008</td>\n",
              "      <td>DJ Hussey</td>\n",
              "      <td>7</td>\n",
              "      <td>0</td>\n",
              "      <td>2</td>\n",
              "      <td>4</td>\n",
              "      <td>4</td>\n",
              "      <td>0</td>\n",
              "      <td>2</td>\n",
              "      <td>wickets</td>\n",
              "      <td>5.0</td>\n",
              "      <td>N</td>\n",
              "      <td>NaN</td>\n",
              "      <td>BF Bowden</td>\n",
              "      <td>K Hariharan</td>\n",
              "      <td>NaN</td>\n",
              "      <td>15.0</td>\n",
              "      <td>0.0</td>\n",
              "    </tr>\n",
              "    <tr>\n",
              "      <th>...</th>\n",
              "      <td>...</td>\n",
              "      <td>...</td>\n",
              "      <td>...</td>\n",
              "      <td>...</td>\n",
              "      <td>...</td>\n",
              "      <td>...</td>\n",
              "      <td>...</td>\n",
              "      <td>...</td>\n",
              "      <td>...</td>\n",
              "      <td>...</td>\n",
              "      <td>...</td>\n",
              "      <td>...</td>\n",
              "      <td>...</td>\n",
              "      <td>...</td>\n",
              "      <td>...</td>\n",
              "      <td>...</td>\n",
              "      <td>...</td>\n",
              "      <td>...</td>\n",
              "      <td>...</td>\n",
              "      <td>...</td>\n",
              "    </tr>\n",
              "    <tr>\n",
              "      <th>811</th>\n",
              "      <td>1216547</td>\n",
              "      <td>12</td>\n",
              "      <td>28-09-2020</td>\n",
              "      <td>AB de Villiers</td>\n",
              "      <td>6</td>\n",
              "      <td>0</td>\n",
              "      <td>3</td>\n",
              "      <td>1</td>\n",
              "      <td>1</td>\n",
              "      <td>1</td>\n",
              "      <td>3</td>\n",
              "      <td>tie</td>\n",
              "      <td>NaN</td>\n",
              "      <td>Y</td>\n",
              "      <td>NaN</td>\n",
              "      <td>Nitin Menon</td>\n",
              "      <td>PR Reiffel</td>\n",
              "      <td>NaN</td>\n",
              "      <td>NaN</td>\n",
              "      <td>NaN</td>\n",
              "    </tr>\n",
              "    <tr>\n",
              "      <th>812</th>\n",
              "      <td>1237177</td>\n",
              "      <td>12</td>\n",
              "      <td>05-11-2020</td>\n",
              "      <td>JJ Bumrah</td>\n",
              "      <td>6</td>\n",
              "      <td>0</td>\n",
              "      <td>1</td>\n",
              "      <td>14</td>\n",
              "      <td>14</td>\n",
              "      <td>1</td>\n",
              "      <td>1</td>\n",
              "      <td>runs</td>\n",
              "      <td>57.0</td>\n",
              "      <td>N</td>\n",
              "      <td>NaN</td>\n",
              "      <td>CB Gaffaney</td>\n",
              "      <td>Nitin Menon</td>\n",
              "      <td>NaN</td>\n",
              "      <td>NaN</td>\n",
              "      <td>NaN</td>\n",
              "    </tr>\n",
              "    <tr>\n",
              "      <th>813</th>\n",
              "      <td>1237178</td>\n",
              "      <td>0</td>\n",
              "      <td>06-11-2020</td>\n",
              "      <td>KS Williamson</td>\n",
              "      <td>30</td>\n",
              "      <td>0</td>\n",
              "      <td>3</td>\n",
              "      <td>10</td>\n",
              "      <td>10</td>\n",
              "      <td>1</td>\n",
              "      <td>10</td>\n",
              "      <td>wickets</td>\n",
              "      <td>6.0</td>\n",
              "      <td>N</td>\n",
              "      <td>NaN</td>\n",
              "      <td>PR Reiffel</td>\n",
              "      <td>S Ravi</td>\n",
              "      <td>NaN</td>\n",
              "      <td>NaN</td>\n",
              "      <td>NaN</td>\n",
              "    </tr>\n",
              "    <tr>\n",
              "      <th>814</th>\n",
              "      <td>1237180</td>\n",
              "      <td>0</td>\n",
              "      <td>08-11-2020</td>\n",
              "      <td>MP Stoinis</td>\n",
              "      <td>30</td>\n",
              "      <td>0</td>\n",
              "      <td>14</td>\n",
              "      <td>10</td>\n",
              "      <td>14</td>\n",
              "      <td>0</td>\n",
              "      <td>14</td>\n",
              "      <td>runs</td>\n",
              "      <td>17.0</td>\n",
              "      <td>N</td>\n",
              "      <td>NaN</td>\n",
              "      <td>PR Reiffel</td>\n",
              "      <td>S Ravi</td>\n",
              "      <td>NaN</td>\n",
              "      <td>NaN</td>\n",
              "      <td>NaN</td>\n",
              "    </tr>\n",
              "    <tr>\n",
              "      <th>815</th>\n",
              "      <td>1237181</td>\n",
              "      <td>12</td>\n",
              "      <td>10-11-2020</td>\n",
              "      <td>TA Boult</td>\n",
              "      <td>6</td>\n",
              "      <td>0</td>\n",
              "      <td>14</td>\n",
              "      <td>1</td>\n",
              "      <td>14</td>\n",
              "      <td>0</td>\n",
              "      <td>1</td>\n",
              "      <td>wickets</td>\n",
              "      <td>5.0</td>\n",
              "      <td>N</td>\n",
              "      <td>NaN</td>\n",
              "      <td>CB Gaffaney</td>\n",
              "      <td>Nitin Menon</td>\n",
              "      <td>NaN</td>\n",
              "      <td>NaN</td>\n",
              "      <td>NaN</td>\n",
              "    </tr>\n",
              "  </tbody>\n",
              "</table>\n",
              "<p>816 rows × 20 columns</p>\n",
              "</div>"
            ],
            "text/plain": [
              "          id  city        date  ... Unnamed: 17  win_by_runs  win_by_wickets\n",
              "0     335982     2  18-04-2008  ...         NaN         35.0             0.0\n",
              "1     335983     7  19-04-2008  ...         NaN          0.0             7.0\n",
              "2     335984    10  19-04-2008  ...         NaN          0.0            10.0\n",
              "3     335985    23  20-04-2008  ...         NaN          0.0             6.0\n",
              "4     335986    22  20-04-2008  ...         NaN         15.0             0.0\n",
              "..       ...   ...         ...  ...         ...          ...             ...\n",
              "811  1216547    12  28-09-2020  ...         NaN          NaN             NaN\n",
              "812  1237177    12  05-11-2020  ...         NaN          NaN             NaN\n",
              "813  1237178     0  06-11-2020  ...         NaN          NaN             NaN\n",
              "814  1237180     0  08-11-2020  ...         NaN          NaN             NaN\n",
              "815  1237181    12  10-11-2020  ...         NaN          NaN             NaN\n",
              "\n",
              "[816 rows x 20 columns]"
            ]
          },
          "metadata": {
            "tags": []
          },
          "execution_count": 486
        }
      ]
    },
    {
      "cell_type": "markdown",
      "metadata": {
        "id": "kAQpqSrwzFO9"
      },
      "source": [
        "# Top Player of the match winners"
      ]
    },
    {
      "cell_type": "code",
      "metadata": {
        "colab": {
          "base_uri": "https://localhost:8080/",
          "height": 595
        },
        "id": "MIYsLqvJy4X0",
        "outputId": "aaba4b4d-d0a2-486f-f9dd-fb0454e30193"
      },
      "source": [
        "top_players = match_df.player_of_match.value_counts()[:10]\n",
        "#sns.barplot(x=\"day\", y=\"total_bill\", data=df)\n",
        "fig, ax = plt.subplots()\n",
        "ax.set_ylim([0,20])\n",
        "ax.set_ylabel(\"Count\")\n",
        "ax.set_title(\"Top player of the match Winners\")\n",
        "top_players.plot.bar()\n",
        "sns.barplot(x = top_players.index, y = top_players, orient='v', palette=\"Blues\");\n",
        "plt.show()"
      ],
      "execution_count": 487,
      "outputs": [
        {
          "output_type": "display_data",
          "data": {
            "image/png": "[encoded data removed]",
            "text/plain": [
              "<Figure size 864x576 with 1 Axes>"
            ]
          },
          "metadata": {
            "tags": []
          }
        }
      ]
    },
    {
      "cell_type": "markdown",
      "metadata": {
        "id": "ewfT6TjGzNWW"
      },
      "source": [
        "<h2><u><font color = \"blue\">AB de Viliers</font></u>\n",
        " is the most Successful player in all match "
      ]
    },
    {
      "cell_type": "markdown",
      "metadata": {
        "id": "iBfyvzJb2ymZ"
      },
      "source": [
        "# So Mumbai Indians have won the maximum matches"
      ]
    },
    {
      "cell_type": "markdown",
      "metadata": {
        "id": "Cif82Vnb2yma"
      },
      "source": [
        "<h2><b><font color = \"blue\">Lets see it virtually</font></b>"
      ]
    },
    {
      "cell_type": "code",
      "metadata": {
        "colab": {
          "base_uri": "https://localhost:8080/",
          "height": 550
        },
        "id": "AzFhkJ_n2ymb",
        "outputId": "566868e4-aeee-49e2-b720-17530b542fe1"
      },
      "source": [
        "\n",
        "data = df.winner.value_counts()\n",
        "sns.barplot(y = data.index, x = data, orient='h')"
      ],
      "execution_count": 488,
      "outputs": [
        {
          "output_type": "execute_result",
          "data": {
            "text/plain": [
              "<matplotlib.axes._subplots.AxesSubplot at 0x7f648533b750>"
            ]
          },
          "metadata": {
            "tags": []
          },
          "execution_count": 488
        },
        {
          "output_type": "display_data",
          "data": {
            "image/png": "[encoded data removed]",
            "text/plain": [
              "<Figure size 864x576 with 1 Axes>"
            ]
          },
          "metadata": {
            "tags": []
          }
        }
      ]
    },
    {
      "cell_type": "markdown",
      "metadata": {
        "id": "zSDXyNTjNh33"
      },
      "source": [
        "### Dropping all the redundant columns"
      ]
    },
    {
      "cell_type": "code",
      "metadata": {
        "colab": {
          "base_uri": "https://localhost:8080/",
          "height": 204
        },
        "id": "MZb7RMrnNh37",
        "outputId": "8dcca4ac-ce15-4b86-bfb2-344d562ca682"
      },
      "source": [
        "match_df = match_df[['id', 'team1','team2','city','toss_decision','toss_winner','venue','winner']]\n",
        "match_df.head()"
      ],
      "execution_count": 489,
      "outputs": [
        {
          "output_type": "execute_result",
          "data": {
            "text/html": [
              "<div>\n",
              "<style scoped>\n",
              "    .dataframe tbody tr th:only-of-type {\n",
              "        vertical-align: middle;\n",
              "    }\n",
              "\n",
              "    .dataframe tbody tr th {\n",
              "        vertical-align: top;\n",
              "    }\n",
              "\n",
              "    .dataframe thead th {\n",
              "        text-align: right;\n",
              "    }\n",
              "</style>\n",
              "<table border=\"1\" class=\"dataframe\">\n",
              "  <thead>\n",
              "    <tr style=\"text-align: right;\">\n",
              "      <th></th>\n",
              "      <th>id</th>\n",
              "      <th>team1</th>\n",
              "      <th>team2</th>\n",
              "      <th>city</th>\n",
              "      <th>toss_decision</th>\n",
              "      <th>toss_winner</th>\n",
              "      <th>venue</th>\n",
              "      <th>winner</th>\n",
              "    </tr>\n",
              "  </thead>\n",
              "  <tbody>\n",
              "    <tr>\n",
              "      <th>0</th>\n",
              "      <td>335982</td>\n",
              "      <td>3</td>\n",
              "      <td>2</td>\n",
              "      <td>2</td>\n",
              "      <td>1</td>\n",
              "      <td>3</td>\n",
              "      <td>14</td>\n",
              "      <td>2</td>\n",
              "    </tr>\n",
              "    <tr>\n",
              "      <th>1</th>\n",
              "      <td>335983</td>\n",
              "      <td>9</td>\n",
              "      <td>5</td>\n",
              "      <td>7</td>\n",
              "      <td>0</td>\n",
              "      <td>5</td>\n",
              "      <td>23</td>\n",
              "      <td>5</td>\n",
              "    </tr>\n",
              "    <tr>\n",
              "      <th>2</th>\n",
              "      <td>335984</td>\n",
              "      <td>7</td>\n",
              "      <td>6</td>\n",
              "      <td>10</td>\n",
              "      <td>0</td>\n",
              "      <td>6</td>\n",
              "      <td>8</td>\n",
              "      <td>7</td>\n",
              "    </tr>\n",
              "    <tr>\n",
              "      <th>3</th>\n",
              "      <td>335985</td>\n",
              "      <td>1</td>\n",
              "      <td>3</td>\n",
              "      <td>23</td>\n",
              "      <td>0</td>\n",
              "      <td>1</td>\n",
              "      <td>35</td>\n",
              "      <td>3</td>\n",
              "    </tr>\n",
              "    <tr>\n",
              "      <th>4</th>\n",
              "      <td>335986</td>\n",
              "      <td>2</td>\n",
              "      <td>4</td>\n",
              "      <td>22</td>\n",
              "      <td>0</td>\n",
              "      <td>4</td>\n",
              "      <td>7</td>\n",
              "      <td>2</td>\n",
              "    </tr>\n",
              "  </tbody>\n",
              "</table>\n",
              "</div>"
            ],
            "text/plain": [
              "       id  team1  team2  city  toss_decision  toss_winner  venue  winner\n",
              "0  335982      3      2     2              1            3     14       2\n",
              "1  335983      9      5     7              0            5     23       5\n",
              "2  335984      7      6    10              0            6      8       7\n",
              "3  335985      1      3    23              0            1     35       3\n",
              "4  335986      2      4    22              0            4      7       2"
            ]
          },
          "metadata": {
            "tags": []
          },
          "execution_count": 489
        }
      ]
    },
    {
      "cell_type": "code",
      "metadata": {
        "colab": {
          "base_uri": "https://localhost:8080/",
          "height": 297
        },
        "id": "b_5mVt9fNh3_",
        "outputId": "f9481fa8-5684-4522-d87b-29424ec3ae9f"
      },
      "source": [
        "match_df.describe()"
      ],
      "execution_count": 490,
      "outputs": [
        {
          "output_type": "execute_result",
          "data": {
            "text/html": [
              "<div>\n",
              "<style scoped>\n",
              "    .dataframe tbody tr th:only-of-type {\n",
              "        vertical-align: middle;\n",
              "    }\n",
              "\n",
              "    .dataframe tbody tr th {\n",
              "        vertical-align: top;\n",
              "    }\n",
              "\n",
              "    .dataframe thead th {\n",
              "        text-align: right;\n",
              "    }\n",
              "</style>\n",
              "<table border=\"1\" class=\"dataframe\">\n",
              "  <thead>\n",
              "    <tr style=\"text-align: right;\">\n",
              "      <th></th>\n",
              "      <th>id</th>\n",
              "      <th>team1</th>\n",
              "      <th>team2</th>\n",
              "      <th>city</th>\n",
              "      <th>toss_decision</th>\n",
              "      <th>toss_winner</th>\n",
              "      <th>venue</th>\n",
              "      <th>winner</th>\n",
              "    </tr>\n",
              "  </thead>\n",
              "  <tbody>\n",
              "    <tr>\n",
              "      <th>count</th>\n",
              "      <td>8.160000e+02</td>\n",
              "      <td>816.000000</td>\n",
              "      <td>816.000000</td>\n",
              "      <td>816.000000</td>\n",
              "      <td>816.000000</td>\n",
              "      <td>816.000000</td>\n",
              "      <td>816.000000</td>\n",
              "      <td>816.000000</td>\n",
              "    </tr>\n",
              "    <tr>\n",
              "      <th>mean</th>\n",
              "      <td>7.563496e+05</td>\n",
              "      <td>5.621324</td>\n",
              "      <td>5.656863</td>\n",
              "      <td>14.344363</td>\n",
              "      <td>0.607843</td>\n",
              "      <td>5.558824</td>\n",
              "      <td>18.169118</td>\n",
              "      <td>5.474265</td>\n",
              "    </tr>\n",
              "    <tr>\n",
              "      <th>std</th>\n",
              "      <td>3.058943e+05</td>\n",
              "      <td>3.487751</td>\n",
              "      <td>3.476110</td>\n",
              "      <td>8.504220</td>\n",
              "      <td>0.488531</td>\n",
              "      <td>3.467850</td>\n",
              "      <td>10.024183</td>\n",
              "      <td>3.517783</td>\n",
              "    </tr>\n",
              "    <tr>\n",
              "      <th>min</th>\n",
              "      <td>3.359820e+05</td>\n",
              "      <td>1.000000</td>\n",
              "      <td>1.000000</td>\n",
              "      <td>0.000000</td>\n",
              "      <td>0.000000</td>\n",
              "      <td>1.000000</td>\n",
              "      <td>0.000000</td>\n",
              "      <td>1.000000</td>\n",
              "    </tr>\n",
              "    <tr>\n",
              "      <th>25%</th>\n",
              "      <td>5.012278e+05</td>\n",
              "      <td>3.000000</td>\n",
              "      <td>3.000000</td>\n",
              "      <td>8.000000</td>\n",
              "      <td>0.000000</td>\n",
              "      <td>2.750000</td>\n",
              "      <td>8.000000</td>\n",
              "      <td>2.000000</td>\n",
              "    </tr>\n",
              "    <tr>\n",
              "      <th>50%</th>\n",
              "      <td>7.292980e+05</td>\n",
              "      <td>5.000000</td>\n",
              "      <td>5.000000</td>\n",
              "      <td>15.000000</td>\n",
              "      <td>1.000000</td>\n",
              "      <td>5.000000</td>\n",
              "      <td>16.000000</td>\n",
              "      <td>5.000000</td>\n",
              "    </tr>\n",
              "    <tr>\n",
              "      <th>75%</th>\n",
              "      <td>1.082626e+06</td>\n",
              "      <td>9.000000</td>\n",
              "      <td>9.000000</td>\n",
              "      <td>22.000000</td>\n",
              "      <td>1.000000</td>\n",
              "      <td>8.000000</td>\n",
              "      <td>27.000000</td>\n",
              "      <td>9.000000</td>\n",
              "    </tr>\n",
              "    <tr>\n",
              "      <th>max</th>\n",
              "      <td>1.237181e+06</td>\n",
              "      <td>14.000000</td>\n",
              "      <td>14.000000</td>\n",
              "      <td>31.000000</td>\n",
              "      <td>1.000000</td>\n",
              "      <td>14.000000</td>\n",
              "      <td>35.000000</td>\n",
              "      <td>15.000000</td>\n",
              "    </tr>\n",
              "  </tbody>\n",
              "</table>\n",
              "</div>"
            ],
            "text/plain": [
              "                 id       team1  ...       venue      winner\n",
              "count  8.160000e+02  816.000000  ...  816.000000  816.000000\n",
              "mean   7.563496e+05    5.621324  ...   18.169118    5.474265\n",
              "std    3.058943e+05    3.487751  ...   10.024183    3.517783\n",
              "min    3.359820e+05    1.000000  ...    0.000000    1.000000\n",
              "25%    5.012278e+05    3.000000  ...    8.000000    2.000000\n",
              "50%    7.292980e+05    5.000000  ...   16.000000    5.000000\n",
              "75%    1.082626e+06    9.000000  ...   27.000000    9.000000\n",
              "max    1.237181e+06   14.000000  ...   35.000000   15.000000\n",
              "\n",
              "[8 rows x 8 columns]"
            ]
          },
          "metadata": {
            "tags": []
          },
          "execution_count": 490
        }
      ]
    },
    {
      "cell_type": "markdown",
      "metadata": {
        "id": "vKY7WldRNh4E"
      },
      "source": [
        "### Toss Wins and Match Wins by each Team"
      ]
    },
    {
      "cell_type": "code",
      "metadata": {
        "colab": {
          "base_uri": "https://localhost:8080/"
        },
        "id": "WTJXRxEbNh4F",
        "outputId": "9548c942-1102-4654-ca2e-65f7687dafc6"
      },
      "source": [
        "##looking at number of toss wins and match wins\n",
        "toss_wins = match_df['winner'].value_counts(sort=True)\n",
        "match_wins = match_df['winner'].value_counts(sort=True)\n",
        "\n",
        "for idx, val in toss_wins.iteritems():\n",
        "    print(f\"{list(team_encode_dict['winner'].keys())[idx-1]} -> {toss_wins[idx]}\")\n"
      ],
      "execution_count": 491,
      "outputs": [
        {
          "output_type": "stream",
          "text": [
            "Mumbai Indians -> 120\n",
            "Chennai Super Kings -> 106\n",
            "Kolkata Knight Riders -> 99\n",
            "Royal Challengers Bangalore -> 91\n",
            "Kings XI Punjab -> 88\n",
            "Rajasthan Royals -> 81\n",
            "Delhi Daredevils -> 67\n",
            "Sunrisers Hyderabad -> 66\n",
            "Deccan Chargers -> 29\n",
            "Pune Warriors -> 19\n",
            "Rising Pune Supergiants -> 15\n",
            "Gujarat Lions -> 13\n",
            "Kochi Tuskers Kerala -> 12\n",
            "Rising Pune Supergiant -> 6\n",
            "Delhi Capitals -> 4\n"
          ],
          "name": "stdout"
        }
      ]
    },
    {
      "cell_type": "markdown",
      "metadata": {
        "id": "smHCRpllNh4H"
      },
      "source": [
        "### Plotting Wins by each team on a Histogram"
      ]
    },
    {
      "cell_type": "code",
      "metadata": {
        "colab": {
          "base_uri": "https://localhost:8080/",
          "height": 528
        },
        "id": "e2pmEMXvNh4I",
        "outputId": "abaea029-ad6d-4d90-d493-1fd00cf8d17d"
      },
      "source": [
        "match_df['winner'].hist(bins=50)"
      ],
      "execution_count": 492,
      "outputs": [
        {
          "output_type": "execute_result",
          "data": {
            "text/plain": [
              "<matplotlib.axes._subplots.AxesSubplot at 0x7f648d8ecc50>"
            ]
          },
          "metadata": {
            "tags": []
          },
          "execution_count": 492
        },
        {
          "output_type": "display_data",
          "data": {
            "image/png": "[encoded data removed]",
            "text/plain": [
              "<Figure size 864x576 with 1 Axes>"
            ]
          },
          "metadata": {
            "tags": []
          }
        }
      ]
    },
    {
      "cell_type": "code",
      "metadata": {
        "colab": {
          "base_uri": "https://localhost:8080/"
        },
        "id": "cppsYaHoNh4J",
        "outputId": "d521106b-36bf-408e-8648-441a40bceefb"
      },
      "source": [
        "match_df['winner'].value_counts()"
      ],
      "execution_count": 493,
      "outputs": [
        {
          "output_type": "execute_result",
          "data": {
            "text/plain": [
              "1     120\n",
              "5     106\n",
              "2      99\n",
              "3      91\n",
              "9      88\n",
              "6      81\n",
              "7      67\n",
              "10     66\n",
              "4      29\n",
              "14     19\n",
              "11     15\n",
              "8      13\n",
              "13     12\n",
              "12      6\n",
              "15      4\n",
              "Name: winner, dtype: int64"
            ]
          },
          "metadata": {
            "tags": []
          },
          "execution_count": 493
        }
      ]
    },
    {
      "cell_type": "code",
      "metadata": {
        "id": "m7kdVXVPOhn-"
      },
      "source": [
        "# #we maintain a dictionary for future reference mapping teams\n",
        "# dicVal = encode['winner']\n",
        "# print(dicVal['MI']) #key value\n",
        "# print(list(dicVal.keys())[list(dicVal.values()).index(1)]) #find key by value search "
      ],
      "execution_count": 494,
      "outputs": []
    },
    {
      "cell_type": "code",
      "metadata": {
        "colab": {
          "base_uri": "https://localhost:8080/",
          "height": 342
        },
        "id": "t8GZ4Uf0Nh4O",
        "outputId": "3b52a1e9-d196-4262-ae6c-3bde65a8003d"
      },
      "source": [
        "fig = plt.figure(figsize=(8,4))\n",
        "ax1 = fig.add_subplot(121)\n",
        "ax1.set_xlabel('Team')\n",
        "ax1.set_ylabel('Count of toss wins')\n",
        "ax1.set_title(\"toss winners\")\n",
        "toss_wins.plot(kind='bar')\n",
        "\n",
        "ax2 = fig.add_subplot(122)\n",
        "match_wins.plot(kind = 'bar')\n",
        "ax2.set_xlabel('Team')\n",
        "ax2.set_ylabel('count of matches won')\n",
        "ax2.set_title(\"Match winners\")"
      ],
      "execution_count": 495,
      "outputs": [
        {
          "output_type": "execute_result",
          "data": {
            "text/plain": [
              "Text(0.5, 1.0, 'Match winners')"
            ]
          },
          "metadata": {
            "tags": []
          },
          "execution_count": 495
        },
        {
          "output_type": "display_data",
          "data": {
            "image/png": "[encoded data removed]",
            "text/plain": [
              "<Figure size 576x288 with 2 Axes>"
            ]
          },
          "metadata": {
            "tags": []
          }
        }
      ]
    },
    {
      "cell_type": "code",
      "metadata": {
        "colab": {
          "base_uri": "https://localhost:8080/"
        },
        "id": "1berE2gzNh4Q",
        "outputId": "3daafec1-a936-4eed-9e30-3b50f49c3080"
      },
      "source": [
        "match_df.isnull().sum()"
      ],
      "execution_count": 496,
      "outputs": [
        {
          "output_type": "execute_result",
          "data": {
            "text/plain": [
              "id               0\n",
              "team1            0\n",
              "team2            0\n",
              "city             0\n",
              "toss_decision    0\n",
              "toss_winner      0\n",
              "venue            0\n",
              "winner           0\n",
              "dtype: int64"
            ]
          },
          "metadata": {
            "tags": []
          },
          "execution_count": 496
        }
      ]
    },
    {
      "cell_type": "markdown",
      "metadata": {
        "id": "TpXdh8VRNh4S"
      },
      "source": [
        "## Data Preparation\n",
        "\n",
        "**Encoding all the remaining features**\n",
        "\n",
        "* city\n",
        "* toss_decision\n",
        "* venue"
      ]
    },
    {
      "cell_type": "code",
      "metadata": {
        "colab": {
          "base_uri": "https://localhost:8080/",
          "height": 504
        },
        "id": "jWOo77SVNh4T",
        "outputId": "634321b3-3da3-4ce6-addc-36ec833011bb"
      },
      "source": [
        "##using the label encoder\n",
        "from sklearn.preprocessing import LabelEncoder\n",
        "\n",
        "ftr_list = ['city', 'toss_decision', 'venue']\n",
        "encoder = LabelEncoder()\n",
        "for ftr in ftr_list:\n",
        "    match_df[ftr] = encoder.fit_transform(match_df[ftr])\n",
        "    print(encoder.classes_)\n",
        "\n",
        "match_df"
      ],
      "execution_count": 497,
      "outputs": [
        {
          "output_type": "stream",
          "text": [
            "[ 0  1  2  3  4  5  6  7  8  9 10 11 12 13 14 15 16 17 18 19 20 21 22 23\n",
            " 24 25 26 27 28 29 30 31]\n",
            "[0 1]\n",
            "[ 0  1  2  3  4  5  6  7  8  9 10 11 12 13 14 15 16 17 18 19 20 21 22 23\n",
            " 24 25 26 27 28 29 30 31 32 33 34 35]\n"
          ],
          "name": "stdout"
        },
        {
          "output_type": "execute_result",
          "data": {
            "text/html": [
              "<div>\n",
              "<style scoped>\n",
              "    .dataframe tbody tr th:only-of-type {\n",
              "        vertical-align: middle;\n",
              "    }\n",
              "\n",
              "    .dataframe tbody tr th {\n",
              "        vertical-align: top;\n",
              "    }\n",
              "\n",
              "    .dataframe thead th {\n",
              "        text-align: right;\n",
              "    }\n",
              "</style>\n",
              "<table border=\"1\" class=\"dataframe\">\n",
              "  <thead>\n",
              "    <tr style=\"text-align: right;\">\n",
              "      <th></th>\n",
              "      <th>id</th>\n",
              "      <th>team1</th>\n",
              "      <th>team2</th>\n",
              "      <th>city</th>\n",
              "      <th>toss_decision</th>\n",
              "      <th>toss_winner</th>\n",
              "      <th>venue</th>\n",
              "      <th>winner</th>\n",
              "    </tr>\n",
              "  </thead>\n",
              "  <tbody>\n",
              "    <tr>\n",
              "      <th>0</th>\n",
              "      <td>335982</td>\n",
              "      <td>3</td>\n",
              "      <td>2</td>\n",
              "      <td>2</td>\n",
              "      <td>1</td>\n",
              "      <td>3</td>\n",
              "      <td>14</td>\n",
              "      <td>2</td>\n",
              "    </tr>\n",
              "    <tr>\n",
              "      <th>1</th>\n",
              "      <td>335983</td>\n",
              "      <td>9</td>\n",
              "      <td>5</td>\n",
              "      <td>7</td>\n",
              "      <td>0</td>\n",
              "      <td>5</td>\n",
              "      <td>23</td>\n",
              "      <td>5</td>\n",
              "    </tr>\n",
              "    <tr>\n",
              "      <th>2</th>\n",
              "      <td>335984</td>\n",
              "      <td>7</td>\n",
              "      <td>6</td>\n",
              "      <td>10</td>\n",
              "      <td>0</td>\n",
              "      <td>6</td>\n",
              "      <td>8</td>\n",
              "      <td>7</td>\n",
              "    </tr>\n",
              "    <tr>\n",
              "      <th>3</th>\n",
              "      <td>335985</td>\n",
              "      <td>1</td>\n",
              "      <td>3</td>\n",
              "      <td>23</td>\n",
              "      <td>0</td>\n",
              "      <td>1</td>\n",
              "      <td>35</td>\n",
              "      <td>3</td>\n",
              "    </tr>\n",
              "    <tr>\n",
              "      <th>4</th>\n",
              "      <td>335986</td>\n",
              "      <td>2</td>\n",
              "      <td>4</td>\n",
              "      <td>22</td>\n",
              "      <td>0</td>\n",
              "      <td>4</td>\n",
              "      <td>7</td>\n",
              "      <td>2</td>\n",
              "    </tr>\n",
              "    <tr>\n",
              "      <th>...</th>\n",
              "      <td>...</td>\n",
              "      <td>...</td>\n",
              "      <td>...</td>\n",
              "      <td>...</td>\n",
              "      <td>...</td>\n",
              "      <td>...</td>\n",
              "      <td>...</td>\n",
              "      <td>...</td>\n",
              "    </tr>\n",
              "    <tr>\n",
              "      <th>811</th>\n",
              "      <td>1216547</td>\n",
              "      <td>3</td>\n",
              "      <td>1</td>\n",
              "      <td>12</td>\n",
              "      <td>1</td>\n",
              "      <td>1</td>\n",
              "      <td>6</td>\n",
              "      <td>3</td>\n",
              "    </tr>\n",
              "    <tr>\n",
              "      <th>812</th>\n",
              "      <td>1237177</td>\n",
              "      <td>1</td>\n",
              "      <td>14</td>\n",
              "      <td>12</td>\n",
              "      <td>1</td>\n",
              "      <td>14</td>\n",
              "      <td>6</td>\n",
              "      <td>1</td>\n",
              "    </tr>\n",
              "    <tr>\n",
              "      <th>813</th>\n",
              "      <td>1237178</td>\n",
              "      <td>3</td>\n",
              "      <td>10</td>\n",
              "      <td>0</td>\n",
              "      <td>1</td>\n",
              "      <td>10</td>\n",
              "      <td>30</td>\n",
              "      <td>10</td>\n",
              "    </tr>\n",
              "    <tr>\n",
              "      <th>814</th>\n",
              "      <td>1237180</td>\n",
              "      <td>14</td>\n",
              "      <td>10</td>\n",
              "      <td>0</td>\n",
              "      <td>0</td>\n",
              "      <td>14</td>\n",
              "      <td>30</td>\n",
              "      <td>14</td>\n",
              "    </tr>\n",
              "    <tr>\n",
              "      <th>815</th>\n",
              "      <td>1237181</td>\n",
              "      <td>14</td>\n",
              "      <td>1</td>\n",
              "      <td>12</td>\n",
              "      <td>0</td>\n",
              "      <td>14</td>\n",
              "      <td>6</td>\n",
              "      <td>1</td>\n",
              "    </tr>\n",
              "  </tbody>\n",
              "</table>\n",
              "<p>816 rows × 8 columns</p>\n",
              "</div>"
            ],
            "text/plain": [
              "          id  team1  team2  city  toss_decision  toss_winner  venue  winner\n",
              "0     335982      3      2     2              1            3     14       2\n",
              "1     335983      9      5     7              0            5     23       5\n",
              "2     335984      7      6    10              0            6      8       7\n",
              "3     335985      1      3    23              0            1     35       3\n",
              "4     335986      2      4    22              0            4      7       2\n",
              "..       ...    ...    ...   ...            ...          ...    ...     ...\n",
              "811  1216547      3      1    12              1            1      6       3\n",
              "812  1237177      1     14    12              1           14      6       1\n",
              "813  1237178      3     10     0              1           10     30      10\n",
              "814  1237180     14     10     0              0           14     30      14\n",
              "815  1237181     14      1    12              0           14      6       1\n",
              "\n",
              "[816 rows x 8 columns]"
            ]
          },
          "metadata": {
            "tags": []
          },
          "execution_count": 497
        }
      ]
    },
    {
      "cell_type": "markdown",
      "metadata": {
        "id": "hXdx2tynNh4U"
      },
      "source": [
        "## Machine Learning"
      ]
    },
    {
      "cell_type": "code",
      "metadata": {
        "colab": {
          "base_uri": "https://localhost:8080/"
        },
        "id": "Bug9DI0ANh4V",
        "outputId": "0671bc6e-1144-44b8-81be-c080f489f95d"
      },
      "source": [
        "##splitting the data for training and testing\n",
        "\n",
        "from sklearn.model_selection import train_test_split\n",
        "\n",
        "train_df, test_df = train_test_split(match_df, test_size=0.2, random_state=42)\n",
        "print(train_df.shape)\n",
        "print(test_df.shape)"
      ],
      "execution_count": 498,
      "outputs": [
        {
          "output_type": "stream",
          "text": [
            "(652, 8)\n",
            "(164, 8)\n"
          ],
          "name": "stdout"
        }
      ]
    },
    {
      "cell_type": "code",
      "metadata": {
        "id": "od_unz7ZNh4Y"
      },
      "source": [
        "#Import models from scikit learn module:\n",
        "from sklearn.linear_model import LogisticRegression\n",
        "from sklearn.model_selection import cross_val_score\n",
        "from sklearn.ensemble import RandomForestClassifier\n",
        "from sklearn.tree import DecisionTreeClassifier, export_graphviz\n",
        "from sklearn import tree\n",
        "from sklearn.metrics import accuracy_score\n",
        "import numpy as np\n",
        "\n",
        "\n",
        "def print_model_scores(model, data, predictors, target):\n",
        "    '''\n",
        "    A generic function to generate the performance report of the\n",
        "    model in question on the data passed to it using cross-validation\n",
        "    \n",
        "    Args:\n",
        "        model: ML Model to be checked\n",
        "        data: data on which the model needs to pe trained\n",
        "        predictors: independent feature variable\n",
        "        target: target variable\n",
        "    '''\n",
        "    model.fit(data[predictors], data[target])\n",
        "    predictions = model.predict(data[predictors])\n",
        "    print(predictions)\n",
        "    accuracy = accuracy_score(predictions,data[target])\n",
        "    print('Accuracy : %s' % '{0:.2%}'.format(accuracy))\n",
        "    scores = cross_val_score(model, data[predictors], data[target], scoring=\"neg_mean_squared_error\", cv=5)\n",
        "    print('Cross-Validation Score :{}'.format(np.sqrt(-scores)))\n",
        "    print(f\"Average RMSE: {np.sqrt(-scores).mean()}\")"
      ],
      "execution_count": 499,
      "outputs": []
    },
    {
      "cell_type": "markdown",
      "metadata": {
        "id": "x-v-F50ENh4b"
      },
      "source": [
        "### Logistic Regression"
      ]
    },
    {
      "cell_type": "code",
      "metadata": {
        "colab": {
          "base_uri": "https://localhost:8080/"
        },
        "id": "8WjDCutQNh4f",
        "scrolled": false,
        "outputId": "22e8ce56-5680-449d-80f3-e1868ae40f07"
      },
      "source": [
        "target_var=['winner']\n",
        "outcome_var=['winner']\n",
        "predictor_var = ['team1','team2','venue', 'toss_winner', 'city', 'toss_decision']\n",
        "model = LogisticRegression()\n",
        "print_model_scores(model, train_df, predictor_var, target_var)"
      ],
      "execution_count": 500,
      "outputs": [
        {
          "output_type": "stream",
          "text": [
            "[ 1  6 10  2  5  5  6  9  2  1  1  1 10  9  3  9  6  6  5  2 10  9  1  9\n",
            "  9 10  9 10  9  2  3  6  2  6  3  6  1  2  9  6  2  6  5 10  1  2  2  3\n",
            " 10  6  1  5  1  6  1  9  5  2  1  5  5  1  3  6  3  6  5  3  5  2  2  2\n",
            "  6  2 10  9  6  3 10  3  9  3  3  1  2  2  6  6  1  6  2  5  6  3  1  2\n",
            "  3  3  1 10  3  2  9 10  5  1  3  6  1 15  1  1  1  2  1  3 10  3  3  1\n",
            "  5  2  5  3 10  3  5  3  2  3  1  3 10  1  1  3  9  9  1  9  5 10  6  1\n",
            "  9  1  2  9  6  5  6  2  1  5  3  6  9  5 10  6  5 10  9  3  5  2  1  1\n",
            "  9  1 10  2  5  2  1  9  6 10  1  9  2  2  2  2  9  2  2  9  1  2 10  1\n",
            "  1 10  2  2 10  9 10  2  5  6  1  2  1  2  5  5  6  5  3  2  9  5 10  6\n",
            "  7  3 14  2  3 15  1  3  2  1  9  5  9  5  1  2  2  1 10  2  5  3  6  5\n",
            "  3  1 10  1  9  6 10  9  2 14  1  5  5  9  2  5  1  6  9  1 10  3  9  2\n",
            "  5  5  3  1  1  1  9  5  5  3  2  5  1  1  5  1  2  1  5  3  5  2  3  3\n",
            "  2  3  2  2  1 10  5  3  3  5  2  5  1  6  2  6  1  9  3  3  3  9 10  3\n",
            "  1  5  1  9  2 10 14  2  9  1  6  3  6  2 10  3  1 10  5  1 10  2  9  8\n",
            "  2  1  2  1  1  2  2 10  3  1  1  6  9  2 14  3  5  2  2  3  3  1  2  2\n",
            "  3  5  9  1  2  9  2  1  5  9  1  1  2  9  2 10  6  3 14  5  5  2 10  5\n",
            "  9  6  1  5  9  6 10  3  1  9  6  5  1  1  5  5  1  6 10  3  1  1  9  2\n",
            "  1  9  2  3  1  5  5  6  1 10  2  9  9  2  5 10  1  1  5  9  5  1  3  9\n",
            "  5 10  1  6 13  9  2  9  9  9  3  3  9  5  2  3  9  9  3  9  9 10  2  1\n",
            "  5  6  6  1  1  6  1  9  1  1  2  6  9  1  1  2 14  3  3 10  9  2  9  6\n",
            " 10  3  2  2  3  6  9  1  3  3 10  2  2  5 10  9  9  3  1  6  2  1  1  3\n",
            "  3  2  3  5  2  3  9  2  2  1  3  3  2  6 14  2  1  1  9  3  2  3  3  9\n",
            "  1  5  1  1  2  3  3 10  1  3 15  1  9  6  1  2  6  1  7  9  2  3  3  5\n",
            "  5  1 10  6  6  6  5  5  5  1  2  1  2  9  1  9  2  3  5  9  2  3 10  9\n",
            "  3  9  5 10  6 10  3  5  1 10  6  6  9  2  6  2  5  2 10 10 10  6  1  1\n",
            "  9  3  6  3  9  3 10  2  3 10  3  3  9  2  9  2  3  3  3  9  3  6  5  3\n",
            "  1  1  2  2  1  9  1  9  2  2  9  6  5  5  1  1  1  9  6  5 10  1 14  2\n",
            "  6  6  3  1]\n",
            "Accuracy : 31.29%\n",
            "Cross-Validation Score :[3.38722341 2.90695402 3.58200631 3.68781778 3.49174852]\n",
            "Average RMSE: 3.4111500088851465\n"
          ],
          "name": "stdout"
        }
      ]
    },
    {
      "cell_type": "markdown",
      "metadata": {
        "id": "pVM5MsiPNh4p"
      },
      "source": [
        "### Random Forest Classifier"
      ]
    },
    {
      "cell_type": "code",
      "metadata": {
        "colab": {
          "base_uri": "https://localhost:8080/"
        },
        "id": "uQCLZz4uNh4p",
        "outputId": "2d86cced-4d61-4c60-d1fb-c6a2b41f0b93"
      },
      "source": [
        "model = RandomForestClassifier(n_estimators=100)\n",
        "target_var = ['winner']\n",
        "outcome_var=['winner']\n",
        "predictor_var = ['team1', 'team2', 'venue', 'toss_winner','city','toss_decision']\n",
        "print_model_scores(model, match_df,predictor_var, target_var)"
      ],
      "execution_count": 501,
      "outputs": [
        {
          "output_type": "stream",
          "text": [
            "[ 3  5  7  1  2  6  7  1  6  9  6  5  4  9  5  1  3  9  6  5  3  9  1  6\n",
            "  3  4  1  5  2  6  1  5  2  6  9  2  1  9  7  1  9  3  1  5  3  6  9  5\n",
            "  9  1  5  3  2  6  5  6  5  6  1  3  7  4  5  2  4  7  6  9  4  7  9  4\n",
            "  1  6  3  9  7  5  1  9  6  5  9  3  5  6  7  4  6  5  7  9  5  1  7  4\n",
            "  3  1  7  3  6  9  5  4  9  7  2  3  2  5  7  3  4  3  4  2  1  7  2  4\n",
            "  6  3  2  1  3  5  4  6  3  4  9  1  3  6  1  6  2  3  6  1  2  1  5  7\n",
            "  2  3  5  1  9  7  6  1  6  2  3  1  4  3  9  6  4  1  5  6  5  4  1  2\n",
            "  5  4  1  1  5  3  5  5  6  3  7 13  2  6  1  9 13  4  2 12  5  9  7  2\n",
            " 12  4  1 12  9  1  3  9  1  6  5  3  5  4  2  6  3  7  2  6  5  1 12  2\n",
            "  5  1 12  7  3  2  1  3 13  6 13  9  3  5  9  3  4  9 12  4  9  5  2  6\n",
            "  4 15  3  1  5  1  3  5  1  2 13  6  3  5  2 13  1  3  7  1  5  9  2  4\n",
            " 13  2  6  1  6  3  9  7  5  3  5 13  1  2  6  7  1  4  7  9  2  7  1  5\n",
            "  4  7  3  1  5  2  6  1  3  2  6  9  1  5  3  1  5  6  9  1  5  7  1  9\n",
            "  3  4  9  2  4  6  2  5  5  2  2  1 10  7  1 13 10  2  1  5  3 13 10  1\n",
            "  5  2  6 13  9  3 10  6  5 10  5  3  7  9  5  3  9  1  5  2 10  1  5  7\n",
            "  6  1 13 10  7  5  3  2 10  3  1  6  3  6  1  5  9  2  3  1 10  2  6  9\n",
            "  1 13  5  1  9 10  9  7  3 10  5  6  1  1  2  3  9  6  3  7  9  5  9  5\n",
            "  2 10  5  6  9  7  5  9  6 10  5  1  6  3  6  5  1  2  9 10  9 10  1  2\n",
            "  6  1  5  3 10  2  6  3  2  1  9 10  2  9  3 10  1  9  3  2  9  1  2  5\n",
            "  9  2  1  5  6  5  3  6  9  3  1  2  7  6  1  7  2  6  1  7  9 10  3  7\n",
            "  3  1  5  3 10  2  6  5  7  1  3 10  1  6  5  2  1  3 10  1  2 10  3  5\n",
            " 10  7  3  1  3  5  6  3  1  1  3  5  1 11  2  8  3  1  8  7  2  8  9  3\n",
            " 10  2  1 10  3  7 10  8  2  9 11  7  1  8  7 10  9  1  2  7  2 11 10  3\n",
            "  9 10  8  3 10  1  7  9  3  2 10  1  3 11  3  8  7 11  8  2  3  3 10 10\n",
            "  3 10 11  2  9  3 10  1  9  7  1  2  1  8  2  9  1  3  2 10  3 10  1  8\n",
            "  1 11  9  3 11  2  3  2 10 11  1  9 10  3 11  7 11  7  9 11  1  2  8 10\n",
            "  2  7  9  7 10  1 11  3 11  2  1  1  1  9  2 10  5  6 10  3  1  2  6  9\n",
            "  2  1  2 10  5  2  3  5  6  7  1  3 10  7  1 10  2  5  3  6  2  1  5 10\n",
            "  1  9 10  6  1 10  6  2  3  5  1  3  2  1  3  5  6  2  7  5  5  6  2  5\n",
            "  5  2 14  6  5  2  1 10  9 14 10  5  9  6  1 10  2  5 10 14  2 10  5  9\n",
            "  5 14  1  3  5 14  1  9 10  1  2  6 14 10  3 14  5  3  6  1  6 14  1 10\n",
            " 15  5  1  2 14  3  9  1  1 14  5  1  5 14  3 10  6  2  9  1 14  2 10  1\n",
            "  2 14  5  6  1 14  9  6  2  5  3 14 10  9 10 14  9  1  3  2 10  3  1  6\n",
            "  5  1  2  9 10  6  3  1  5  6  1 14  3  6 10 14  3  2  9  3  1 10 14  1]\n",
            "Accuracy : 88.24%\n",
            "Cross-Validation Score :[3.14584511 3.22280981 3.62760378 3.7880989  3.76291233]\n",
            "Average RMSE: 3.509453985927679\n"
          ],
          "name": "stdout"
        }
      ]
    },
    {
      "cell_type": "code",
      "metadata": {
        "colab": {
          "base_uri": "https://localhost:8080/"
        },
        "id": "iNr1uq9dbXx1",
        "outputId": "1f444c4d-5c2a-495e-9046-f4d5adc42da9"
      },
      "source": [
        "#Decision tree algorithm\n",
        "model = tree.DecisionTreeClassifier(criterion='gini')\n",
        "outcome_var=['winner']\n",
        "predictor_var = ['team1', 'team2', 'venue', 'toss_winner','city','toss_decision']\n",
        "print_model_scores(model, match_df,predictor_var, target_var)"
      ],
      "execution_count": 502,
      "outputs": [
        {
          "output_type": "stream",
          "text": [
            "[ 3  5  6  1  2  6  7  1  6  9  6  5  4  9  5  1  3  9  6  5  3  2  1  6\n",
            "  3  4  1  5  2  6  1  5  2  6  9  2  1  9  7  1  9  3  1  5  3  6  9  5\n",
            "  9  1  5  3  2  6  5  6  5  6  1  3  7  4  5  2  4  7  6  3  4  7  9  4\n",
            "  1  6  3  9  7  5  1  3  6  5  9  3  5  6  7  4  6  5  7  9  5  1  7  4\n",
            "  3  1  7  3  6  9  5  4  9  7  2  3  2  5  7  3  4  3  4  2  1  7  2  4\n",
            "  6  3  2  1  3  5  4  6  3  4  9  1  3  6  1  6  2  3  6  1  2  1  5  7\n",
            "  2  3  5  1  9  7  6  1  6  2  3  1  4  3  9  6  4  1  5  3  5  4  1  2\n",
            "  5  4  1  1  5  3  5  2  6  3  1 13  2  6  1  9 13  4  2 12  5  9  7  2\n",
            " 12  4  1 12  9  1  3  9  1  6  5  3  5  4  2  6  3  7  2  6  5  1 12  2\n",
            "  5  1 12  7  3  2  1  3 13  5 13  9  3  5  9  3  4  9 12  4  9  5  2  6\n",
            "  4 15  3  1  5  1  3  5  1  2 13  6  3  5  2  9  1  3  7  1  5  9  2  4\n",
            "  5  2  6  1  6  3  2  7  5  3  5 13  1  2  6  7  1  4  7  9  2  7  1  2\n",
            "  4  7  3  1  5  2  6  1  3  2  6  9  1  5  3  1  5  6  9  1  5  7  1  9\n",
            "  3  4  9  2  4  1  2  5  5  2  2  1 10  6  1  9 10  2  1  5  3 13 10  1\n",
            "  5  2  6 13  9  3 10  1  5 10  5  3  7  9  5  3  9  1  5  2  6  1  5  7\n",
            "  6  1  5 10  7  5  3  2 10  3  1  6  3  6  1  5  9  2  3  1 10  2  5  9\n",
            "  1 13  5  1  9 10  9  7  3 10  5  6  1  1  2  3  9  6  3  7  9  5  9  5\n",
            "  2 10  5  6  9  7  5  9  6 10  5  1  6  3  6  5  1  2  9 10  9 10  1  2\n",
            "  6  1  5  3 10  2  6  3  2  1  9 10  2  9  3 10  1  9  3  2  9  1  2  5\n",
            "  9  2  1  5  6  5  3  6  9  3  1  2  7  6  1  7  2  6  1  7  9 10  3  7\n",
            "  3  1  5  3 10  2  6  5  7  1  3 10  1  6  5  2  1  3 10  1  2 10  1  5\n",
            " 10  7  3  1  3  5  6  3  1  1  3  5  1 11  2  8  3  1  8  7  2  8  9  3\n",
            " 10  2  1 10  3  7 10  8  2  1 11  7  1  8  7 10  9  1  2  7  2 11 10  3\n",
            "  9 10  8  3 10  1  7  9  3  2  9  1  3 11  3  8  7 11  8  2  3  3 10 10\n",
            "  3 10 11  2  9  3 10  1  9  7  1  2  1  8  2  9  1  3  2 10  3 10  1  8\n",
            "  1 11  9  3 11  2  3  2  9 11  1  9 10  1 11  7 11  7  9 11  1  2  8 10\n",
            "  2  7  9  7 10  1 11  3 11  2  1  1  1  9  2 10  5  6 10  3  1  2  6  9\n",
            "  2  1  2  9  5  2  3  5  6  7  1  3 10  7  1  6  2  5  3  6  2  1  5 10\n",
            "  1  9 10  6  1 10  6  2  3  5  1  3  2  1  3  5  3  2  1  5  5  6  2  5\n",
            "  5  2 14  6  5  2  1 10  1 14 10  5  9  6  1 10  2  5 10 14  2  9  5  9\n",
            "  5 14  1  3  5 14  1  9 10  1  2  6 14 10  3 14  5  3  6  1  6 14  1 10\n",
            " 15  5  1  2 14  3  9  1  1 14  5  1  5 14  3 10  6  2  9  1 14  2 10  1\n",
            "  2 14  5  6  1 14  9  1  2  5  3 14 10  9 10 14  9  1  3  2 10  3  1  6\n",
            "  5  1  2  9 10  6  3  1  5  6  1 14  3  1 10 14  3  2  9  3  1 10 14  1]\n",
            "Accuracy : 88.24%\n",
            "Cross-Validation Score :[2.90919484 3.4587845  3.58678556 4.18220008 3.75638516]\n",
            "Average RMSE: 3.578670028503024\n"
          ],
          "name": "stdout"
        }
      ]
    },
    {
      "cell_type": "code",
      "metadata": {
        "colab": {
          "base_uri": "https://localhost:8080/"
        },
        "id": "tbSacLVpb5lS",
        "outputId": "bfbd3036-addd-4ebd-97f7-fa18a7d5fe1b"
      },
      "source": [
        "#Import Library\n",
        "from sklearn import svm\n",
        "#Assumed you have, X (predictor) and Y (target) for training data set and x_test(predictor) of test_dataset\n",
        "# Create SVM classification object \n",
        "model = svm.SVC(kernel='rbf', C=1, gamma=1) \n",
        "outcome_var=['winner']\n",
        "predictor_var = ['team1', 'team2', 'venue', 'toss_winner','city','toss_decision']\n",
        "# there is various option associated with it, like changing kernel, gamma and C value. Will discuss more # about it in next section.Train the model using the training sets and check score\n",
        "print_model_scores(model, match_df,predictor_var, target_var)"
      ],
      "execution_count": 503,
      "outputs": [
        {
          "output_type": "stream",
          "text": [
            "[ 3  5  7  1  2  6  7  1  6  9  6  5  4  9  5  1  3  9  6  5  3  9  1  6\n",
            "  3  4  1  5  2  6  1  5  2  6  9  2  1  9  7  1  9  6  1  5  3  6  9  5\n",
            "  9  1  5  3  2  6  5  6  5  6  1  3  7  4  5  2  4  7  6  3  4  7  9  4\n",
            "  1  6  3  9  7  5  1  3  6  5  9  3  5  6  7  4  6  5  7  9  5  1  7  4\n",
            "  3  1  7  3  6  9  5  4  9  7  2  3  2  5  7  3  4  3  4  2  1  9  2  4\n",
            "  6  3  5  1  3  5  4  6  3  4  9  1  3  6  1  6  2  3  6  1  2  1  5  7\n",
            "  2  3  5  1  9  7  6  1  6  2  3  9  4  3  9  6  4  1  5  6  5  4  1  2\n",
            "  5  4  1  1  5  3  5  5  6  3  1 13  2  6  1  9 13  4  2 12  5  9  7  2\n",
            "  1  4  1 12  9  1  3  9  1  6  5  3  5  4  2  6  3  7  2  6  5  1 12  2\n",
            "  5  1 12  7  3  5  1  3  9  5 13  9  6  5  9  3  4  9 12  4  9  5  2  1\n",
            "  4 15  3  1  5  1  3  5  1  2  1  6  3  5  2  9  1  3  7  1  5  9  2  4\n",
            "  5  2  6  1  6  3  9  7  5  9  5 13  9  2  6  7  1  4  7  9  2  7  1  5\n",
            "  4  7  3  1  5  2  6  1  3  2  6  9  1  5  3  1  5  6  9  1  5  7  1  9\n",
            "  3  4  9  2  4  6  2  5  5  2  2  1 10  7  1  9 10  2  1  5  3 13 10  1\n",
            "  5  2  6  5  9  3 10  6  5 10  5  3  7  9  5  3  9  1  5  2  6  1  5  7\n",
            "  6  9  5 10  7  5  3  2 10  3  1  6  3  6  1  5  9  2  3  1 10  2  5  9\n",
            "  1 13  5  1  9 10  9  7  3 10  5  6  1  1  2  3  9  6  3  7  9  5  9  5\n",
            "  2 10  5  6  9  7  5  9  6 10  5  1  6  3  6  5  1  2  9 10  9 10  1  2\n",
            "  6  1  5  3 10  2  6  3  2  1  9 10  2  9  3 10  1  9  3  2  9  1  2  5\n",
            "  9  2  1  5  6  5  3  6  9  3  1  2  7  6  1  7  2  6  1  7  9 10  3  7\n",
            "  3  1  5  3 10  2  6  5  7  1  3 10  9  6  5  2  1  3 10  1  2 10  1  5\n",
            " 10  7  9  1  3  5  6  3  1  1  3  5  1 11  2  8  3  1  8  7  2  8  9  3\n",
            " 10  2  1 10  3  7 10  8  2  1 11  7  1  8  7 10  9  1  2  7  2 11 10  3\n",
            "  9 10  8  3 10  1  7  9  3  2  9  1  3 11  3  8  7 11  8  2  3  3 10 10\n",
            "  3 10 11  2  9  3 10  1  9  7  1  2  1  8  2  9  1  3  2 10  3 10  1  8\n",
            "  1 11  9  3 11  2  3  2 10 11  1  9 10  1 11  7  2  7  9 11  1  2  8 10\n",
            "  2  7  9  7 10  1 11  3 11  2  1  1  1  9  2 10  5  6 10  3  1  2  6  9\n",
            "  2  1  2  9  5  2  3  5  6  7  1  3 10  7  1  6  2  5  3  6  2  1  5 10\n",
            "  1  9 10  6  1 10  6  2  3  5  1  3  2  1  3  5  6  2  1  5  5  6  2  5\n",
            "  5  2 14  6  5  2  1 10  1 14 10  5  9  6  1 10  2  5 10 14  2 10  5  9\n",
            "  5 14  1  3  5 14  1  9 10  1  2  6 14 10  3 14  5  3  6  1  6 14  1 10\n",
            " 15  5  1  2 14  3  9  1  1 14  5  1  5 14  3 10  6  2  9  1 14  2 10  1\n",
            "  2 14  5  6  1 14  9  1  2  5  3 14 10  9 10 14  9  1  3  2 10  5  1  6\n",
            "  5  1  2  9 10  6  3  1  5  6  1 14  3  1 10 14  5  2  9  3  1 10 14  1]\n",
            "Accuracy : 87.38%\n",
            "Cross-Validation Score :[4.60778768 4.66549795 4.50698163 4.62123665 4.86568049]\n",
            "Average RMSE: 4.65343688261236\n"
          ],
          "name": "stdout"
        }
      ]
    },
    {
      "cell_type": "code",
      "metadata": {
        "colab": {
          "base_uri": "https://localhost:8080/"
        },
        "id": "1heNnjgRR1zu",
        "outputId": "8f4f3cef-4f15-408e-ea0c-c8c58fe3e133"
      },
      "source": [
        "#applying knn algorithm\n",
        "from sklearn.neighbors import KNeighborsClassifier\n",
        "model = KNeighborsClassifier(n_neighbors=3)\n",
        "print_model_scores(model, match_df,predictor_var,outcome_var)"
      ],
      "execution_count": 504,
      "outputs": [
        {
          "output_type": "stream",
          "text": [
            "[ 3  5  7  1  2  6  7  1  6  9  6  5  1  9  5  1  3  9  6  5  4  2  1  6\n",
            "  3  4  1  5  2  6  1  5  4  6  9  2  1  9  7  1  9  2  1  5  7  6  9  5\n",
            "  9  1  5  3  2  6  7  6  1  5  4  3  7  4  5  1  4  7  3  3  4  5  9  3\n",
            "  1  5  4  9  5  5  1  3  5  3  2  4  5  9  2  2  5  5  1  9  4  1  4  3\n",
            "  3  1  3  3  3  7  1  4  3  7  2  3  2  3  1  3  2  4  4  1  1  9  2  5\n",
            "  6  3  5  1  3  7  4  6  1  4  5  1  3  9  1  6  9  3  6  1  2  1  5  7\n",
            "  2  2  5  1  9  7  4  1  6  2  3  9  4  3  9  6  4  1  5  6  5  4  1  2\n",
            "  4  4  1  1  3  3  1  5  6  3  7 13  2  6  1  9 13  4  2  1  5  9  4  2\n",
            "  3  4  1  2  9  5  3  9  1  6  5  3  1  3  2  6  3  7  2  6  5  1 10  1\n",
            "  5  1  2  6  3  5  1  3  9  6  6  9  2  5  9  3  1  9  9  2  9  5  2  1\n",
            "  9  7  3  1  5  1  1  5  1  2  1  6  7  1  2  9  1  3  7  1  5  9  2  4\n",
            " 13  2  6  1  6  3  2  7  5  9  5  7  9  2  6  6  1  3  7  5  2  7  1  5\n",
            "  4  6  3  2  5  2  9  1  3  2  6  7  1  5  1  1  5  6  9  1  5  7  1  9\n",
            "  3  6  9  2  4  6  2  1  5  1  2  1 10  7  1  9 10  2  1  5  3 13 10  1\n",
            "  5  2  6  5  2  3  9  6  5 10  5  3  7  9  5  3  9  1  5  2  6  1  5  7\n",
            "  6  9 13 10  2  5  2  2 10  3  1  6 10  6  1  5  9  2  3  1 10  2  6  9\n",
            "  1  5  5  1  9 10  7  6  3 10  1  6  2  1  1  2  5  6  3  3  9  5  9  3\n",
            "  2 10  3  6  2  2  9  5  6  7  5  1  6  3  1  5  1  2  2  6  9 10  5  2\n",
            "  3  1  5  7 10  2  6  5  2  6  9 10  2  9  3  5  1  9  3  2  9  1  8  5\n",
            "  5  9  1  5  7  5  3  6  9 10  6  2  6  6  1  6  2  6  1  7  6  1  3  7\n",
            "  6  1  5  3 10  2  6  5  7  1  3 10  9  6  5  2  1  3  6  1  2 10  1  5\n",
            " 10  3  9  1  2  9  5  3  1  1  5  5  5 11  2  8 10  1 10  7  2  1  9  7\n",
            " 10  2  1  8  3  7 10  2  2  1 11  7  1  6  7 10  9  2  2  9  2 10 10  3\n",
            "  9  5  8  3 11  1 10  5  3  2  9  1  3 11  3  8  7 11  8  2  3  2  7 10\n",
            " 10 10  3  2  9  3 10  1  1 11  1  2  1  9  2  9  1  3  2 10  1 10  1  8\n",
            "  1 11  9  3 11  2  3  2  9  2  1  9 10  1 11  7  2  7  9 11  1  2  8 10\n",
            "  2  7  9 10  7  1 11  3 11  2  1  1  5  9  2 10  5  6 10  3  1  2  3  5\n",
            "  2  1  2  9  5  2  3  5  2  7  1  3 10  7  1  6  2  5  1  6  2  1  5 10\n",
            "  1  2 10  6  1 10  6  2  3  5  1  1  2  1  3  5  6  2  7  5  5  6  2  5\n",
            "  5  2  1  6 14  2  1 10  1 14 10  5  9  6  5 14  2  5 10  3  2  9  5  9\n",
            "  5  2  1  3  5 11  1  9 10  1  2  6  5 10  3  6  5  3  6  1  6 14  1 10\n",
            "  3  5  1  2 14  3  9  1  1 10  5  1  2 10  1 10  6  2 10  1  6  1 10  1\n",
            "  2  2  6 10  1  7  3  1  1  5  6  2  5  7  3 14 10  1  3  2  9  3  1  6\n",
            " 10  1  2  1 14  5  3  1  2  6  1 14  1  1 10  5  3  2 14  3  1  1  1 14]\n",
            "Accuracy : 64.58%\n",
            "Cross-Validation Score :[3.45264127 3.53423224 3.81070497 3.81874614 3.69380181]\n",
            "Average RMSE: 3.6620252854993525\n"
          ],
          "name": "stdout"
        }
      ]
    },
    {
      "cell_type": "code",
      "metadata": {
        "colab": {
          "base_uri": "https://localhost:8080/"
        },
        "id": "BdAWjFFoclau",
        "outputId": "9fcb7689-96dc-41ed-f7bd-b3556fb6495f"
      },
      "source": [
        "#Gradient boost algorithm\n",
        "from sklearn.ensemble import GradientBoostingClassifier\n",
        "model= GradientBoostingClassifier(n_estimators=1000, learning_rate=0.1, max_depth=3, random_state=0)\n",
        "print_model_scores(model, match_df,predictor_var, target_var)"
      ],
      "execution_count": 505,
      "outputs": [
        {
          "output_type": "stream",
          "text": [
            "[ 3  5  6  1  2  6  7  1  6  9 15  5  4  9  5  1  3  9  6  5  3  2  1  6\n",
            "  3  4  1  5  2  6  1  5  2  6  9  2  1  9  7  1  9  3  1  5  3  6  9  5\n",
            "  9  1  5  3  2  6  5  6  5  6  1  3  7  4  5  2  4  7  6  9  4  7  9  4\n",
            "  1  6  3  9  7  5  1  9  6  5  9  3  5  6  7  4  6  5  7  9  5  1  7  4\n",
            "  3  1  7  3  6  9  5  4  9  7  2  3  2  5  7  3  4  3  4  2  1  7  2  4\n",
            "  7  3  5  1  3  5  4  6  3  4  9  1  3  6  1  6  2  3  6  1  2  1  5  7\n",
            "  2  3  5  1  9  7  6  1  6  2  3  1  4  3  9  6  4  1  5  6  5  4  1  2\n",
            "  5  4  1  1  5  3  5  5  6  3  7 13  2  6  1  9 13  4  2 12  5  9  7  2\n",
            " 12  4  1 12  9  5  3  9  1  6  5  3  5  4  2  6  3  7  2  6  5  1 12  2\n",
            "  5  1 12  7  3  5  1  3 13  5 13  9  3  5  9  3  4  9 12  4  9  5  2  6\n",
            "  4 15  3  1  5  1  3  5  1  2 13  6  3  5  2 13  1  3  7  1  5  9  2  4\n",
            "  5  2  6  1  6  3  2  7  5  9  5 13  9  2  6 13  1  4  7  9  2  7  1  5\n",
            "  4  7  3  1  5  2  6  1  3  2  6  9  1  5  3  1  5  6  9  1  5  7  1  9\n",
            "  3  4  9  2  4  6  2  5  5  2  2  1 10  6  1 13 10  2  1  5  3 13 10  1\n",
            "  5  2  6 13  9  3 10  6  5 10  5  3  7  9  5  3  9  1  5  2  6  1  5  7\n",
            "  6  9  5 10  7  5  3  2 10  3  1  6  3  6  1  5  9  2  3  1 10  2  5  9\n",
            "  1 13  5  1  9 10  9 13  3 10  5  6  1  1  2  3  9  6  3  7  9  5  9  5\n",
            "  2 10  5  6  9  7  5  9  6 10  5  1  6  3  6  5  1  2  9 10  9 10  5  2\n",
            "  6  1  5  3 10  2  7  3  2  6  9 10  2  9  3 10  1  9  3  2  9  1  2  5\n",
            "  9  2  1  5  6  5  3  6  9  3  6  2  7  6  1  7  2  6  1  7  9 10  3  7\n",
            "  3  1  5  3 10  2 15  5  7  1  3 10  1  6  5  2  1  3 10  1  2 10  3  5\n",
            " 10  7  9  1  3  5  6  3  1  1  3  5  1 11  2  8  3  1  8  7  2  8  9  3\n",
            " 10  2  1 10  3  7 10  8  2  1 11  8  1  8  7 10  9  1  2  7  2 11 10 11\n",
            "  9 10  8  3 10  1  7  9  3  2 10  1  3 11  3  8  7 11  8  2  3  3 10 10\n",
            "  3 10 11  2  9  3 10  1  9  7  1  2  1  8  2  9  1 11  2 10  3 10  1  8\n",
            "  1 11  9  3 11  2  3  2  9 11  1  9 10  3 11  7 11  8  9 11  1  2  8 10\n",
            "  2  7  9  7 10  1 11  3 11  2  1  1  5  9  2 10  5  6 10  3  1  2  6  9\n",
            "  2  1  2 10  5  2  3  5  6  7  1  5 10  7  1  6  2  5  3  6  2  1  5 10\n",
            "  1  9 10  6  1 10  6  2  3  5  1  3  2  1  3  5  6  2  7  5  5  6  2  5\n",
            "  5  2 14  6  5  2  1 10  1 14 10  5  9  6  5 10  2  5 10 14  2  9  5  9\n",
            "  5 14  1  3  5 14  1  9 10  1  2  6 14 10  5 14  5  3  6  1  6 14  1 10\n",
            " 15  5  1  2 14  3  9  1  1 14  5  1  5 14  3 10  6  2  9  1 14  2 10  1\n",
            "  2 14  5  6  1 14  9  6  2  5  3 14 10  9 10 14  9  1  3  2 10  5  1  6\n",
            "  5  1  2  9 10  6  3  1  5  6  1 14  3  6 10 14  5  2  9  3  1 10 14  1]\n",
            "Accuracy : 88.24%\n",
            "Cross-Validation Score :[3.14002486 3.76861433 3.4177451  3.64447645 4.23757657]\n",
            "Average RMSE: 3.641687463040602\n"
          ],
          "name": "stdout"
        }
      ]
    },
    {
      "cell_type": "markdown",
      "metadata": {
        "id": "LpXlQHK3Nh4t"
      },
      "source": [
        "### Sample Prediction"
      ]
    },
    {
      "cell_type": "code",
      "metadata": {
        "colab": {
          "base_uri": "https://localhost:8080/"
        },
        "id": "FiCApSuYNh4u",
        "outputId": "4f690be0-8f85-44c7-d041-cd56b9cc957b"
      },
      "source": [
        "team1='Mumbai Indians'\n",
        "team2='Sunrisers Hyderabad'\n",
        "toss_winner='Sunrisers Hyderabad'\n",
        "inp = [team_encode_dict['team1'][team1],team_encode_dict['team2'][team2],'14',team_encode_dict['toss_winner'][toss_winner],'2','1']\n",
        "inp = np.array(inp).reshape((1, -1))\n",
        "print(inp)\n",
        "output=model.predict(inp)\n",
        "print(f\"The winner would be: {list(team_encodings.keys())[list(team_encode_dict['team1'].values()).index(output)]}\")"
      ],
      "execution_count": 506,
      "outputs": [
        {
          "output_type": "stream",
          "text": [
            "[['1' '10' '14' '10' '2' '1']]\n",
            "The winner would be: Mumbai Indians\n"
          ],
          "name": "stdout"
        }
      ]
    },
    {
      "cell_type": "markdown",
      "metadata": {
        "id": "cJP7Y0-2Nh4w"
      },
      "source": [
        "### Feature Importance"
      ]
    },
    {
      "cell_type": "code",
      "metadata": {
        "colab": {
          "base_uri": "https://localhost:8080/"
        },
        "id": "dwtQAi4bNh4x",
        "outputId": "0071d0d3-20a4-4d44-ac34-a305e2ecb149"
      },
      "source": [
        "pd.Series(index= predictor_var, data=model.feature_importances_)"
      ],
      "execution_count": 507,
      "outputs": [
        {
          "output_type": "execute_result",
          "data": {
            "text/plain": [
              "team1            0.326300\n",
              "team2            0.332646\n",
              "venue            0.103420\n",
              "toss_winner      0.134422\n",
              "city             0.088464\n",
              "toss_decision    0.014748\n",
              "dtype: float64"
            ]
          },
          "metadata": {
            "tags": []
          },
          "execution_count": 507
        }
      ]
    },
    {
      "cell_type": "markdown",
      "metadata": {
        "id": "FCckmug5Nh4x"
      },
      "source": [
        "### Running Model on Unseen data"
      ]
    },
    {
      "cell_type": "code",
      "metadata": {
        "colab": {
          "base_uri": "https://localhost:8080/"
        },
        "id": "OdEU9YboNh4y",
        "outputId": "65057a34-524f-421f-e6d1-73c4c65d2555"
      },
      "source": [
        "print_model_scores(model, test_df, predictor_var, target_var)"
      ],
      "execution_count": 508,
      "outputs": [
        {
          "output_type": "stream",
          "text": [
            "[ 9  9 15  9  8  1  9  5  6  2  6  5  1  1  5 10  4  5  6 10  1  9  6  6\n",
            "  1  1  1  7  2  1  5  3 10  5  9  6  5  9  2  9  7 11  1  7  4  5  7 13\n",
            "  7  7  2  5 14 10  2 10  5  7 13  1  3 11  7  7  3  5  2  7  3  9  7  3\n",
            "  3  3  6  5  9  3  5  9  6 14  5  1  5  9  2 12  4  2  8  2  7  1 10  9\n",
            "  2  5  7  1  8  5 10  2  6  6  1  3  7  7  7 10  5  8  6  1  5  6  5  7\n",
            "  5  5  2  1  5  6  2  9 10  6  2  5 10  3  5  5 10  1 14 10  5  2  9 10\n",
            "  6  9  5  9  9  9  3  9  9  7  5  6  3 14 14  9  6  1  3  9]\n",
            "Accuracy : 95.12%\n",
            "Cross-Validation Score :[3.96958131 2.97464029 4.05642028 4.72260842 3.30718914]\n",
            "Average RMSE: 3.8060878865487573\n"
          ],
          "name": "stdout"
        }
      ]
    },
    {
      "cell_type": "code",
      "metadata": {
        "colab": {
          "base_uri": "https://localhost:8080/",
          "height": 419
        },
        "id": "4mzU5TgONh42",
        "outputId": "b22cb000-ab58-4117-b15a-ce6da62af48b"
      },
      "source": [
        "match_df[match_df['winner'] == match_df['toss_winner']]"
      ],
      "execution_count": 509,
      "outputs": [
        {
          "output_type": "execute_result",
          "data": {
            "text/html": [
              "<div>\n",
              "<style scoped>\n",
              "    .dataframe tbody tr th:only-of-type {\n",
              "        vertical-align: middle;\n",
              "    }\n",
              "\n",
              "    .dataframe tbody tr th {\n",
              "        vertical-align: top;\n",
              "    }\n",
              "\n",
              "    .dataframe thead th {\n",
              "        text-align: right;\n",
              "    }\n",
              "</style>\n",
              "<table border=\"1\" class=\"dataframe\">\n",
              "  <thead>\n",
              "    <tr style=\"text-align: right;\">\n",
              "      <th></th>\n",
              "      <th>id</th>\n",
              "      <th>team1</th>\n",
              "      <th>team2</th>\n",
              "      <th>city</th>\n",
              "      <th>toss_decision</th>\n",
              "      <th>toss_winner</th>\n",
              "      <th>venue</th>\n",
              "      <th>winner</th>\n",
              "    </tr>\n",
              "  </thead>\n",
              "  <tbody>\n",
              "    <tr>\n",
              "      <th>1</th>\n",
              "      <td>335983</td>\n",
              "      <td>9</td>\n",
              "      <td>5</td>\n",
              "      <td>7</td>\n",
              "      <td>0</td>\n",
              "      <td>5</td>\n",
              "      <td>23</td>\n",
              "      <td>5</td>\n",
              "    </tr>\n",
              "    <tr>\n",
              "      <th>8</th>\n",
              "      <td>335990</td>\n",
              "      <td>4</td>\n",
              "      <td>6</td>\n",
              "      <td>15</td>\n",
              "      <td>1</td>\n",
              "      <td>6</td>\n",
              "      <td>24</td>\n",
              "      <td>6</td>\n",
              "    </tr>\n",
              "    <tr>\n",
              "      <th>10</th>\n",
              "      <td>335992</td>\n",
              "      <td>3</td>\n",
              "      <td>6</td>\n",
              "      <td>2</td>\n",
              "      <td>1</td>\n",
              "      <td>6</td>\n",
              "      <td>14</td>\n",
              "      <td>6</td>\n",
              "    </tr>\n",
              "    <tr>\n",
              "      <th>12</th>\n",
              "      <td>335994</td>\n",
              "      <td>1</td>\n",
              "      <td>4</td>\n",
              "      <td>23</td>\n",
              "      <td>1</td>\n",
              "      <td>4</td>\n",
              "      <td>4</td>\n",
              "      <td>4</td>\n",
              "    </tr>\n",
              "    <tr>\n",
              "      <th>14</th>\n",
              "      <td>335996</td>\n",
              "      <td>3</td>\n",
              "      <td>5</td>\n",
              "      <td>2</td>\n",
              "      <td>0</td>\n",
              "      <td>5</td>\n",
              "      <td>14</td>\n",
              "      <td>5</td>\n",
              "    </tr>\n",
              "    <tr>\n",
              "      <th>...</th>\n",
              "      <td>...</td>\n",
              "      <td>...</td>\n",
              "      <td>...</td>\n",
              "      <td>...</td>\n",
              "      <td>...</td>\n",
              "      <td>...</td>\n",
              "      <td>...</td>\n",
              "      <td>...</td>\n",
              "    </tr>\n",
              "    <tr>\n",
              "      <th>804</th>\n",
              "      <td>1216540</td>\n",
              "      <td>3</td>\n",
              "      <td>2</td>\n",
              "      <td>30</td>\n",
              "      <td>0</td>\n",
              "      <td>3</td>\n",
              "      <td>29</td>\n",
              "      <td>3</td>\n",
              "    </tr>\n",
              "    <tr>\n",
              "      <th>806</th>\n",
              "      <td>1216542</td>\n",
              "      <td>10</td>\n",
              "      <td>9</td>\n",
              "      <td>12</td>\n",
              "      <td>0</td>\n",
              "      <td>10</td>\n",
              "      <td>6</td>\n",
              "      <td>10</td>\n",
              "    </tr>\n",
              "    <tr>\n",
              "      <th>807</th>\n",
              "      <td>1216543</td>\n",
              "      <td>14</td>\n",
              "      <td>6</td>\n",
              "      <td>12</td>\n",
              "      <td>0</td>\n",
              "      <td>14</td>\n",
              "      <td>6</td>\n",
              "      <td>14</td>\n",
              "    </tr>\n",
              "    <tr>\n",
              "      <th>813</th>\n",
              "      <td>1237178</td>\n",
              "      <td>3</td>\n",
              "      <td>10</td>\n",
              "      <td>0</td>\n",
              "      <td>1</td>\n",
              "      <td>10</td>\n",
              "      <td>30</td>\n",
              "      <td>10</td>\n",
              "    </tr>\n",
              "    <tr>\n",
              "      <th>814</th>\n",
              "      <td>1237180</td>\n",
              "      <td>14</td>\n",
              "      <td>10</td>\n",
              "      <td>0</td>\n",
              "      <td>0</td>\n",
              "      <td>14</td>\n",
              "      <td>30</td>\n",
              "      <td>14</td>\n",
              "    </tr>\n",
              "  </tbody>\n",
              "</table>\n",
              "<p>418 rows × 8 columns</p>\n",
              "</div>"
            ],
            "text/plain": [
              "          id  team1  team2  city  toss_decision  toss_winner  venue  winner\n",
              "1     335983      9      5     7              0            5     23       5\n",
              "8     335990      4      6    15              1            6     24       6\n",
              "10    335992      3      6     2              1            6     14       6\n",
              "12    335994      1      4    23              1            4      4       4\n",
              "14    335996      3      5     2              0            5     14       5\n",
              "..       ...    ...    ...   ...            ...          ...    ...     ...\n",
              "804  1216540      3      2    30              0            3     29       3\n",
              "806  1216542     10      9    12              0           10      6      10\n",
              "807  1216543     14      6    12              0           14      6      14\n",
              "813  1237178      3     10     0              1           10     30      10\n",
              "814  1237180     14     10     0              0           14     30      14\n",
              "\n",
              "[418 rows x 8 columns]"
            ]
          },
          "metadata": {
            "tags": []
          },
          "execution_count": 509
        }
      ]
    },
    {
      "cell_type": "markdown",
      "metadata": {
        "id": "jrxbGfojNh44"
      },
      "source": [
        "## Taking it a step further: Adding Variables"
      ]
    },
    {
      "cell_type": "code",
      "metadata": {
        "colab": {
          "base_uri": "https://localhost:8080/",
          "height": 419
        },
        "id": "DyEFGEnFNh45",
        "outputId": "1870f83d-e58a-420e-e5e6-4ea24e0ebddb"
      },
      "source": [
        "batsman_grp = dlvr_df.groupby(['match_id', 'batting_team'])\n",
        "batsmen = batsman_grp['batsman_runs'].sum().reset_index()\n",
        "batsmen"
      ],
      "execution_count": 510,
      "outputs": [
        {
          "output_type": "execute_result",
          "data": {
            "text/html": [
              "<div>\n",
              "<style scoped>\n",
              "    .dataframe tbody tr th:only-of-type {\n",
              "        vertical-align: middle;\n",
              "    }\n",
              "\n",
              "    .dataframe tbody tr th {\n",
              "        vertical-align: top;\n",
              "    }\n",
              "\n",
              "    .dataframe thead th {\n",
              "        text-align: right;\n",
              "    }\n",
              "</style>\n",
              "<table border=\"1\" class=\"dataframe\">\n",
              "  <thead>\n",
              "    <tr style=\"text-align: right;\">\n",
              "      <th></th>\n",
              "      <th>match_id</th>\n",
              "      <th>batting_team</th>\n",
              "      <th>batsman_runs</th>\n",
              "    </tr>\n",
              "  </thead>\n",
              "  <tbody>\n",
              "    <tr>\n",
              "      <th>0</th>\n",
              "      <td>335982.0</td>\n",
              "      <td>Kolkata Knight Riders</td>\n",
              "      <td>205.0</td>\n",
              "    </tr>\n",
              "    <tr>\n",
              "      <th>1</th>\n",
              "      <td>335982.0</td>\n",
              "      <td>Royal Challengers Bangalore</td>\n",
              "      <td>63.0</td>\n",
              "    </tr>\n",
              "    <tr>\n",
              "      <th>2</th>\n",
              "      <td>335983.0</td>\n",
              "      <td>Chennai Super Kings</td>\n",
              "      <td>234.0</td>\n",
              "    </tr>\n",
              "    <tr>\n",
              "      <th>3</th>\n",
              "      <td>335983.0</td>\n",
              "      <td>Kings XI Punjab</td>\n",
              "      <td>196.0</td>\n",
              "    </tr>\n",
              "    <tr>\n",
              "      <th>4</th>\n",
              "      <td>335984.0</td>\n",
              "      <td>Delhi Daredevils</td>\n",
              "      <td>122.0</td>\n",
              "    </tr>\n",
              "    <tr>\n",
              "      <th>...</th>\n",
              "      <td>...</td>\n",
              "      <td>...</td>\n",
              "      <td>...</td>\n",
              "    </tr>\n",
              "    <tr>\n",
              "      <th>1625</th>\n",
              "      <td>1237178.0</td>\n",
              "      <td>Sunrisers Hyderabad</td>\n",
              "      <td>122.0</td>\n",
              "    </tr>\n",
              "    <tr>\n",
              "      <th>1626</th>\n",
              "      <td>1237180.0</td>\n",
              "      <td>Delhi Capitals</td>\n",
              "      <td>181.0</td>\n",
              "    </tr>\n",
              "    <tr>\n",
              "      <th>1627</th>\n",
              "      <td>1237180.0</td>\n",
              "      <td>Sunrisers Hyderabad</td>\n",
              "      <td>166.0</td>\n",
              "    </tr>\n",
              "    <tr>\n",
              "      <th>1628</th>\n",
              "      <td>1237181.0</td>\n",
              "      <td>Delhi Capitals</td>\n",
              "      <td>152.0</td>\n",
              "    </tr>\n",
              "    <tr>\n",
              "      <th>1629</th>\n",
              "      <td>1237181.0</td>\n",
              "      <td>Mumbai Indians</td>\n",
              "      <td>153.0</td>\n",
              "    </tr>\n",
              "  </tbody>\n",
              "</table>\n",
              "<p>1630 rows × 3 columns</p>\n",
              "</div>"
            ],
            "text/plain": [
              "       match_id                 batting_team  batsman_runs\n",
              "0      335982.0        Kolkata Knight Riders         205.0\n",
              "1      335982.0  Royal Challengers Bangalore          63.0\n",
              "2      335983.0          Chennai Super Kings         234.0\n",
              "3      335983.0              Kings XI Punjab         196.0\n",
              "4      335984.0             Delhi Daredevils         122.0\n",
              "...         ...                          ...           ...\n",
              "1625  1237178.0          Sunrisers Hyderabad         122.0\n",
              "1626  1237180.0               Delhi Capitals         181.0\n",
              "1627  1237180.0          Sunrisers Hyderabad         166.0\n",
              "1628  1237181.0               Delhi Capitals         152.0\n",
              "1629  1237181.0               Mumbai Indians         153.0\n",
              "\n",
              "[1630 rows x 3 columns]"
            ]
          },
          "metadata": {
            "tags": []
          },
          "execution_count": 510
        }
      ]
    },
    {
      "cell_type": "code",
      "metadata": {
        "colab": {
          "base_uri": "https://localhost:8080/"
        },
        "id": "AG4TfpAXNh47",
        "outputId": "d44968dc-db9c-4eeb-d520-7f6ce639a304"
      },
      "source": [
        "match = pd.read_csv(\"data/matches.csv\")\n",
        "match = match[match['winner'].isnull() != True]\n",
        "teams = match.groupby(['id', 'team1', 'team2'])['winner'].sum().reset_index()\n",
        "teams['id']"
      ],
      "execution_count": 511,
      "outputs": [
        {
          "output_type": "execute_result",
          "data": {
            "text/plain": [
              "0       335982\n",
              "1       335983\n",
              "2       335984\n",
              "3       335985\n",
              "4       335986\n",
              "        ...   \n",
              "807    1216547\n",
              "808    1237177\n",
              "809    1237178\n",
              "810    1237180\n",
              "811    1237181\n",
              "Name: id, Length: 812, dtype: int64"
            ]
          },
          "metadata": {
            "tags": []
          },
          "execution_count": 511
        }
      ]
    },
    {
      "cell_type": "code",
      "metadata": {
        "colab": {
          "base_uri": "https://localhost:8080/",
          "height": 419
        },
        "id": "iLMj2va-Nh48",
        "outputId": "1b7c4f29-8338-4ab7-fb87-16068de265e9"
      },
      "source": [
        "teams"
      ],
      "execution_count": 512,
      "outputs": [
        {
          "output_type": "execute_result",
          "data": {
            "text/html": [
              "<div>\n",
              "<style scoped>\n",
              "    .dataframe tbody tr th:only-of-type {\n",
              "        vertical-align: middle;\n",
              "    }\n",
              "\n",
              "    .dataframe tbody tr th {\n",
              "        vertical-align: top;\n",
              "    }\n",
              "\n",
              "    .dataframe thead th {\n",
              "        text-align: right;\n",
              "    }\n",
              "</style>\n",
              "<table border=\"1\" class=\"dataframe\">\n",
              "  <thead>\n",
              "    <tr style=\"text-align: right;\">\n",
              "      <th></th>\n",
              "      <th>id</th>\n",
              "      <th>team1</th>\n",
              "      <th>team2</th>\n",
              "      <th>winner</th>\n",
              "    </tr>\n",
              "  </thead>\n",
              "  <tbody>\n",
              "    <tr>\n",
              "      <th>0</th>\n",
              "      <td>335982</td>\n",
              "      <td>Royal Challengers Bangalore</td>\n",
              "      <td>Kolkata Knight Riders</td>\n",
              "      <td>Kolkata Knight Riders</td>\n",
              "    </tr>\n",
              "    <tr>\n",
              "      <th>1</th>\n",
              "      <td>335983</td>\n",
              "      <td>Kings XI Punjab</td>\n",
              "      <td>Chennai Super Kings</td>\n",
              "      <td>Chennai Super Kings</td>\n",
              "    </tr>\n",
              "    <tr>\n",
              "      <th>2</th>\n",
              "      <td>335984</td>\n",
              "      <td>Delhi Daredevils</td>\n",
              "      <td>Rajasthan Royals</td>\n",
              "      <td>Delhi Daredevils</td>\n",
              "    </tr>\n",
              "    <tr>\n",
              "      <th>3</th>\n",
              "      <td>335985</td>\n",
              "      <td>Mumbai Indians</td>\n",
              "      <td>Royal Challengers Bangalore</td>\n",
              "      <td>Royal Challengers Bangalore</td>\n",
              "    </tr>\n",
              "    <tr>\n",
              "      <th>4</th>\n",
              "      <td>335986</td>\n",
              "      <td>Kolkata Knight Riders</td>\n",
              "      <td>Deccan Chargers</td>\n",
              "      <td>Kolkata Knight Riders</td>\n",
              "    </tr>\n",
              "    <tr>\n",
              "      <th>...</th>\n",
              "      <td>...</td>\n",
              "      <td>...</td>\n",
              "      <td>...</td>\n",
              "      <td>...</td>\n",
              "    </tr>\n",
              "    <tr>\n",
              "      <th>807</th>\n",
              "      <td>1216547</td>\n",
              "      <td>Royal Challengers Bangalore</td>\n",
              "      <td>Mumbai Indians</td>\n",
              "      <td>Royal Challengers Bangalore</td>\n",
              "    </tr>\n",
              "    <tr>\n",
              "      <th>808</th>\n",
              "      <td>1237177</td>\n",
              "      <td>Mumbai Indians</td>\n",
              "      <td>Delhi Capitals</td>\n",
              "      <td>Mumbai Indians</td>\n",
              "    </tr>\n",
              "    <tr>\n",
              "      <th>809</th>\n",
              "      <td>1237178</td>\n",
              "      <td>Royal Challengers Bangalore</td>\n",
              "      <td>Sunrisers Hyderabad</td>\n",
              "      <td>Sunrisers Hyderabad</td>\n",
              "    </tr>\n",
              "    <tr>\n",
              "      <th>810</th>\n",
              "      <td>1237180</td>\n",
              "      <td>Delhi Capitals</td>\n",
              "      <td>Sunrisers Hyderabad</td>\n",
              "      <td>Delhi Capitals</td>\n",
              "    </tr>\n",
              "    <tr>\n",
              "      <th>811</th>\n",
              "      <td>1237181</td>\n",
              "      <td>Delhi Capitals</td>\n",
              "      <td>Mumbai Indians</td>\n",
              "      <td>Mumbai Indians</td>\n",
              "    </tr>\n",
              "  </tbody>\n",
              "</table>\n",
              "<p>812 rows × 4 columns</p>\n",
              "</div>"
            ],
            "text/plain": [
              "          id  ...                       winner\n",
              "0     335982  ...        Kolkata Knight Riders\n",
              "1     335983  ...          Chennai Super Kings\n",
              "2     335984  ...             Delhi Daredevils\n",
              "3     335985  ...  Royal Challengers Bangalore\n",
              "4     335986  ...        Kolkata Knight Riders\n",
              "..       ...  ...                          ...\n",
              "807  1216547  ...  Royal Challengers Bangalore\n",
              "808  1237177  ...               Mumbai Indians\n",
              "809  1237178  ...          Sunrisers Hyderabad\n",
              "810  1237180  ...               Delhi Capitals\n",
              "811  1237181  ...               Mumbai Indians\n",
              "\n",
              "[812 rows x 4 columns]"
            ]
          },
          "metadata": {
            "tags": []
          },
          "execution_count": 512
        }
      ]
    },
    {
      "cell_type": "code",
      "metadata": {
        "id": "pndLhBWFNh49"
      },
      "source": [
        "# teams = teams[teams['id']!= [301]]\n",
        "# batsmen = batsmen[batsmen['match_id'] != [301, 545]]"
      ],
      "execution_count": 513,
      "outputs": []
    },
    {
      "cell_type": "code",
      "metadata": {
        "id": "6qzy19s0Nh49"
      },
      "source": [
        "append_dict = {'match_id': list(teams['id']),\n",
        "              'team1': list(teams['team2']),\n",
        "              'team2': list(teams['team1']),\n",
        "              'team1_score': [],\n",
        "              'team2_score': [],\n",
        "               'winner': list(teams['winner'])\n",
        "              }\n",
        "\n",
        "for match_id, team in zip(list(teams['id']), list(teams['team1'])):\n",
        "    append_dict['team1_score'].append(int(batsmen.query('match_id == @match_id and batting_team == @team')['batsman_runs']))\n",
        "\n",
        "for match_id, team in zip(list(teams['id']), list(teams['team2'])):\n",
        "    append_dict['team2_score'].append(int(batsmen.query('match_id == @match_id and batting_team == @team')['batsman_runs']))\n",
        "  \n",
        "df = pd.DataFrame(append_dict)\n",
        "    "
      ],
      "execution_count": 514,
      "outputs": []
    },
    {
      "cell_type": "code",
      "metadata": {
        "colab": {
          "base_uri": "https://localhost:8080/",
          "height": 419
        },
        "id": "MqKGIGG2Nh5C",
        "outputId": "9100b0ce-5b43-48ed-88c7-cc0681f9ba73"
      },
      "source": [
        "df"
      ],
      "execution_count": 515,
      "outputs": [
        {
          "output_type": "execute_result",
          "data": {
            "text/html": [
              "<div>\n",
              "<style scoped>\n",
              "    .dataframe tbody tr th:only-of-type {\n",
              "        vertical-align: middle;\n",
              "    }\n",
              "\n",
              "    .dataframe tbody tr th {\n",
              "        vertical-align: top;\n",
              "    }\n",
              "\n",
              "    .dataframe thead th {\n",
              "        text-align: right;\n",
              "    }\n",
              "</style>\n",
              "<table border=\"1\" class=\"dataframe\">\n",
              "  <thead>\n",
              "    <tr style=\"text-align: right;\">\n",
              "      <th></th>\n",
              "      <th>match_id</th>\n",
              "      <th>team1</th>\n",
              "      <th>team2</th>\n",
              "      <th>team1_score</th>\n",
              "      <th>team2_score</th>\n",
              "      <th>winner</th>\n",
              "    </tr>\n",
              "  </thead>\n",
              "  <tbody>\n",
              "    <tr>\n",
              "      <th>0</th>\n",
              "      <td>335982</td>\n",
              "      <td>Kolkata Knight Riders</td>\n",
              "      <td>Royal Challengers Bangalore</td>\n",
              "      <td>63</td>\n",
              "      <td>205</td>\n",
              "      <td>Kolkata Knight Riders</td>\n",
              "    </tr>\n",
              "    <tr>\n",
              "      <th>1</th>\n",
              "      <td>335983</td>\n",
              "      <td>Chennai Super Kings</td>\n",
              "      <td>Kings XI Punjab</td>\n",
              "      <td>196</td>\n",
              "      <td>234</td>\n",
              "      <td>Chennai Super Kings</td>\n",
              "    </tr>\n",
              "    <tr>\n",
              "      <th>2</th>\n",
              "      <td>335984</td>\n",
              "      <td>Rajasthan Royals</td>\n",
              "      <td>Delhi Daredevils</td>\n",
              "      <td>122</td>\n",
              "      <td>122</td>\n",
              "      <td>Delhi Daredevils</td>\n",
              "    </tr>\n",
              "    <tr>\n",
              "      <th>3</th>\n",
              "      <td>335985</td>\n",
              "      <td>Royal Challengers Bangalore</td>\n",
              "      <td>Mumbai Indians</td>\n",
              "      <td>154</td>\n",
              "      <td>161</td>\n",
              "      <td>Royal Challengers Bangalore</td>\n",
              "    </tr>\n",
              "    <tr>\n",
              "      <th>4</th>\n",
              "      <td>335986</td>\n",
              "      <td>Deccan Chargers</td>\n",
              "      <td>Kolkata Knight Riders</td>\n",
              "      <td>84</td>\n",
              "      <td>100</td>\n",
              "      <td>Kolkata Knight Riders</td>\n",
              "    </tr>\n",
              "    <tr>\n",
              "      <th>...</th>\n",
              "      <td>...</td>\n",
              "      <td>...</td>\n",
              "      <td>...</td>\n",
              "      <td>...</td>\n",
              "      <td>...</td>\n",
              "      <td>...</td>\n",
              "    </tr>\n",
              "    <tr>\n",
              "      <th>807</th>\n",
              "      <td>1216547</td>\n",
              "      <td>Mumbai Indians</td>\n",
              "      <td>Royal Challengers Bangalore</td>\n",
              "      <td>191</td>\n",
              "      <td>196</td>\n",
              "      <td>Royal Challengers Bangalore</td>\n",
              "    </tr>\n",
              "    <tr>\n",
              "      <th>808</th>\n",
              "      <td>1237177</td>\n",
              "      <td>Delhi Capitals</td>\n",
              "      <td>Mumbai Indians</td>\n",
              "      <td>196</td>\n",
              "      <td>137</td>\n",
              "      <td>Mumbai Indians</td>\n",
              "    </tr>\n",
              "    <tr>\n",
              "      <th>809</th>\n",
              "      <td>1237178</td>\n",
              "      <td>Sunrisers Hyderabad</td>\n",
              "      <td>Royal Challengers Bangalore</td>\n",
              "      <td>127</td>\n",
              "      <td>122</td>\n",
              "      <td>Sunrisers Hyderabad</td>\n",
              "    </tr>\n",
              "    <tr>\n",
              "      <th>810</th>\n",
              "      <td>1237180</td>\n",
              "      <td>Sunrisers Hyderabad</td>\n",
              "      <td>Delhi Capitals</td>\n",
              "      <td>181</td>\n",
              "      <td>166</td>\n",
              "      <td>Delhi Capitals</td>\n",
              "    </tr>\n",
              "    <tr>\n",
              "      <th>811</th>\n",
              "      <td>1237181</td>\n",
              "      <td>Mumbai Indians</td>\n",
              "      <td>Delhi Capitals</td>\n",
              "      <td>152</td>\n",
              "      <td>153</td>\n",
              "      <td>Mumbai Indians</td>\n",
              "    </tr>\n",
              "  </tbody>\n",
              "</table>\n",
              "<p>812 rows × 6 columns</p>\n",
              "</div>"
            ],
            "text/plain": [
              "     match_id  ...                       winner\n",
              "0      335982  ...        Kolkata Knight Riders\n",
              "1      335983  ...          Chennai Super Kings\n",
              "2      335984  ...             Delhi Daredevils\n",
              "3      335985  ...  Royal Challengers Bangalore\n",
              "4      335986  ...        Kolkata Knight Riders\n",
              "..        ...  ...                          ...\n",
              "807   1216547  ...  Royal Challengers Bangalore\n",
              "808   1237177  ...               Mumbai Indians\n",
              "809   1237178  ...          Sunrisers Hyderabad\n",
              "810   1237180  ...               Delhi Capitals\n",
              "811   1237181  ...               Mumbai Indians\n",
              "\n",
              "[812 rows x 6 columns]"
            ]
          },
          "metadata": {
            "tags": []
          },
          "execution_count": 515
        }
      ]
    },
    {
      "cell_type": "code",
      "metadata": {
        "colab": {
          "base_uri": "https://localhost:8080/",
          "height": 204
        },
        "id": "mVgQ3Wm1Nh5D",
        "outputId": "35564e01-f84e-4813-ba59-99b281dc6639"
      },
      "source": [
        "\n",
        "team_encodings = {\n",
        "    'Mumbai Indians': 1,\n",
        "    'Kolkata Knight Riders': 2,\n",
        "    'Royal Challengers Bangalore': 3,\n",
        "    'Deccan Chargers': 4,\n",
        "    'Chennai Super Kings': 5,    \n",
        "    'Rajasthan Royals': 6,\n",
        "    'Delhi Daredevils': 7,\n",
        "    'Gujarat Lions': 8,\n",
        "    'Kings XI Punjab': 9,\n",
        "    'Sunrisers Hyderabad': 10,\n",
        "    'Rising Pune Supergiants': 11,\n",
        "    'Rising Pune Supergiant': 11,\n",
        "    'Kochi Tuskers Kerala':12,\n",
        "    'Pune Warriors': 13,\n",
        "    'Delhi Capitals': 14,\n",
        "    'Draw': 15\n",
        "}\n",
        "\n",
        "team_encode_dict = {'team1': team_encodings,\n",
        "                    'team2': team_encodings,\n",
        "                    'toss_winner': team_encodings,\n",
        "                    'winner': team_encodings\n",
        "                   }\n",
        "\n",
        "df.replace(team_encode_dict, inplace=True)\n",
        "df.head()"
      ],
      "execution_count": 516,
      "outputs": [
        {
          "output_type": "execute_result",
          "data": {
            "text/html": [
              "<div>\n",
              "<style scoped>\n",
              "    .dataframe tbody tr th:only-of-type {\n",
              "        vertical-align: middle;\n",
              "    }\n",
              "\n",
              "    .dataframe tbody tr th {\n",
              "        vertical-align: top;\n",
              "    }\n",
              "\n",
              "    .dataframe thead th {\n",
              "        text-align: right;\n",
              "    }\n",
              "</style>\n",
              "<table border=\"1\" class=\"dataframe\">\n",
              "  <thead>\n",
              "    <tr style=\"text-align: right;\">\n",
              "      <th></th>\n",
              "      <th>match_id</th>\n",
              "      <th>team1</th>\n",
              "      <th>team2</th>\n",
              "      <th>team1_score</th>\n",
              "      <th>team2_score</th>\n",
              "      <th>winner</th>\n",
              "    </tr>\n",
              "  </thead>\n",
              "  <tbody>\n",
              "    <tr>\n",
              "      <th>0</th>\n",
              "      <td>335982</td>\n",
              "      <td>2</td>\n",
              "      <td>3</td>\n",
              "      <td>63</td>\n",
              "      <td>205</td>\n",
              "      <td>2</td>\n",
              "    </tr>\n",
              "    <tr>\n",
              "      <th>1</th>\n",
              "      <td>335983</td>\n",
              "      <td>5</td>\n",
              "      <td>9</td>\n",
              "      <td>196</td>\n",
              "      <td>234</td>\n",
              "      <td>5</td>\n",
              "    </tr>\n",
              "    <tr>\n",
              "      <th>2</th>\n",
              "      <td>335984</td>\n",
              "      <td>6</td>\n",
              "      <td>7</td>\n",
              "      <td>122</td>\n",
              "      <td>122</td>\n",
              "      <td>7</td>\n",
              "    </tr>\n",
              "    <tr>\n",
              "      <th>3</th>\n",
              "      <td>335985</td>\n",
              "      <td>3</td>\n",
              "      <td>1</td>\n",
              "      <td>154</td>\n",
              "      <td>161</td>\n",
              "      <td>3</td>\n",
              "    </tr>\n",
              "    <tr>\n",
              "      <th>4</th>\n",
              "      <td>335986</td>\n",
              "      <td>4</td>\n",
              "      <td>2</td>\n",
              "      <td>84</td>\n",
              "      <td>100</td>\n",
              "      <td>2</td>\n",
              "    </tr>\n",
              "  </tbody>\n",
              "</table>\n",
              "</div>"
            ],
            "text/plain": [
              "   match_id  team1  team2  team1_score  team2_score  winner\n",
              "0    335982      2      3           63          205       2\n",
              "1    335983      5      9          196          234       5\n",
              "2    335984      6      7          122          122       7\n",
              "3    335985      3      1          154          161       3\n",
              "4    335986      4      2           84          100       2"
            ]
          },
          "metadata": {
            "tags": []
          },
          "execution_count": 516
        }
      ]
    },
    {
      "cell_type": "code",
      "metadata": {
        "colab": {
          "base_uri": "https://localhost:8080/"
        },
        "id": "Ka1P_6zrNh5G",
        "outputId": "e5b94cdf-0b76-4fec-9ed9-e722e3ec4cf1"
      },
      "source": [
        "df.info()"
      ],
      "execution_count": 517,
      "outputs": [
        {
          "output_type": "stream",
          "text": [
            "<class 'pandas.core.frame.DataFrame'>\n",
            "RangeIndex: 812 entries, 0 to 811\n",
            "Data columns (total 6 columns):\n",
            " #   Column       Non-Null Count  Dtype\n",
            "---  ------       --------------  -----\n",
            " 0   match_id     812 non-null    int64\n",
            " 1   team1        812 non-null    int64\n",
            " 2   team2        812 non-null    int64\n",
            " 3   team1_score  812 non-null    int64\n",
            " 4   team2_score  812 non-null    int64\n",
            " 5   winner       812 non-null    int64\n",
            "dtypes: int64(6)\n",
            "memory usage: 38.2 KB\n"
          ],
          "name": "stdout"
        }
      ]
    },
    {
      "cell_type": "code",
      "metadata": {
        "colab": {
          "base_uri": "https://localhost:8080/"
        },
        "id": "UoLLL8ryNh5H",
        "outputId": "0fa3a0a6-04bd-4e2e-c361-e61fa7199e1c"
      },
      "source": [
        "cols_to_use = match_df.columns.difference(df.columns)\n",
        "cols_to_use"
      ],
      "execution_count": 518,
      "outputs": [
        {
          "output_type": "execute_result",
          "data": {
            "text/plain": [
              "Index(['city', 'id', 'toss_decision', 'toss_winner', 'venue'], dtype='object')"
            ]
          },
          "metadata": {
            "tags": []
          },
          "execution_count": 518
        }
      ]
    },
    {
      "cell_type": "code",
      "metadata": {
        "id": "2mxlrOzTNh5I"
      },
      "source": [
        "merged_df = pd.merge(df, match_df[cols_to_use], left_on='match_id', right_on='id', how='outer')\n",
        "merged_df = merged_df.dropna()\n",
        "merged_df = merged_df.drop('id', axis=1)"
      ],
      "execution_count": 519,
      "outputs": []
    },
    {
      "cell_type": "code",
      "metadata": {
        "colab": {
          "base_uri": "https://localhost:8080/",
          "height": 419
        },
        "id": "x6lYazHdNh5Q",
        "outputId": "a25668a2-32f7-470f-ad2e-29439bb89299"
      },
      "source": [
        "merged_df"
      ],
      "execution_count": 520,
      "outputs": [
        {
          "output_type": "execute_result",
          "data": {
            "text/html": [
              "<div>\n",
              "<style scoped>\n",
              "    .dataframe tbody tr th:only-of-type {\n",
              "        vertical-align: middle;\n",
              "    }\n",
              "\n",
              "    .dataframe tbody tr th {\n",
              "        vertical-align: top;\n",
              "    }\n",
              "\n",
              "    .dataframe thead th {\n",
              "        text-align: right;\n",
              "    }\n",
              "</style>\n",
              "<table border=\"1\" class=\"dataframe\">\n",
              "  <thead>\n",
              "    <tr style=\"text-align: right;\">\n",
              "      <th></th>\n",
              "      <th>match_id</th>\n",
              "      <th>team1</th>\n",
              "      <th>team2</th>\n",
              "      <th>team1_score</th>\n",
              "      <th>team2_score</th>\n",
              "      <th>winner</th>\n",
              "      <th>city</th>\n",
              "      <th>toss_decision</th>\n",
              "      <th>toss_winner</th>\n",
              "      <th>venue</th>\n",
              "    </tr>\n",
              "  </thead>\n",
              "  <tbody>\n",
              "    <tr>\n",
              "      <th>0</th>\n",
              "      <td>335982.0</td>\n",
              "      <td>2.0</td>\n",
              "      <td>3.0</td>\n",
              "      <td>63.0</td>\n",
              "      <td>205.0</td>\n",
              "      <td>2.0</td>\n",
              "      <td>2</td>\n",
              "      <td>1</td>\n",
              "      <td>3</td>\n",
              "      <td>14</td>\n",
              "    </tr>\n",
              "    <tr>\n",
              "      <th>1</th>\n",
              "      <td>335983.0</td>\n",
              "      <td>5.0</td>\n",
              "      <td>9.0</td>\n",
              "      <td>196.0</td>\n",
              "      <td>234.0</td>\n",
              "      <td>5.0</td>\n",
              "      <td>7</td>\n",
              "      <td>0</td>\n",
              "      <td>5</td>\n",
              "      <td>23</td>\n",
              "    </tr>\n",
              "    <tr>\n",
              "      <th>2</th>\n",
              "      <td>335984.0</td>\n",
              "      <td>6.0</td>\n",
              "      <td>7.0</td>\n",
              "      <td>122.0</td>\n",
              "      <td>122.0</td>\n",
              "      <td>7.0</td>\n",
              "      <td>10</td>\n",
              "      <td>0</td>\n",
              "      <td>6</td>\n",
              "      <td>8</td>\n",
              "    </tr>\n",
              "    <tr>\n",
              "      <th>3</th>\n",
              "      <td>335985.0</td>\n",
              "      <td>3.0</td>\n",
              "      <td>1.0</td>\n",
              "      <td>154.0</td>\n",
              "      <td>161.0</td>\n",
              "      <td>3.0</td>\n",
              "      <td>23</td>\n",
              "      <td>0</td>\n",
              "      <td>1</td>\n",
              "      <td>35</td>\n",
              "    </tr>\n",
              "    <tr>\n",
              "      <th>4</th>\n",
              "      <td>335986.0</td>\n",
              "      <td>4.0</td>\n",
              "      <td>2.0</td>\n",
              "      <td>84.0</td>\n",
              "      <td>100.0</td>\n",
              "      <td>2.0</td>\n",
              "      <td>22</td>\n",
              "      <td>0</td>\n",
              "      <td>4</td>\n",
              "      <td>7</td>\n",
              "    </tr>\n",
              "    <tr>\n",
              "      <th>...</th>\n",
              "      <td>...</td>\n",
              "      <td>...</td>\n",
              "      <td>...</td>\n",
              "      <td>...</td>\n",
              "      <td>...</td>\n",
              "      <td>...</td>\n",
              "      <td>...</td>\n",
              "      <td>...</td>\n",
              "      <td>...</td>\n",
              "      <td>...</td>\n",
              "    </tr>\n",
              "    <tr>\n",
              "      <th>807</th>\n",
              "      <td>1216547.0</td>\n",
              "      <td>1.0</td>\n",
              "      <td>3.0</td>\n",
              "      <td>191.0</td>\n",
              "      <td>196.0</td>\n",
              "      <td>3.0</td>\n",
              "      <td>12</td>\n",
              "      <td>1</td>\n",
              "      <td>1</td>\n",
              "      <td>6</td>\n",
              "    </tr>\n",
              "    <tr>\n",
              "      <th>808</th>\n",
              "      <td>1237177.0</td>\n",
              "      <td>14.0</td>\n",
              "      <td>1.0</td>\n",
              "      <td>196.0</td>\n",
              "      <td>137.0</td>\n",
              "      <td>1.0</td>\n",
              "      <td>12</td>\n",
              "      <td>1</td>\n",
              "      <td>14</td>\n",
              "      <td>6</td>\n",
              "    </tr>\n",
              "    <tr>\n",
              "      <th>809</th>\n",
              "      <td>1237178.0</td>\n",
              "      <td>10.0</td>\n",
              "      <td>3.0</td>\n",
              "      <td>127.0</td>\n",
              "      <td>122.0</td>\n",
              "      <td>10.0</td>\n",
              "      <td>0</td>\n",
              "      <td>1</td>\n",
              "      <td>10</td>\n",
              "      <td>30</td>\n",
              "    </tr>\n",
              "    <tr>\n",
              "      <th>810</th>\n",
              "      <td>1237180.0</td>\n",
              "      <td>10.0</td>\n",
              "      <td>14.0</td>\n",
              "      <td>181.0</td>\n",
              "      <td>166.0</td>\n",
              "      <td>14.0</td>\n",
              "      <td>0</td>\n",
              "      <td>0</td>\n",
              "      <td>14</td>\n",
              "      <td>30</td>\n",
              "    </tr>\n",
              "    <tr>\n",
              "      <th>811</th>\n",
              "      <td>1237181.0</td>\n",
              "      <td>1.0</td>\n",
              "      <td>14.0</td>\n",
              "      <td>152.0</td>\n",
              "      <td>153.0</td>\n",
              "      <td>1.0</td>\n",
              "      <td>12</td>\n",
              "      <td>0</td>\n",
              "      <td>14</td>\n",
              "      <td>6</td>\n",
              "    </tr>\n",
              "  </tbody>\n",
              "</table>\n",
              "<p>812 rows × 10 columns</p>\n",
              "</div>"
            ],
            "text/plain": [
              "      match_id  team1  team2  ...  toss_decision  toss_winner  venue\n",
              "0     335982.0    2.0    3.0  ...              1            3     14\n",
              "1     335983.0    5.0    9.0  ...              0            5     23\n",
              "2     335984.0    6.0    7.0  ...              0            6      8\n",
              "3     335985.0    3.0    1.0  ...              0            1     35\n",
              "4     335986.0    4.0    2.0  ...              0            4      7\n",
              "..         ...    ...    ...  ...            ...          ...    ...\n",
              "807  1216547.0    1.0    3.0  ...              1            1      6\n",
              "808  1237177.0   14.0    1.0  ...              1           14      6\n",
              "809  1237178.0   10.0    3.0  ...              1           10     30\n",
              "810  1237180.0   10.0   14.0  ...              0           14     30\n",
              "811  1237181.0    1.0   14.0  ...              0           14      6\n",
              "\n",
              "[812 rows x 10 columns]"
            ]
          },
          "metadata": {
            "tags": []
          },
          "execution_count": 520
        }
      ]
    },
    {
      "cell_type": "code",
      "metadata": {
        "colab": {
          "base_uri": "https://localhost:8080/",
          "height": 419
        },
        "id": "Kz8hkKz8Nh5Q",
        "outputId": "d46648d3-feac-4b23-feb1-bcafdf272605"
      },
      "source": [
        "def categorize(val):\n",
        "    if val < 50:\n",
        "        return 1\n",
        "    elif val >= 50 and val < 100:\n",
        "        return 2\n",
        "    elif val >= 100 and val < 150:\n",
        "        return 3\n",
        "    elif val >= 150 and val < 200:\n",
        "        return 4\n",
        "    else:\n",
        "        return 5\n",
        "\n",
        "cols = ['team1_score', 'team2_score']\n",
        "for col in cols:\n",
        "    merged_df[col] = merged_df[col].apply(categorize)\n",
        "    \n",
        "merged_df"
      ],
      "execution_count": 521,
      "outputs": [
        {
          "output_type": "execute_result",
          "data": {
            "text/html": [
              "<div>\n",
              "<style scoped>\n",
              "    .dataframe tbody tr th:only-of-type {\n",
              "        vertical-align: middle;\n",
              "    }\n",
              "\n",
              "    .dataframe tbody tr th {\n",
              "        vertical-align: top;\n",
              "    }\n",
              "\n",
              "    .dataframe thead th {\n",
              "        text-align: right;\n",
              "    }\n",
              "</style>\n",
              "<table border=\"1\" class=\"dataframe\">\n",
              "  <thead>\n",
              "    <tr style=\"text-align: right;\">\n",
              "      <th></th>\n",
              "      <th>match_id</th>\n",
              "      <th>team1</th>\n",
              "      <th>team2</th>\n",
              "      <th>team1_score</th>\n",
              "      <th>team2_score</th>\n",
              "      <th>winner</th>\n",
              "      <th>city</th>\n",
              "      <th>toss_decision</th>\n",
              "      <th>toss_winner</th>\n",
              "      <th>venue</th>\n",
              "    </tr>\n",
              "  </thead>\n",
              "  <tbody>\n",
              "    <tr>\n",
              "      <th>0</th>\n",
              "      <td>335982.0</td>\n",
              "      <td>2.0</td>\n",
              "      <td>3.0</td>\n",
              "      <td>2</td>\n",
              "      <td>5</td>\n",
              "      <td>2.0</td>\n",
              "      <td>2</td>\n",
              "      <td>1</td>\n",
              "      <td>3</td>\n",
              "      <td>14</td>\n",
              "    </tr>\n",
              "    <tr>\n",
              "      <th>1</th>\n",
              "      <td>335983.0</td>\n",
              "      <td>5.0</td>\n",
              "      <td>9.0</td>\n",
              "      <td>4</td>\n",
              "      <td>5</td>\n",
              "      <td>5.0</td>\n",
              "      <td>7</td>\n",
              "      <td>0</td>\n",
              "      <td>5</td>\n",
              "      <td>23</td>\n",
              "    </tr>\n",
              "    <tr>\n",
              "      <th>2</th>\n",
              "      <td>335984.0</td>\n",
              "      <td>6.0</td>\n",
              "      <td>7.0</td>\n",
              "      <td>3</td>\n",
              "      <td>3</td>\n",
              "      <td>7.0</td>\n",
              "      <td>10</td>\n",
              "      <td>0</td>\n",
              "      <td>6</td>\n",
              "      <td>8</td>\n",
              "    </tr>\n",
              "    <tr>\n",
              "      <th>3</th>\n",
              "      <td>335985.0</td>\n",
              "      <td>3.0</td>\n",
              "      <td>1.0</td>\n",
              "      <td>4</td>\n",
              "      <td>4</td>\n",
              "      <td>3.0</td>\n",
              "      <td>23</td>\n",
              "      <td>0</td>\n",
              "      <td>1</td>\n",
              "      <td>35</td>\n",
              "    </tr>\n",
              "    <tr>\n",
              "      <th>4</th>\n",
              "      <td>335986.0</td>\n",
              "      <td>4.0</td>\n",
              "      <td>2.0</td>\n",
              "      <td>2</td>\n",
              "      <td>3</td>\n",
              "      <td>2.0</td>\n",
              "      <td>22</td>\n",
              "      <td>0</td>\n",
              "      <td>4</td>\n",
              "      <td>7</td>\n",
              "    </tr>\n",
              "    <tr>\n",
              "      <th>...</th>\n",
              "      <td>...</td>\n",
              "      <td>...</td>\n",
              "      <td>...</td>\n",
              "      <td>...</td>\n",
              "      <td>...</td>\n",
              "      <td>...</td>\n",
              "      <td>...</td>\n",
              "      <td>...</td>\n",
              "      <td>...</td>\n",
              "      <td>...</td>\n",
              "    </tr>\n",
              "    <tr>\n",
              "      <th>807</th>\n",
              "      <td>1216547.0</td>\n",
              "      <td>1.0</td>\n",
              "      <td>3.0</td>\n",
              "      <td>4</td>\n",
              "      <td>4</td>\n",
              "      <td>3.0</td>\n",
              "      <td>12</td>\n",
              "      <td>1</td>\n",
              "      <td>1</td>\n",
              "      <td>6</td>\n",
              "    </tr>\n",
              "    <tr>\n",
              "      <th>808</th>\n",
              "      <td>1237177.0</td>\n",
              "      <td>14.0</td>\n",
              "      <td>1.0</td>\n",
              "      <td>4</td>\n",
              "      <td>3</td>\n",
              "      <td>1.0</td>\n",
              "      <td>12</td>\n",
              "      <td>1</td>\n",
              "      <td>14</td>\n",
              "      <td>6</td>\n",
              "    </tr>\n",
              "    <tr>\n",
              "      <th>809</th>\n",
              "      <td>1237178.0</td>\n",
              "      <td>10.0</td>\n",
              "      <td>3.0</td>\n",
              "      <td>3</td>\n",
              "      <td>3</td>\n",
              "      <td>10.0</td>\n",
              "      <td>0</td>\n",
              "      <td>1</td>\n",
              "      <td>10</td>\n",
              "      <td>30</td>\n",
              "    </tr>\n",
              "    <tr>\n",
              "      <th>810</th>\n",
              "      <td>1237180.0</td>\n",
              "      <td>10.0</td>\n",
              "      <td>14.0</td>\n",
              "      <td>4</td>\n",
              "      <td>4</td>\n",
              "      <td>14.0</td>\n",
              "      <td>0</td>\n",
              "      <td>0</td>\n",
              "      <td>14</td>\n",
              "      <td>30</td>\n",
              "    </tr>\n",
              "    <tr>\n",
              "      <th>811</th>\n",
              "      <td>1237181.0</td>\n",
              "      <td>1.0</td>\n",
              "      <td>14.0</td>\n",
              "      <td>4</td>\n",
              "      <td>4</td>\n",
              "      <td>1.0</td>\n",
              "      <td>12</td>\n",
              "      <td>0</td>\n",
              "      <td>14</td>\n",
              "      <td>6</td>\n",
              "    </tr>\n",
              "  </tbody>\n",
              "</table>\n",
              "<p>812 rows × 10 columns</p>\n",
              "</div>"
            ],
            "text/plain": [
              "      match_id  team1  team2  ...  toss_decision  toss_winner  venue\n",
              "0     335982.0    2.0    3.0  ...              1            3     14\n",
              "1     335983.0    5.0    9.0  ...              0            5     23\n",
              "2     335984.0    6.0    7.0  ...              0            6      8\n",
              "3     335985.0    3.0    1.0  ...              0            1     35\n",
              "4     335986.0    4.0    2.0  ...              0            4      7\n",
              "..         ...    ...    ...  ...            ...          ...    ...\n",
              "807  1216547.0    1.0    3.0  ...              1            1      6\n",
              "808  1237177.0   14.0    1.0  ...              1           14      6\n",
              "809  1237178.0   10.0    3.0  ...              1           10     30\n",
              "810  1237180.0   10.0   14.0  ...              0           14     30\n",
              "811  1237181.0    1.0   14.0  ...              0           14      6\n",
              "\n",
              "[812 rows x 10 columns]"
            ]
          },
          "metadata": {
            "tags": []
          },
          "execution_count": 521
        }
      ]
    },
    {
      "cell_type": "code",
      "metadata": {
        "colab": {
          "base_uri": "https://localhost:8080/",
          "height": 585
        },
        "id": "7Zqhi1w8Nh5R",
        "outputId": "06dc47da-2c2f-4151-9030-a09ff7e0457d"
      },
      "source": [
        "import seaborn as sns\n",
        "\n",
        "sns.set(rc={'figure.figsize':(12,8)})\n",
        "ax = sns.heatmap(merged_df.corr(), annot=True)"
      ],
      "execution_count": 522,
      "outputs": [
        {
          "output_type": "display_data",
          "data": {
            "image/png": "[encoded data removed]",
            "text/plain": [
              "<Figure size 864x576 with 2 Axes>"
            ]
          },
          "metadata": {
            "tags": []
          }
        }
      ]
    }
  ]
}